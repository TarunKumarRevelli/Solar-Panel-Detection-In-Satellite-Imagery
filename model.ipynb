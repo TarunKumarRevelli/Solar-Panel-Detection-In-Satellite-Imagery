{
 "cells": [
  {
   "cell_type": "markdown",
   "metadata": {},
   "source": [
    "Implementation of the YOLOv8n model"
   ]
  },
  {
   "cell_type": "code",
   "execution_count": null,
   "metadata": {},
   "outputs": [
    {
     "name": "stdout",
     "output_type": "stream",
     "text": [
      "Main project directory: .\n",
      "Data directory: .\\data\n",
      "Images directory: .\\data\\images\n",
      "Labels directory: .\\data\\labels\n",
      "Native Images directory: .\\data\\images\\native\n",
      "Native Labels directory: .\\data\\labels\\native\n"
     ]
    }
   ],
   "source": [
    "import os\n",
    "import random\n",
    "import shutil\n",
    "from pathlib import Path\n",
    "\n",
    "import cv2\n",
    "import matplotlib.pyplot as plt\n",
    "import numpy as np\n",
    "import supervision as sv\n",
    "from sklearn.model_selection import train_test_split\n",
    "from ultralytics import YOLO\n",
    "\n",
    "MAIN_PROJECT_DIR = \".\"  \n",
    "DATA_DIR = os.path.join(MAIN_PROJECT_DIR, \"data\")\n",
    "IMAGES_DIR = os.path.join(DATA_DIR, \"images\")\n",
    "LABELS_DIR = os.path.join(DATA_DIR, \"labels\")\n",
    "\n",
    "NATIVE_IMAGES_DIR = os.path.join(IMAGES_DIR, \"native\")\n",
    "NATIVE_LABELS_DIR = os.path.join(LABELS_DIR, \"native\")\n",
    "\n",
    "print(f\"Main project directory: {MAIN_PROJECT_DIR}\")\n",
    "print(f\"Data directory: {DATA_DIR}\")\n",
    "print(f\"Images directory: {IMAGES_DIR}\")\n",
    "print(f\"Labels directory: {LABELS_DIR}\")\n",
    "print(f\"Native Images directory: {NATIVE_IMAGES_DIR}\")\n",
    "print(f\"Native Labels directory: {NATIVE_LABELS_DIR}\")\n",
    "\n",
    "assert os.path.exists(NATIVE_IMAGES_DIR), f\"Directory not found: {NATIVE_IMAGES_DIR}\"\n",
    "assert os.path.exists(NATIVE_LABELS_DIR), f\"Directory not found: {NATIVE_LABELS_DIR}\"\n"
   ]
  },
  {
   "cell_type": "code",
   "execution_count": null,
   "metadata": {},
   "outputs": [
    {
     "name": "stdout",
     "output_type": "stream",
     "text": [
      "Number of training images: 2033\n",
      "Number of validation images: 254\n",
      "Number of test images: 255\n"
     ]
    }
   ],
   "source": [
    "TRAIN_DIR = os.path.join(DATA_DIR, \"train\")\n",
    "VAL_DIR = os.path.join(DATA_DIR, \"val\")\n",
    "TEST_DIR = os.path.join(DATA_DIR, \"test\")\n",
    "\n",
    "TRAIN_IMAGES_DIR = os.path.join(TRAIN_DIR, \"images\")\n",
    "TRAIN_LABELS_DIR = os.path.join(TRAIN_DIR, \"labels\")\n",
    "VAL_IMAGES_DIR = os.path.join(VAL_DIR, \"images\")\n",
    "VAL_LABELS_DIR = os.path.join(VAL_DIR, \"labels\")\n",
    "TEST_IMAGES_DIR = os.path.join(TEST_DIR, \"images\")\n",
    "TEST_LABELS_DIR = os.path.join(TEST_DIR, \"labels\")\n",
    "\n",
    "def create_directory(path):\n",
    "    if not os.path.exists(path):\n",
    "        os.makedirs(path)\n",
    "\n",
    "create_directory(TRAIN_DIR)\n",
    "create_directory(VAL_DIR)\n",
    "create_directory(TEST_DIR)\n",
    "create_directory(TRAIN_IMAGES_DIR)\n",
    "create_directory(TRAIN_LABELS_DIR)\n",
    "create_directory(VAL_IMAGES_DIR)\n",
    "create_directory(VAL_LABELS_DIR)\n",
    "create_directory(TEST_IMAGES_DIR)\n",
    "create_directory(TEST_LABELS_DIR)\n",
    "\n",
    "image_files = sorted(\n",
    "    [f for f in os.listdir(NATIVE_IMAGES_DIR) if f.endswith(\".tif\")]\n",
    ")  \n",
    "label_files = sorted([f for f in os.listdir(NATIVE_LABELS_DIR) if f.endswith(\".txt\")])\n",
    "\n",
    "assert len(image_files) == len(\n",
    "    label_files\n",
    "), \"The number of images and labels do not match.\"\n",
    "\n",
    "train_ratio = 0.8\n",
    "val_ratio = 0.1\n",
    "test_ratio = 0.1\n",
    "\n",
    "train_index = int(len(image_files) * train_ratio)\n",
    "val_index = int(len(image_files) * (train_ratio + val_ratio))\n",
    "\n",
    "train_images = image_files[:train_index]\n",
    "val_images = image_files[train_index:val_index]\n",
    "test_images = image_files[val_index:]\n",
    "\n",
    "train_labels = label_files[:train_index]\n",
    "val_labels = label_files[train_index:val_index]\n",
    "test_labels = label_files[val_index:]\n",
    "\n",
    "def move_files(images, labels, dest_images_dir, dest_labels_dir):\n",
    "    for image, label in zip(images, labels):\n",
    "        shutil.copy(os.path.join(NATIVE_IMAGES_DIR, image), dest_images_dir)\n",
    "        shutil.copy(os.path.join(NATIVE_LABELS_DIR, label), dest_labels_dir)\n",
    "\n",
    "move_files(train_images, train_labels, TRAIN_IMAGES_DIR, TRAIN_LABELS_DIR)\n",
    "move_files(val_images, val_labels, VAL_IMAGES_DIR, VAL_LABELS_DIR)\n",
    "move_files(test_images, test_labels, TEST_IMAGES_DIR, TEST_LABELS_DIR)\n",
    "\n",
    "print(f\"Number of training images: {len(train_images)}\")\n",
    "print(f\"Number of validation images: {len(val_images)}\")\n",
    "print(f\"Number of test images: {len(test_images)}\")\n"
   ]
  },
  {
   "cell_type": "code",
   "execution_count": null,
   "metadata": {},
   "outputs": [
    {
     "name": "stdout",
     "output_type": "stream",
     "text": [
      "data.yaml file created at: .\\data\\data.yaml\n"
     ]
    }
   ],
   "source": [
    "data_yaml_path = os.path.join(DATA_DIR, \"data.yaml\")\n",
    "num_classes = 1 \n",
    "\n",
    "with open(data_yaml_path, \"w\") as f:\n",
    "    f.write(f\"train: {TRAIN_IMAGES_DIR}\\n\")\n",
    "    f.write(f\"val: {VAL_IMAGES_DIR}\\n\")\n",
    "    f.write(f\"test: {TEST_IMAGES_DIR}\\n\")  \n",
    "    f.write(f\"nc: {num_classes}\\n\")\n",
    "    f.write(\"names: ['solar_panel']\\n\")\n",
    "\n",
    "print(f\"data.yaml file created at: {data_yaml_path}\")\n"
   ]
  },
  {
   "cell_type": "code",
   "execution_count": null,
   "metadata": {},
   "outputs": [
    {
     "name": "stdout",
     "output_type": "stream",
     "text": [
      "Ultralytics 8.3.80  Python-3.11.5 torch-2.6.0+cpu CPU (12th Gen Intel Core(TM) i5-1235U)\n",
      "\u001b[34m\u001b[1mengine\\trainer: \u001b[0mtask=detect, mode=train, model=yolov8n.pt, data=.\\data\\data.yaml, epochs=100, time=None, patience=100, batch=16, imgsz=416, save=True, save_period=-1, cache=False, device=None, workers=8, project=None, name=train3, exist_ok=False, pretrained=True, optimizer=auto, verbose=True, seed=0, deterministic=True, single_cls=False, rect=False, cos_lr=False, close_mosaic=10, resume=False, amp=True, fraction=1.0, profile=False, freeze=None, multi_scale=False, overlap_mask=True, mask_ratio=4, dropout=0.0, val=True, split=val, save_json=False, save_hybrid=False, conf=None, iou=0.7, max_det=300, half=False, dnn=False, plots=True, source=None, vid_stride=1, stream_buffer=False, visualize=False, augment=False, agnostic_nms=False, classes=None, retina_masks=False, embed=None, show=False, save_frames=False, save_txt=False, save_conf=False, save_crop=False, show_labels=True, show_conf=True, show_boxes=True, line_width=None, format=torchscript, keras=False, optimize=False, int8=False, dynamic=False, simplify=True, opset=None, workspace=None, nms=False, lr0=0.01, lrf=0.01, momentum=0.937, weight_decay=0.0005, warmup_epochs=3.0, warmup_momentum=0.8, warmup_bias_lr=0.1, box=7.5, cls=0.5, dfl=1.5, pose=12.0, kobj=1.0, nbs=64, hsv_h=0.015, hsv_s=0.7, hsv_v=0.4, degrees=0.0, translate=0.1, scale=0.5, shear=0.0, perspective=0.0, flipud=0.0, fliplr=0.5, bgr=0.0, mosaic=1.0, mixup=0.0, copy_paste=0.0, copy_paste_mode=flip, auto_augment=randaugment, erasing=0.4, crop_fraction=1.0, cfg=None, tracker=botsort.yaml, save_dir=runs\\detect\\train3\n",
      "Downloading https://ultralytics.com/assets/Arial.ttf to 'C:\\Users\\tarun\\AppData\\Roaming\\Ultralytics\\Arial.ttf'...\n"
     ]
    },
    {
     "name": "stderr",
     "output_type": "stream",
     "text": [
      "100%|██████████| 755k/755k [00:00<00:00, 1.30MB/s]\n"
     ]
    },
    {
     "name": "stdout",
     "output_type": "stream",
     "text": [
      "Overriding model.yaml nc=80 with nc=1\n",
      "\n",
      "                   from  n    params  module                                       arguments                     \n",
      "  0                  -1  1       464  ultralytics.nn.modules.conv.Conv             [3, 16, 3, 2]                 \n",
      "  1                  -1  1      4672  ultralytics.nn.modules.conv.Conv             [16, 32, 3, 2]                \n",
      "  2                  -1  1      7360  ultralytics.nn.modules.block.C2f             [32, 32, 1, True]             \n",
      "  3                  -1  1     18560  ultralytics.nn.modules.conv.Conv             [32, 64, 3, 2]                \n",
      "  4                  -1  2     49664  ultralytics.nn.modules.block.C2f             [64, 64, 2, True]             \n",
      "  5                  -1  1     73984  ultralytics.nn.modules.conv.Conv             [64, 128, 3, 2]               \n",
      "  6                  -1  2    197632  ultralytics.nn.modules.block.C2f             [128, 128, 2, True]           \n",
      "  7                  -1  1    295424  ultralytics.nn.modules.conv.Conv             [128, 256, 3, 2]              \n",
      "  8                  -1  1    460288  ultralytics.nn.modules.block.C2f             [256, 256, 1, True]           \n",
      "  9                  -1  1    164608  ultralytics.nn.modules.block.SPPF            [256, 256, 5]                 \n",
      " 10                  -1  1         0  torch.nn.modules.upsampling.Upsample         [None, 2, 'nearest']          \n",
      " 11             [-1, 6]  1         0  ultralytics.nn.modules.conv.Concat           [1]                           \n",
      " 12                  -1  1    148224  ultralytics.nn.modules.block.C2f             [384, 128, 1]                 \n",
      " 13                  -1  1         0  torch.nn.modules.upsampling.Upsample         [None, 2, 'nearest']          \n",
      " 14             [-1, 4]  1         0  ultralytics.nn.modules.conv.Concat           [1]                           \n",
      " 15                  -1  1     37248  ultralytics.nn.modules.block.C2f             [192, 64, 1]                  \n",
      " 16                  -1  1     36992  ultralytics.nn.modules.conv.Conv             [64, 64, 3, 2]                \n",
      " 17            [-1, 12]  1         0  ultralytics.nn.modules.conv.Concat           [1]                           \n",
      " 18                  -1  1    123648  ultralytics.nn.modules.block.C2f             [192, 128, 1]                 \n",
      " 19                  -1  1    147712  ultralytics.nn.modules.conv.Conv             [128, 128, 3, 2]              \n",
      " 20             [-1, 9]  1         0  ultralytics.nn.modules.conv.Concat           [1]                           \n",
      " 21                  -1  1    493056  ultralytics.nn.modules.block.C2f             [384, 256, 1]                 \n",
      " 22        [15, 18, 21]  1    751507  ultralytics.nn.modules.head.Detect           [1, [64, 128, 256]]           \n",
      "Model summary: 129 layers, 3,011,043 parameters, 3,011,027 gradients, 8.2 GFLOPs\n",
      "\n",
      "Transferred 319/355 items from pretrained weights\n",
      "\u001b[34m\u001b[1mTensorBoard: \u001b[0mStart with 'tensorboard --logdir runs\\detect\\train3', view at http://localhost:6006/\n",
      "Freezing layer 'model.22.dfl.conv.weight'\n"
     ]
    },
    {
     "name": "stderr",
     "output_type": "stream",
     "text": [
      "\u001b[34m\u001b[1mtrain: \u001b[0mScanning C:\\Users\\tarun\\OneDrive\\Desktop\\Solar-Panel-Detection\\data\\train\\labels... 2033 images, 0 backgrounds, 206 corrupt: 100%|██████████| 2033/2033 [00:08<00:00, 236.87it/s]"
     ]
    },
    {
     "name": "stdout",
     "output_type": "stream",
     "text": [
      "\u001b[34m\u001b[1mtrain: \u001b[0mWARNING  C:\\Users\\tarun\\OneDrive\\Desktop\\Solar-Panel-Detection\\data\\train\\images\\solarpanels_native_1__x0_0_y0_6963_dxdy_416.tif: ignoring corrupt image/label: Label class 2 exceeds dataset class count 1. Possible class labels are 0-0\n",
      "\u001b[34m\u001b[1mtrain: \u001b[0mWARNING  C:\\Users\\tarun\\OneDrive\\Desktop\\Solar-Panel-Detection\\data\\train\\images\\solarpanels_native_1__x0_0_y0_7119_dxdy_416.tif: ignoring corrupt image/label: Label class 2 exceeds dataset class count 1. Possible class labels are 0-0\n",
      "\u001b[34m\u001b[1mtrain: \u001b[0mWARNING  C:\\Users\\tarun\\OneDrive\\Desktop\\Solar-Panel-Detection\\data\\train\\images\\solarpanels_native_1__x0_0_y0_7229_dxdy_416.tif: ignoring corrupt image/label: Label class 2 exceeds dataset class count 1. Possible class labels are 0-0\n",
      "\u001b[34m\u001b[1mtrain: \u001b[0mWARNING  C:\\Users\\tarun\\OneDrive\\Desktop\\Solar-Panel-Detection\\data\\train\\images\\solarpanels_native_1__x0_0_y0_7230_dxdy_416.tif: ignoring corrupt image/label: Label class 2 exceeds dataset class count 1. Possible class labels are 0-0\n",
      "\u001b[34m\u001b[1mtrain: \u001b[0mWARNING  C:\\Users\\tarun\\OneDrive\\Desktop\\Solar-Panel-Detection\\data\\train\\images\\solarpanels_native_1__x0_0_y0_7249_dxdy_416.tif: ignoring corrupt image/label: Label class 2 exceeds dataset class count 1. Possible class labels are 0-0\n",
      "\u001b[34m\u001b[1mtrain: \u001b[0mWARNING  C:\\Users\\tarun\\OneDrive\\Desktop\\Solar-Panel-Detection\\data\\train\\images\\solarpanels_native_1__x0_128_y0_7056_dxdy_416.tif: ignoring corrupt image/label: Label class 2 exceeds dataset class count 1. Possible class labels are 0-0\n",
      "\u001b[34m\u001b[1mtrain: \u001b[0mWARNING  C:\\Users\\tarun\\OneDrive\\Desktop\\Solar-Panel-Detection\\data\\train\\images\\solarpanels_native_1__x0_1300_y0_10050_dxdy_416.tif: ignoring corrupt image/label: Label class 2 exceeds dataset class count 1. Possible class labels are 0-0\n",
      "\u001b[34m\u001b[1mtrain: \u001b[0mWARNING  C:\\Users\\tarun\\OneDrive\\Desktop\\Solar-Panel-Detection\\data\\train\\images\\solarpanels_native_1__x0_1380_y0_10215_dxdy_416.tif: ignoring corrupt image/label: Label class 2 exceeds dataset class count 1. Possible class labels are 0-0\n",
      "\u001b[34m\u001b[1mtrain: \u001b[0mWARNING  C:\\Users\\tarun\\OneDrive\\Desktop\\Solar-Panel-Detection\\data\\train\\images\\solarpanels_native_1__x0_1398_y0_10006_dxdy_416.tif: ignoring corrupt image/label: Label class 2 exceeds dataset class count 1. Possible class labels are 0-0\n",
      "\u001b[34m\u001b[1mtrain: \u001b[0mWARNING  C:\\Users\\tarun\\OneDrive\\Desktop\\Solar-Panel-Detection\\data\\train\\images\\solarpanels_native_1__x0_139_y0_6989_dxdy_416.tif: ignoring corrupt image/label: Label class 2 exceeds dataset class count 1. Possible class labels are 0-0\n",
      "\u001b[34m\u001b[1mtrain: \u001b[0mWARNING  C:\\Users\\tarun\\OneDrive\\Desktop\\Solar-Panel-Detection\\data\\train\\images\\solarpanels_native_1__x0_1483_y0_10330_dxdy_416.tif: ignoring corrupt image/label: Label class 2 exceeds dataset class count 1. Possible class labels are 0-0\n",
      "\u001b[34m\u001b[1mtrain: \u001b[0mWARNING  C:\\Users\\tarun\\OneDrive\\Desktop\\Solar-Panel-Detection\\data\\train\\images\\solarpanels_native_1__x0_1501_y0_10325_dxdy_416.tif: ignoring corrupt image/label: Label class 2 exceeds dataset class count 1. Possible class labels are 0-0\n",
      "\u001b[34m\u001b[1mtrain: \u001b[0mWARNING  C:\\Users\\tarun\\OneDrive\\Desktop\\Solar-Panel-Detection\\data\\train\\images\\solarpanels_native_1__x0_1536_y0_10086_dxdy_416.tif: ignoring corrupt image/label: Label class 2 exceeds dataset class count 1. Possible class labels are 0-0\n",
      "\u001b[34m\u001b[1mtrain: \u001b[0mWARNING  C:\\Users\\tarun\\OneDrive\\Desktop\\Solar-Panel-Detection\\data\\train\\images\\solarpanels_native_1__x0_1762_y0_7503_dxdy_416.tif: ignoring corrupt image/label: Label class 2 exceeds dataset class count 1. Possible class labels are 0-0\n",
      "\u001b[34m\u001b[1mtrain: \u001b[0mWARNING  C:\\Users\\tarun\\OneDrive\\Desktop\\Solar-Panel-Detection\\data\\train\\images\\solarpanels_native_1__x0_1853_y0_7572_dxdy_416.tif: ignoring corrupt image/label: Label class 2 exceeds dataset class count 1. Possible class labels are 0-0\n",
      "\u001b[34m\u001b[1mtrain: \u001b[0mWARNING  C:\\Users\\tarun\\OneDrive\\Desktop\\Solar-Panel-Detection\\data\\train\\images\\solarpanels_native_1__x0_1951_y0_7656_dxdy_416.tif: ignoring corrupt image/label: Label class 2 exceeds dataset class count 1. Possible class labels are 0-0\n",
      "\u001b[34m\u001b[1mtrain: \u001b[0mWARNING  C:\\Users\\tarun\\OneDrive\\Desktop\\Solar-Panel-Detection\\data\\train\\images\\solarpanels_native_1__x0_1998_y0_7709_dxdy_416.tif: ignoring corrupt image/label: Label class 2 exceeds dataset class count 1. Possible class labels are 0-0\n",
      "\u001b[34m\u001b[1mtrain: \u001b[0mWARNING  C:\\Users\\tarun\\OneDrive\\Desktop\\Solar-Panel-Detection\\data\\train\\images\\solarpanels_native_1__x0_2068_y0_7597_dxdy_416.tif: ignoring corrupt image/label: Label class 2 exceeds dataset class count 1. Possible class labels are 0-0\n",
      "\u001b[34m\u001b[1mtrain: \u001b[0mWARNING  C:\\Users\\tarun\\OneDrive\\Desktop\\Solar-Panel-Detection\\data\\train\\images\\solarpanels_native_1__x0_2270_y0_8179_dxdy_416.tif: ignoring corrupt image/label: Label class 2 exceeds dataset class count 1. Possible class labels are 0-0\n",
      "\u001b[34m\u001b[1mtrain: \u001b[0mWARNING  C:\\Users\\tarun\\OneDrive\\Desktop\\Solar-Panel-Detection\\data\\train\\images\\solarpanels_native_1__x0_2300_y0_8080_dxdy_416.tif: ignoring corrupt image/label: Label class 2 exceeds dataset class count 1. Possible class labels are 0-0\n",
      "\u001b[34m\u001b[1mtrain: \u001b[0mWARNING  C:\\Users\\tarun\\OneDrive\\Desktop\\Solar-Panel-Detection\\data\\train\\images\\solarpanels_native_1__x0_2309_y0_8071_dxdy_416.tif: ignoring corrupt image/label: Label class 2 exceeds dataset class count 1. Possible class labels are 0-0\n",
      "\u001b[34m\u001b[1mtrain: \u001b[0mWARNING  C:\\Users\\tarun\\OneDrive\\Desktop\\Solar-Panel-Detection\\data\\train\\images\\solarpanels_native_1__x0_2311_y0_8124_dxdy_416.tif: ignoring corrupt image/label: Label class 2 exceeds dataset class count 1. Possible class labels are 0-0\n",
      "\u001b[34m\u001b[1mtrain: \u001b[0mWARNING  C:\\Users\\tarun\\OneDrive\\Desktop\\Solar-Panel-Detection\\data\\train\\images\\solarpanels_native_1__x0_2344_y0_8184_dxdy_416.tif: ignoring corrupt image/label: Label class 2 exceeds dataset class count 1. Possible class labels are 0-0\n",
      "\u001b[34m\u001b[1mtrain: \u001b[0mWARNING  C:\\Users\\tarun\\OneDrive\\Desktop\\Solar-Panel-Detection\\data\\train\\images\\solarpanels_native_1__x0_2362_y0_8220_dxdy_416.tif: ignoring corrupt image/label: Label class 2 exceeds dataset class count 1. Possible class labels are 0-0\n",
      "\u001b[34m\u001b[1mtrain: \u001b[0mWARNING  C:\\Users\\tarun\\OneDrive\\Desktop\\Solar-Panel-Detection\\data\\train\\images\\solarpanels_native_1__x0_2372_y0_8115_dxdy_416.tif: ignoring corrupt image/label: Label class 2 exceeds dataset class count 1. Possible class labels are 0-0\n",
      "\u001b[34m\u001b[1mtrain: \u001b[0mWARNING  C:\\Users\\tarun\\OneDrive\\Desktop\\Solar-Panel-Detection\\data\\train\\images\\solarpanels_native_1__x0_2399_y0_8081_dxdy_416.tif: ignoring corrupt image/label: Label class 2 exceeds dataset class count 1. Possible class labels are 0-0\n",
      "\u001b[34m\u001b[1mtrain: \u001b[0mWARNING  C:\\Users\\tarun\\OneDrive\\Desktop\\Solar-Panel-Detection\\data\\train\\images\\solarpanels_native_1__x0_23_y0_7094_dxdy_416.tif: ignoring corrupt image/label: Label class 2 exceeds dataset class count 1. Possible class labels are 0-0\n",
      "\u001b[34m\u001b[1mtrain: \u001b[0mWARNING  C:\\Users\\tarun\\OneDrive\\Desktop\\Solar-Panel-Detection\\data\\train\\images\\solarpanels_native_1__x0_299_y0_7578_dxdy_416.tif: ignoring corrupt image/label: Label class 2 exceeds dataset class count 1. Possible class labels are 0-0\n",
      "\u001b[34m\u001b[1mtrain: \u001b[0mWARNING  C:\\Users\\tarun\\OneDrive\\Desktop\\Solar-Panel-Detection\\data\\train\\images\\solarpanels_native_1__x0_3017_y0_4656_dxdy_416.tif: ignoring corrupt image/label: Label class 2 exceeds dataset class count 1. Possible class labels are 0-0\n",
      "\u001b[34m\u001b[1mtrain: \u001b[0mWARNING  C:\\Users\\tarun\\OneDrive\\Desktop\\Solar-Panel-Detection\\data\\train\\images\\solarpanels_native_1__x0_318_y0_7394_dxdy_416.tif: ignoring corrupt image/label: Label class 2 exceeds dataset class count 1. Possible class labels are 0-0\n",
      "\u001b[34m\u001b[1mtrain: \u001b[0mWARNING  C:\\Users\\tarun\\OneDrive\\Desktop\\Solar-Panel-Detection\\data\\train\\images\\solarpanels_native_1__x0_338_y0_7199_dxdy_416.tif: ignoring corrupt image/label: Label class 2 exceeds dataset class count 1. Possible class labels are 0-0\n",
      "\u001b[34m\u001b[1mtrain: \u001b[0mWARNING  C:\\Users\\tarun\\OneDrive\\Desktop\\Solar-Panel-Detection\\data\\train\\images\\solarpanels_native_1__x0_366_y0_7369_dxdy_416.tif: ignoring corrupt image/label: Label class 2 exceeds dataset class count 1. Possible class labels are 0-0\n",
      "\u001b[34m\u001b[1mtrain: \u001b[0mWARNING  C:\\Users\\tarun\\OneDrive\\Desktop\\Solar-Panel-Detection\\data\\train\\images\\solarpanels_native_1__x0_368_y0_7395_dxdy_416.tif: ignoring corrupt image/label: Label class 2 exceeds dataset class count 1. Possible class labels are 0-0\n",
      "\u001b[34m\u001b[1mtrain: \u001b[0mWARNING  C:\\Users\\tarun\\OneDrive\\Desktop\\Solar-Panel-Detection\\data\\train\\images\\solarpanels_native_1__x0_402_y0_7433_dxdy_416.tif: ignoring corrupt image/label: Label class 2 exceeds dataset class count 1. Possible class labels are 0-0\n",
      "\u001b[34m\u001b[1mtrain: \u001b[0mWARNING  C:\\Users\\tarun\\OneDrive\\Desktop\\Solar-Panel-Detection\\data\\train\\images\\solarpanels_native_1__x0_538_y0_7295_dxdy_416.tif: ignoring corrupt image/label: Label class 2 exceeds dataset class count 1. Possible class labels are 0-0\n",
      "\u001b[34m\u001b[1mtrain: \u001b[0mWARNING  C:\\Users\\tarun\\OneDrive\\Desktop\\Solar-Panel-Detection\\data\\train\\images\\solarpanels_native_1__x0_7374_y0_9622_dxdy_416.tif: ignoring corrupt image/label: Label class 2 exceeds dataset class count 1. Possible class labels are 0-0\n",
      "\u001b[34m\u001b[1mtrain: \u001b[0mWARNING  C:\\Users\\tarun\\OneDrive\\Desktop\\Solar-Panel-Detection\\data\\train\\images\\solarpanels_native_1__x0_7438_y0_9843_dxdy_416.tif: ignoring corrupt image/label: Label class 2 exceeds dataset class count 1. Possible class labels are 0-0\n",
      "\u001b[34m\u001b[1mtrain: \u001b[0mWARNING  C:\\Users\\tarun\\OneDrive\\Desktop\\Solar-Panel-Detection\\data\\train\\images\\solarpanels_native_1__x0_7474_y0_9842_dxdy_416.tif: ignoring corrupt image/label: Label class 2 exceeds dataset class count 1. Possible class labels are 0-0\n",
      "\u001b[34m\u001b[1mtrain: \u001b[0mWARNING  C:\\Users\\tarun\\OneDrive\\Desktop\\Solar-Panel-Detection\\data\\train\\images\\solarpanels_native_1__x0_7511_y0_9647_dxdy_416.tif: ignoring corrupt image/label: Label class 2 exceeds dataset class count 1. Possible class labels are 0-0\n",
      "\u001b[34m\u001b[1mtrain: \u001b[0mWARNING  C:\\Users\\tarun\\OneDrive\\Desktop\\Solar-Panel-Detection\\data\\train\\images\\solarpanels_native_1__x0_7603_y0_9742_dxdy_416.tif: ignoring corrupt image/label: Label class 2 exceeds dataset class count 1. Possible class labels are 0-0\n",
      "\u001b[34m\u001b[1mtrain: \u001b[0mWARNING  C:\\Users\\tarun\\OneDrive\\Desktop\\Solar-Panel-Detection\\data\\train\\images\\solarpanels_native_1__x0_7604_y0_9799_dxdy_416.tif: ignoring corrupt image/label: Label class 2 exceeds dataset class count 1. Possible class labels are 0-0\n",
      "\u001b[34m\u001b[1mtrain: \u001b[0mWARNING  C:\\Users\\tarun\\OneDrive\\Desktop\\Solar-Panel-Detection\\data\\train\\images\\solarpanels_native_1__x0_7632_y0_9852_dxdy_416.tif: ignoring corrupt image/label: Label class 2 exceeds dataset class count 1. Possible class labels are 0-0\n",
      "\u001b[34m\u001b[1mtrain: \u001b[0mWARNING  C:\\Users\\tarun\\OneDrive\\Desktop\\Solar-Panel-Detection\\data\\train\\images\\solarpanels_native_1__x0_7720_y0_11584_dxdy_416.tif: ignoring corrupt image/label: Label class 2 exceeds dataset class count 1. Possible class labels are 0-0\n",
      "\u001b[34m\u001b[1mtrain: \u001b[0mWARNING  C:\\Users\\tarun\\OneDrive\\Desktop\\Solar-Panel-Detection\\data\\train\\images\\solarpanels_native_1__x0_7873_y0_11697_dxdy_416.tif: ignoring corrupt image/label: Label class 2 exceeds dataset class count 1. Possible class labels are 0-0\n",
      "\u001b[34m\u001b[1mtrain: \u001b[0mWARNING  C:\\Users\\tarun\\OneDrive\\Desktop\\Solar-Panel-Detection\\data\\train\\images\\solarpanels_native_1__x0_7877_y0_11703_dxdy_416.tif: ignoring corrupt image/label: Label class 2 exceeds dataset class count 1. Possible class labels are 0-0\n",
      "\u001b[34m\u001b[1mtrain: \u001b[0mWARNING  C:\\Users\\tarun\\OneDrive\\Desktop\\Solar-Panel-Detection\\data\\train\\images\\solarpanels_native_1__x0_7898_y0_11681_dxdy_416.tif: ignoring corrupt image/label: Label class 2 exceeds dataset class count 1. Possible class labels are 0-0\n",
      "\u001b[34m\u001b[1mtrain: \u001b[0mWARNING  C:\\Users\\tarun\\OneDrive\\Desktop\\Solar-Panel-Detection\\data\\train\\images\\solarpanels_native_1__x0_7999_y0_8765_dxdy_416.tif: ignoring corrupt image/label: Label class 2 exceeds dataset class count 1. Possible class labels are 0-0\n",
      "\u001b[34m\u001b[1mtrain: \u001b[0mWARNING  C:\\Users\\tarun\\OneDrive\\Desktop\\Solar-Panel-Detection\\data\\train\\images\\solarpanels_native_1__x0_7_y0_6959_dxdy_416.tif: ignoring corrupt image/label: Label class 2 exceeds dataset class count 1. Possible class labels are 0-0\n",
      "\u001b[34m\u001b[1mtrain: \u001b[0mWARNING  C:\\Users\\tarun\\OneDrive\\Desktop\\Solar-Panel-Detection\\data\\train\\images\\solarpanels_native_1__x0_8039_y0_8735_dxdy_416.tif: ignoring corrupt image/label: Label class 2 exceeds dataset class count 1. Possible class labels are 0-0\n",
      "\u001b[34m\u001b[1mtrain: \u001b[0mWARNING  C:\\Users\\tarun\\OneDrive\\Desktop\\Solar-Panel-Detection\\data\\train\\images\\solarpanels_native_1__x0_8050_y0_8562_dxdy_416.tif: ignoring corrupt image/label: Label class 2 exceeds dataset class count 1. Possible class labels are 0-0\n",
      "\u001b[34m\u001b[1mtrain: \u001b[0mWARNING  C:\\Users\\tarun\\OneDrive\\Desktop\\Solar-Panel-Detection\\data\\train\\images\\solarpanels_native_1__x0_8109_y0_8880_dxdy_416.tif: ignoring corrupt image/label: Label class 2 exceeds dataset class count 1. Possible class labels are 0-0\n",
      "\u001b[34m\u001b[1mtrain: \u001b[0mWARNING  C:\\Users\\tarun\\OneDrive\\Desktop\\Solar-Panel-Detection\\data\\train\\images\\solarpanels_native_1__x0_8142_y0_8745_dxdy_416.tif: ignoring corrupt image/label: Label class 2 exceeds dataset class count 1. Possible class labels are 0-0\n",
      "\u001b[34m\u001b[1mtrain: \u001b[0mWARNING  C:\\Users\\tarun\\OneDrive\\Desktop\\Solar-Panel-Detection\\data\\train\\images\\solarpanels_native_1__x0_8143_y0_7684_dxdy_416.tif: ignoring corrupt image/label: Label class 2 exceeds dataset class count 1. Possible class labels are 0-0\n",
      "\u001b[34m\u001b[1mtrain: \u001b[0mWARNING  C:\\Users\\tarun\\OneDrive\\Desktop\\Solar-Panel-Detection\\data\\train\\images\\solarpanels_native_1__x0_8154_y0_7753_dxdy_416.tif: ignoring corrupt image/label: Label class 2 exceeds dataset class count 1. Possible class labels are 0-0\n",
      "\u001b[34m\u001b[1mtrain: \u001b[0mWARNING  C:\\Users\\tarun\\OneDrive\\Desktop\\Solar-Panel-Detection\\data\\train\\images\\solarpanels_native_1__x0_8158_y0_9952_dxdy_416.tif: ignoring corrupt image/label: Label class 2 exceeds dataset class count 1. Possible class labels are 0-0\n",
      "\u001b[34m\u001b[1mtrain: \u001b[0mWARNING  C:\\Users\\tarun\\OneDrive\\Desktop\\Solar-Panel-Detection\\data\\train\\images\\solarpanels_native_1__x0_8166_y0_8730_dxdy_416.tif: ignoring corrupt image/label: Label class 2 exceeds dataset class count 1. Possible class labels are 0-0\n",
      "\u001b[34m\u001b[1mtrain: \u001b[0mWARNING  C:\\Users\\tarun\\OneDrive\\Desktop\\Solar-Panel-Detection\\data\\train\\images\\solarpanels_native_1__x0_8169_y0_8595_dxdy_416.tif: ignoring corrupt image/label: Label class 2 exceeds dataset class count 1. Possible class labels are 0-0\n",
      "\u001b[34m\u001b[1mtrain: \u001b[0mWARNING  C:\\Users\\tarun\\OneDrive\\Desktop\\Solar-Panel-Detection\\data\\train\\images\\solarpanels_native_1__x0_8232_y0_7817_dxdy_416.tif: ignoring corrupt image/label: Label class 2 exceeds dataset class count 1. Possible class labels are 0-0\n",
      "\u001b[34m\u001b[1mtrain: \u001b[0mWARNING  C:\\Users\\tarun\\OneDrive\\Desktop\\Solar-Panel-Detection\\data\\train\\images\\solarpanels_native_1__x0_8233_y0_9890_dxdy_416.tif: ignoring corrupt image/label: Label class 2 exceeds dataset class count 1. Possible class labels are 0-0\n",
      "\u001b[34m\u001b[1mtrain: \u001b[0mWARNING  C:\\Users\\tarun\\OneDrive\\Desktop\\Solar-Panel-Detection\\data\\train\\images\\solarpanels_native_1__x0_8239_y0_7742_dxdy_416.tif: ignoring corrupt image/label: Label class 2 exceeds dataset class count 1. Possible class labels are 0-0\n",
      "\u001b[34m\u001b[1mtrain: \u001b[0mWARNING  C:\\Users\\tarun\\OneDrive\\Desktop\\Solar-Panel-Detection\\data\\train\\images\\solarpanels_native_1__x0_8248_y0_7817_dxdy_416.tif: ignoring corrupt image/label: Label class 2 exceeds dataset class count 1. Possible class labels are 0-0\n",
      "\u001b[34m\u001b[1mtrain: \u001b[0mWARNING  C:\\Users\\tarun\\OneDrive\\Desktop\\Solar-Panel-Detection\\data\\train\\images\\solarpanels_native_1__x0_8254_y0_8661_dxdy_416.tif: ignoring corrupt image/label: Label class 2 exceeds dataset class count 1. Possible class labels are 0-0\n",
      "\u001b[34m\u001b[1mtrain: \u001b[0mWARNING  C:\\Users\\tarun\\OneDrive\\Desktop\\Solar-Panel-Detection\\data\\train\\images\\solarpanels_native_1__x0_8274_y0_7639_dxdy_416.tif: ignoring corrupt image/label: Label class 2 exceeds dataset class count 1. Possible class labels are 0-0\n",
      "\u001b[34m\u001b[1mtrain: \u001b[0mWARNING  C:\\Users\\tarun\\OneDrive\\Desktop\\Solar-Panel-Detection\\data\\train\\images\\solarpanels_native_1__x0_82_y0_6947_dxdy_416.tif: ignoring corrupt image/label: Label class 2 exceeds dataset class count 1. Possible class labels are 0-0\n",
      "\u001b[34m\u001b[1mtrain: \u001b[0mWARNING  C:\\Users\\tarun\\OneDrive\\Desktop\\Solar-Panel-Detection\\data\\train\\images\\solarpanels_native_1__x0_8306_y0_8749_dxdy_416.tif: ignoring corrupt image/label: Label class 2 exceeds dataset class count 1. Possible class labels are 0-0\n",
      "\u001b[34m\u001b[1mtrain: \u001b[0mWARNING  C:\\Users\\tarun\\OneDrive\\Desktop\\Solar-Panel-Detection\\data\\train\\images\\solarpanels_native_1__x0_8318_y0_8619_dxdy_416.tif: ignoring corrupt image/label: Label class 2 exceeds dataset class count 1. Possible class labels are 0-0\n",
      "\u001b[34m\u001b[1mtrain: \u001b[0mWARNING  C:\\Users\\tarun\\OneDrive\\Desktop\\Solar-Panel-Detection\\data\\train\\images\\solarpanels_native_1__x0_8326_y0_8594_dxdy_416.tif: ignoring corrupt image/label: Label class 2 exceeds dataset class count 1. Possible class labels are 0-0\n",
      "\u001b[34m\u001b[1mtrain: \u001b[0mWARNING  C:\\Users\\tarun\\OneDrive\\Desktop\\Solar-Panel-Detection\\data\\train\\images\\solarpanels_native_1__x0_8327_y0_7745_dxdy_416.tif: ignoring corrupt image/label: Label class 2 exceeds dataset class count 1. Possible class labels are 0-0\n",
      "\u001b[34m\u001b[1mtrain: \u001b[0mWARNING  C:\\Users\\tarun\\OneDrive\\Desktop\\Solar-Panel-Detection\\data\\train\\images\\solarpanels_native_1__x0_8335_y0_7902_dxdy_416.tif: ignoring corrupt image/label: Label class 2 exceeds dataset class count 1. Possible class labels are 0-0\n",
      "\u001b[34m\u001b[1mtrain: \u001b[0mWARNING  C:\\Users\\tarun\\OneDrive\\Desktop\\Solar-Panel-Detection\\data\\train\\images\\solarpanels_native_1__x0_8344_y0_8586_dxdy_416.tif: ignoring corrupt image/label: Label class 2 exceeds dataset class count 1. Possible class labels are 0-0\n",
      "\u001b[34m\u001b[1mtrain: \u001b[0mWARNING  C:\\Users\\tarun\\OneDrive\\Desktop\\Solar-Panel-Detection\\data\\train\\images\\solarpanels_native_1__x0_8350_y0_8860_dxdy_416.tif: ignoring corrupt image/label: Label class 2 exceeds dataset class count 1. Possible class labels are 0-0\n",
      "\u001b[34m\u001b[1mtrain: \u001b[0mWARNING  C:\\Users\\tarun\\OneDrive\\Desktop\\Solar-Panel-Detection\\data\\train\\images\\solarpanels_native_1__x0_8356_y0_9984_dxdy_416.tif: ignoring corrupt image/label: Label class 2 exceeds dataset class count 1. Possible class labels are 0-0\n",
      "\u001b[34m\u001b[1mtrain: \u001b[0mWARNING  C:\\Users\\tarun\\OneDrive\\Desktop\\Solar-Panel-Detection\\data\\train\\images\\solarpanels_native_1__x0_8366_y0_9849_dxdy_416.tif: ignoring corrupt image/label: Label class 2 exceeds dataset class count 1. Possible class labels are 0-0\n",
      "\u001b[34m\u001b[1mtrain: \u001b[0mWARNING  C:\\Users\\tarun\\OneDrive\\Desktop\\Solar-Panel-Detection\\data\\train\\images\\solarpanels_native_1__x0_8385_y0_9752_dxdy_416.tif: ignoring corrupt image/label: Label class 2 exceeds dataset class count 1. Possible class labels are 0-0\n",
      "\u001b[34m\u001b[1mtrain: \u001b[0mWARNING  C:\\Users\\tarun\\OneDrive\\Desktop\\Solar-Panel-Detection\\data\\train\\images\\solarpanels_native_1__x0_8393_y0_10108_dxdy_416.tif: ignoring corrupt image/label: Label class 2 exceeds dataset class count 1. Possible class labels are 0-0\n",
      "\u001b[34m\u001b[1mtrain: \u001b[0mWARNING  C:\\Users\\tarun\\OneDrive\\Desktop\\Solar-Panel-Detection\\data\\train\\images\\solarpanels_native_1__x0_8468_y0_10003_dxdy_416.tif: ignoring corrupt image/label: Label class 1 exceeds dataset class count 1. Possible class labels are 0-0\n",
      "\u001b[34m\u001b[1mtrain: \u001b[0mWARNING  C:\\Users\\tarun\\OneDrive\\Desktop\\Solar-Panel-Detection\\data\\train\\images\\solarpanels_native_1__x0_8565_y0_11093_dxdy_416.tif: ignoring corrupt image/label: Label class 2 exceeds dataset class count 1. Possible class labels are 0-0\n",
      "\u001b[34m\u001b[1mtrain: \u001b[0mWARNING  C:\\Users\\tarun\\OneDrive\\Desktop\\Solar-Panel-Detection\\data\\train\\images\\solarpanels_native_1__x0_8573_y0_11090_dxdy_416.tif: ignoring corrupt image/label: Label class 2 exceeds dataset class count 1. Possible class labels are 0-0\n",
      "\u001b[34m\u001b[1mtrain: \u001b[0mWARNING  C:\\Users\\tarun\\OneDrive\\Desktop\\Solar-Panel-Detection\\data\\train\\images\\solarpanels_native_1__x0_8582_y0_11150_dxdy_416.tif: ignoring corrupt image/label: Label class 2 exceeds dataset class count 1. Possible class labels are 0-0\n",
      "\u001b[34m\u001b[1mtrain: \u001b[0mWARNING  C:\\Users\\tarun\\OneDrive\\Desktop\\Solar-Panel-Detection\\data\\train\\images\\solarpanels_native_1__x0_8596_y0_11097_dxdy_416.tif: ignoring corrupt image/label: Label class 2 exceeds dataset class count 1. Possible class labels are 0-0\n",
      "\u001b[34m\u001b[1mtrain: \u001b[0mWARNING  C:\\Users\\tarun\\OneDrive\\Desktop\\Solar-Panel-Detection\\data\\train\\images\\solarpanels_native_1__x0_8623_y0_10945_dxdy_416.tif: ignoring corrupt image/label: Label class 2 exceeds dataset class count 1. Possible class labels are 0-0\n",
      "\u001b[34m\u001b[1mtrain: \u001b[0mWARNING  C:\\Users\\tarun\\OneDrive\\Desktop\\Solar-Panel-Detection\\data\\train\\images\\solarpanels_native_1__x0_8628_y0_10957_dxdy_416.tif: ignoring corrupt image/label: Label class 2 exceeds dataset class count 1. Possible class labels are 0-0\n",
      "\u001b[34m\u001b[1mtrain: \u001b[0mWARNING  C:\\Users\\tarun\\OneDrive\\Desktop\\Solar-Panel-Detection\\data\\train\\images\\solarpanels_native_1__x0_8635_y0_10963_dxdy_416.tif: ignoring corrupt image/label: Label class 2 exceeds dataset class count 1. Possible class labels are 0-0\n",
      "\u001b[34m\u001b[1mtrain: \u001b[0mWARNING  C:\\Users\\tarun\\OneDrive\\Desktop\\Solar-Panel-Detection\\data\\train\\images\\solarpanels_native_1__x0_8664_y0_11014_dxdy_416.tif: ignoring corrupt image/label: Label class 2 exceeds dataset class count 1. Possible class labels are 0-0\n",
      "\u001b[34m\u001b[1mtrain: \u001b[0mWARNING  C:\\Users\\tarun\\OneDrive\\Desktop\\Solar-Panel-Detection\\data\\train\\images\\solarpanels_native_1__x0_8670_y0_11147_dxdy_416.tif: ignoring corrupt image/label: Label class 2 exceeds dataset class count 1. Possible class labels are 0-0\n",
      "\u001b[34m\u001b[1mtrain: \u001b[0mWARNING  C:\\Users\\tarun\\OneDrive\\Desktop\\Solar-Panel-Detection\\data\\train\\images\\solarpanels_native_1__x0_9331_y0_11009_dxdy_416.tif: ignoring corrupt image/label: Label class 2 exceeds dataset class count 1. Possible class labels are 0-0\n",
      "\u001b[34m\u001b[1mtrain: \u001b[0mWARNING  C:\\Users\\tarun\\OneDrive\\Desktop\\Solar-Panel-Detection\\data\\train\\images\\solarpanels_native_1__x0_9349_y0_11014_dxdy_416.tif: ignoring corrupt image/label: Label class 2 exceeds dataset class count 1. Possible class labels are 0-0\n",
      "\u001b[34m\u001b[1mtrain: \u001b[0mWARNING  C:\\Users\\tarun\\OneDrive\\Desktop\\Solar-Panel-Detection\\data\\train\\images\\solarpanels_native_1__x0_9377_y0_11060_dxdy_416.tif: ignoring corrupt image/label: Label class 2 exceeds dataset class count 1. Possible class labels are 0-0\n",
      "\u001b[34m\u001b[1mtrain: \u001b[0mWARNING  C:\\Users\\tarun\\OneDrive\\Desktop\\Solar-Panel-Detection\\data\\train\\images\\solarpanels_native_1__x0_9384_y0_11061_dxdy_416.tif: ignoring corrupt image/label: Label class 2 exceeds dataset class count 1. Possible class labels are 0-0\n",
      "\u001b[34m\u001b[1mtrain: \u001b[0mWARNING  C:\\Users\\tarun\\OneDrive\\Desktop\\Solar-Panel-Detection\\data\\train\\images\\solarpanels_native_1__x0_9405_y0_10916_dxdy_416.tif: ignoring corrupt image/label: Label class 2 exceeds dataset class count 1. Possible class labels are 0-0\n",
      "\u001b[34m\u001b[1mtrain: \u001b[0mWARNING  C:\\Users\\tarun\\OneDrive\\Desktop\\Solar-Panel-Detection\\data\\train\\images\\solarpanels_native_1__x0_9453_y0_11025_dxdy_416.tif: ignoring corrupt image/label: Label class 2 exceeds dataset class count 1. Possible class labels are 0-0\n",
      "\u001b[34m\u001b[1mtrain: \u001b[0mWARNING  C:\\Users\\tarun\\OneDrive\\Desktop\\Solar-Panel-Detection\\data\\train\\images\\solarpanels_native_1__x0_9462_y0_10952_dxdy_416.tif: ignoring corrupt image/label: Label class 2 exceeds dataset class count 1. Possible class labels are 0-0\n",
      "\u001b[34m\u001b[1mtrain: \u001b[0mWARNING  C:\\Users\\tarun\\OneDrive\\Desktop\\Solar-Panel-Detection\\data\\train\\images\\solarpanels_native_1__x0_9475_y0_10997_dxdy_416.tif: ignoring corrupt image/label: Label class 2 exceeds dataset class count 1. Possible class labels are 0-0\n",
      "\u001b[34m\u001b[1mtrain: \u001b[0mWARNING  C:\\Users\\tarun\\OneDrive\\Desktop\\Solar-Panel-Detection\\data\\train\\images\\solarpanels_native_1__x0_9478_y0_10992_dxdy_416.tif: ignoring corrupt image/label: Label class 2 exceeds dataset class count 1. Possible class labels are 0-0\n",
      "\u001b[34m\u001b[1mtrain: \u001b[0mWARNING  C:\\Users\\tarun\\OneDrive\\Desktop\\Solar-Panel-Detection\\data\\train\\images\\solarpanels_native_1__x0_9486_y0_11065_dxdy_416.tif: ignoring corrupt image/label: Label class 2 exceeds dataset class count 1. Possible class labels are 0-0\n",
      "\u001b[34m\u001b[1mtrain: \u001b[0mWARNING  C:\\Users\\tarun\\OneDrive\\Desktop\\Solar-Panel-Detection\\data\\train\\images\\solarpanels_native_1__x0_9498_y0_11008_dxdy_416.tif: ignoring corrupt image/label: Label class 2 exceeds dataset class count 1. Possible class labels are 0-0\n",
      "\u001b[34m\u001b[1mtrain: \u001b[0mWARNING  C:\\Users\\tarun\\OneDrive\\Desktop\\Solar-Panel-Detection\\data\\train\\images\\solarpanels_native_1__x0_9502_y0_10952_dxdy_416.tif: ignoring corrupt image/label: Label class 2 exceeds dataset class count 1. Possible class labels are 0-0\n",
      "\u001b[34m\u001b[1mtrain: \u001b[0mWARNING  C:\\Users\\tarun\\OneDrive\\Desktop\\Solar-Panel-Detection\\data\\train\\images\\solarpanels_native_1__x0_9658_y0_10999_dxdy_416.tif: ignoring corrupt image/label: Label class 2 exceeds dataset class count 1. Possible class labels are 0-0\n",
      "\u001b[34m\u001b[1mtrain: \u001b[0mWARNING  C:\\Users\\tarun\\OneDrive\\Desktop\\Solar-Panel-Detection\\data\\train\\images\\solarpanels_native_1__x0_9671_y0_10745_dxdy_416.tif: ignoring corrupt image/label: Label class 2 exceeds dataset class count 1. Possible class labels are 0-0\n",
      "\u001b[34m\u001b[1mtrain: \u001b[0mWARNING  C:\\Users\\tarun\\OneDrive\\Desktop\\Solar-Panel-Detection\\data\\train\\images\\solarpanels_native_1__x0_9772_y0_10639_dxdy_416.tif: ignoring corrupt image/label: Label class 2 exceeds dataset class count 1. Possible class labels are 0-0\n",
      "\u001b[34m\u001b[1mtrain: \u001b[0mWARNING  C:\\Users\\tarun\\OneDrive\\Desktop\\Solar-Panel-Detection\\data\\train\\images\\solarpanels_native_1__x0_9783_y0_10933_dxdy_416.tif: ignoring corrupt image/label: Label class 2 exceeds dataset class count 1. Possible class labels are 0-0\n",
      "\u001b[34m\u001b[1mtrain: \u001b[0mWARNING  C:\\Users\\tarun\\OneDrive\\Desktop\\Solar-Panel-Detection\\data\\train\\images\\solarpanels_native_1__x0_9788_y0_10663_dxdy_416.tif: ignoring corrupt image/label: Label class 2 exceeds dataset class count 1. Possible class labels are 0-0\n",
      "\u001b[34m\u001b[1mtrain: \u001b[0mWARNING  C:\\Users\\tarun\\OneDrive\\Desktop\\Solar-Panel-Detection\\data\\train\\images\\solarpanels_native_1__x0_9797_y0_10609_dxdy_416.tif: ignoring corrupt image/label: Label class 2 exceeds dataset class count 1. Possible class labels are 0-0\n",
      "\u001b[34m\u001b[1mtrain: \u001b[0mWARNING  C:\\Users\\tarun\\OneDrive\\Desktop\\Solar-Panel-Detection\\data\\train\\images\\solarpanels_native_1__x0_9847_y0_10811_dxdy_416.tif: ignoring corrupt image/label: Label class 2 exceeds dataset class count 1. Possible class labels are 0-0\n",
      "\u001b[34m\u001b[1mtrain: \u001b[0mWARNING  C:\\Users\\tarun\\OneDrive\\Desktop\\Solar-Panel-Detection\\data\\train\\images\\solarpanels_native_1__x0_9891_y0_11010_dxdy_416.tif: ignoring corrupt image/label: Label class 2 exceeds dataset class count 1. Possible class labels are 0-0\n",
      "\u001b[34m\u001b[1mtrain: \u001b[0mWARNING  C:\\Users\\tarun\\OneDrive\\Desktop\\Solar-Panel-Detection\\data\\train\\images\\solarpanels_native_1__x0_98_y0_7130_dxdy_416.tif: ignoring corrupt image/label: Label class 2 exceeds dataset class count 1. Possible class labels are 0-0\n",
      "\u001b[34m\u001b[1mtrain: \u001b[0mWARNING  C:\\Users\\tarun\\OneDrive\\Desktop\\Solar-Panel-Detection\\data\\train\\images\\solarpanels_native_1__x0_9997_y0_10685_dxdy_416.tif: ignoring corrupt image/label: Label class 2 exceeds dataset class count 1. Possible class labels are 0-0\n",
      "\u001b[34m\u001b[1mtrain: \u001b[0mWARNING  C:\\Users\\tarun\\OneDrive\\Desktop\\Solar-Panel-Detection\\data\\train\\images\\solarpanels_native_2__x0_10553_y0_5621_dxdy_416.tif: ignoring corrupt image/label: Label class 1 exceeds dataset class count 1. Possible class labels are 0-0\n",
      "\u001b[34m\u001b[1mtrain: \u001b[0mWARNING  C:\\Users\\tarun\\OneDrive\\Desktop\\Solar-Panel-Detection\\data\\train\\images\\solarpanels_native_2__x0_10632_y0_5734_dxdy_416.tif: ignoring corrupt image/label: Label class 1 exceeds dataset class count 1. Possible class labels are 0-0\n",
      "\u001b[34m\u001b[1mtrain: \u001b[0mWARNING  C:\\Users\\tarun\\OneDrive\\Desktop\\Solar-Panel-Detection\\data\\train\\images\\solarpanels_native_2__x0_10633_y0_5756_dxdy_416.tif: ignoring corrupt image/label: Label class 1 exceeds dataset class count 1. Possible class labels are 0-0\n",
      "\u001b[34m\u001b[1mtrain: \u001b[0mWARNING  C:\\Users\\tarun\\OneDrive\\Desktop\\Solar-Panel-Detection\\data\\train\\images\\solarpanels_native_2__x0_10671_y0_5579_dxdy_416.tif: ignoring corrupt image/label: Label class 1 exceeds dataset class count 1. Possible class labels are 0-0\n",
      "\u001b[34m\u001b[1mtrain: \u001b[0mWARNING  C:\\Users\\tarun\\OneDrive\\Desktop\\Solar-Panel-Detection\\data\\train\\images\\solarpanels_native_2__x0_14692_y0_14213_dxdy_416.tif: ignoring corrupt image/label: Label class 1 exceeds dataset class count 1. Possible class labels are 0-0\n",
      "\u001b[34m\u001b[1mtrain: \u001b[0mWARNING  C:\\Users\\tarun\\OneDrive\\Desktop\\Solar-Panel-Detection\\data\\train\\images\\solarpanels_native_2__x0_14813_y0_14131_dxdy_416.tif: ignoring corrupt image/label: Label class 1 exceeds dataset class count 1. Possible class labels are 0-0\n",
      "\u001b[34m\u001b[1mtrain: \u001b[0mWARNING  C:\\Users\\tarun\\OneDrive\\Desktop\\Solar-Panel-Detection\\data\\train\\images\\solarpanels_native_2__x0_1683_y0_9664_dxdy_416.tif: ignoring corrupt image/label: Label class 1 exceeds dataset class count 1. Possible class labels are 0-0\n",
      "\u001b[34m\u001b[1mtrain: \u001b[0mWARNING  C:\\Users\\tarun\\OneDrive\\Desktop\\Solar-Panel-Detection\\data\\train\\images\\solarpanels_native_2__x0_1716_y0_9633_dxdy_416.tif: ignoring corrupt image/label: Label class 1 exceeds dataset class count 1. Possible class labels are 0-0\n",
      "\u001b[34m\u001b[1mtrain: \u001b[0mWARNING  C:\\Users\\tarun\\OneDrive\\Desktop\\Solar-Panel-Detection\\data\\train\\images\\solarpanels_native_2__x0_1724_y0_9729_dxdy_416.tif: ignoring corrupt image/label: Label class 1 exceeds dataset class count 1. Possible class labels are 0-0\n",
      "\u001b[34m\u001b[1mtrain: \u001b[0mWARNING  C:\\Users\\tarun\\OneDrive\\Desktop\\Solar-Panel-Detection\\data\\train\\images\\solarpanels_native_2__x0_1728_y0_9648_dxdy_416.tif: ignoring corrupt image/label: Label class 1 exceeds dataset class count 1. Possible class labels are 0-0\n",
      "\u001b[34m\u001b[1mtrain: \u001b[0mWARNING  C:\\Users\\tarun\\OneDrive\\Desktop\\Solar-Panel-Detection\\data\\train\\images\\solarpanels_native_2__x0_4747_y0_12358_dxdy_416.tif: ignoring corrupt image/label: Label class 2 exceeds dataset class count 1. Possible class labels are 0-0\n",
      "\u001b[34m\u001b[1mtrain: \u001b[0mWARNING  C:\\Users\\tarun\\OneDrive\\Desktop\\Solar-Panel-Detection\\data\\train\\images\\solarpanels_native_2__x0_4837_y0_12375_dxdy_416.tif: ignoring corrupt image/label: Label class 2 exceeds dataset class count 1. Possible class labels are 0-0\n",
      "\u001b[34m\u001b[1mtrain: \u001b[0mWARNING  C:\\Users\\tarun\\OneDrive\\Desktop\\Solar-Panel-Detection\\data\\train\\images\\solarpanels_native_2__x0_4882_y0_12418_dxdy_416.tif: ignoring corrupt image/label: Label class 2 exceeds dataset class count 1. Possible class labels are 0-0\n",
      "\u001b[34m\u001b[1mtrain: \u001b[0mWARNING  C:\\Users\\tarun\\OneDrive\\Desktop\\Solar-Panel-Detection\\data\\train\\images\\solarpanels_native_2__x0_4895_y0_5625_dxdy_416.tif: ignoring corrupt image/label: Label class 2 exceeds dataset class count 1. Possible class labels are 0-0\n",
      "\u001b[34m\u001b[1mtrain: \u001b[0mWARNING  C:\\Users\\tarun\\OneDrive\\Desktop\\Solar-Panel-Detection\\data\\train\\images\\solarpanels_native_2__x0_4900_y0_12382_dxdy_416.tif: ignoring corrupt image/label: Label class 2 exceeds dataset class count 1. Possible class labels are 0-0\n",
      "\u001b[34m\u001b[1mtrain: \u001b[0mWARNING  C:\\Users\\tarun\\OneDrive\\Desktop\\Solar-Panel-Detection\\data\\train\\images\\solarpanels_native_2__x0_4996_y0_5664_dxdy_416.tif: ignoring corrupt image/label: Label class 2 exceeds dataset class count 1. Possible class labels are 0-0\n",
      "\u001b[34m\u001b[1mtrain: \u001b[0mWARNING  C:\\Users\\tarun\\OneDrive\\Desktop\\Solar-Panel-Detection\\data\\train\\images\\solarpanels_native_2__x0_5006_y0_5790_dxdy_416.tif: ignoring corrupt image/label: Label class 2 exceeds dataset class count 1. Possible class labels are 0-0\n",
      "\u001b[34m\u001b[1mtrain: \u001b[0mWARNING  C:\\Users\\tarun\\OneDrive\\Desktop\\Solar-Panel-Detection\\data\\train\\images\\solarpanels_native_2__x0_5011_y0_5801_dxdy_416.tif: ignoring corrupt image/label: Label class 2 exceeds dataset class count 1. Possible class labels are 0-0\n",
      "\u001b[34m\u001b[1mtrain: \u001b[0mWARNING  C:\\Users\\tarun\\OneDrive\\Desktop\\Solar-Panel-Detection\\data\\train\\images\\solarpanels_native_2__x0_5033_y0_5566_dxdy_416.tif: ignoring corrupt image/label: Label class 2 exceeds dataset class count 1. Possible class labels are 0-0\n",
      "\u001b[34m\u001b[1mtrain: \u001b[0mWARNING  C:\\Users\\tarun\\OneDrive\\Desktop\\Solar-Panel-Detection\\data\\train\\images\\solarpanels_native_2__x0_5096_y0_5639_dxdy_416.tif: ignoring corrupt image/label: Label class 2 exceeds dataset class count 1. Possible class labels are 0-0\n",
      "\u001b[34m\u001b[1mtrain: \u001b[0mWARNING  C:\\Users\\tarun\\OneDrive\\Desktop\\Solar-Panel-Detection\\data\\train\\images\\solarpanels_native_2__x0_5126_y0_5754_dxdy_416.tif: ignoring corrupt image/label: Label class 2 exceeds dataset class count 1. Possible class labels are 0-0\n",
      "\u001b[34m\u001b[1mtrain: \u001b[0mWARNING  C:\\Users\\tarun\\OneDrive\\Desktop\\Solar-Panel-Detection\\data\\train\\images\\solarpanels_native_2__x0_5133_y0_5800_dxdy_416.tif: ignoring corrupt image/label: Label class 2 exceeds dataset class count 1. Possible class labels are 0-0\n",
      "\u001b[34m\u001b[1mtrain: \u001b[0mWARNING  C:\\Users\\tarun\\OneDrive\\Desktop\\Solar-Panel-Detection\\data\\train\\images\\solarpanels_native_2__x0_5138_y0_5756_dxdy_416.tif: ignoring corrupt image/label: Label class 2 exceeds dataset class count 1. Possible class labels are 0-0\n",
      "\u001b[34m\u001b[1mtrain: \u001b[0mWARNING  C:\\Users\\tarun\\OneDrive\\Desktop\\Solar-Panel-Detection\\data\\train\\images\\solarpanels_native_2__x0_5175_y0_5766_dxdy_416.tif: ignoring corrupt image/label: Label class 2 exceeds dataset class count 1. Possible class labels are 0-0\n",
      "\u001b[34m\u001b[1mtrain: \u001b[0mWARNING  C:\\Users\\tarun\\OneDrive\\Desktop\\Solar-Panel-Detection\\data\\train\\images\\solarpanels_native_2__x0_5176_y0_6131_dxdy_416.tif: ignoring corrupt image/label: Label class 1 exceeds dataset class count 1. Possible class labels are 0-0\n",
      "\u001b[34m\u001b[1mtrain: \u001b[0mWARNING  C:\\Users\\tarun\\OneDrive\\Desktop\\Solar-Panel-Detection\\data\\train\\images\\solarpanels_native_2__x0_5184_y0_6305_dxdy_416.tif: ignoring corrupt image/label: Label class 1 exceeds dataset class count 1. Possible class labels are 0-0\n",
      "\u001b[34m\u001b[1mtrain: \u001b[0mWARNING  C:\\Users\\tarun\\OneDrive\\Desktop\\Solar-Panel-Detection\\data\\train\\images\\solarpanels_native_2__x0_5187_y0_6039_dxdy_416.tif: ignoring corrupt image/label: Label class 1 exceeds dataset class count 1. Possible class labels are 0-0\n",
      "\u001b[34m\u001b[1mtrain: \u001b[0mWARNING  C:\\Users\\tarun\\OneDrive\\Desktop\\Solar-Panel-Detection\\data\\train\\images\\solarpanels_native_2__x0_5187_y0_6620_dxdy_416.tif: ignoring corrupt image/label: Label class 1 exceeds dataset class count 1. Possible class labels are 0-0\n",
      "\u001b[34m\u001b[1mtrain: \u001b[0mWARNING  C:\\Users\\tarun\\OneDrive\\Desktop\\Solar-Panel-Detection\\data\\train\\images\\solarpanels_native_2__x0_5256_y0_6824_dxdy_416.tif: ignoring corrupt image/label: Label class 1 exceeds dataset class count 1. Possible class labels are 0-0\n",
      "\u001b[34m\u001b[1mtrain: \u001b[0mWARNING  C:\\Users\\tarun\\OneDrive\\Desktop\\Solar-Panel-Detection\\data\\train\\images\\solarpanels_native_2__x0_5369_y0_6108_dxdy_416.tif: ignoring corrupt image/label: Label class 1 exceeds dataset class count 1. Possible class labels are 0-0\n",
      "\u001b[34m\u001b[1mtrain: \u001b[0mWARNING  C:\\Users\\tarun\\OneDrive\\Desktop\\Solar-Panel-Detection\\data\\train\\images\\solarpanels_native_2__x0_5377_y0_6585_dxdy_416.tif: ignoring corrupt image/label: Label class 1 exceeds dataset class count 1. Possible class labels are 0-0\n",
      "\u001b[34m\u001b[1mtrain: \u001b[0mWARNING  C:\\Users\\tarun\\OneDrive\\Desktop\\Solar-Panel-Detection\\data\\train\\images\\solarpanels_native_2__x0_5426_y0_6012_dxdy_416.tif: ignoring corrupt image/label: Label class 1 exceeds dataset class count 1. Possible class labels are 0-0\n",
      "\u001b[34m\u001b[1mtrain: \u001b[0mWARNING  C:\\Users\\tarun\\OneDrive\\Desktop\\Solar-Panel-Detection\\data\\train\\images\\solarpanels_native_2__x0_5549_y0_6002_dxdy_416.tif: ignoring corrupt image/label: Label class 1 exceeds dataset class count 1. Possible class labels are 0-0\n",
      "\u001b[34m\u001b[1mtrain: \u001b[0mWARNING  C:\\Users\\tarun\\OneDrive\\Desktop\\Solar-Panel-Detection\\data\\train\\images\\solarpanels_native_2__x0_5588_y0_6163_dxdy_416.tif: ignoring corrupt image/label: Label class 1 exceeds dataset class count 1. Possible class labels are 0-0\n",
      "\u001b[34m\u001b[1mtrain: \u001b[0mWARNING  C:\\Users\\tarun\\OneDrive\\Desktop\\Solar-Panel-Detection\\data\\train\\images\\solarpanels_native_2__x0_5597_y0_5255_dxdy_416.tif: ignoring corrupt image/label: Label class 1 exceeds dataset class count 1. Possible class labels are 0-0\n",
      "\u001b[34m\u001b[1mtrain: \u001b[0mWARNING  C:\\Users\\tarun\\OneDrive\\Desktop\\Solar-Panel-Detection\\data\\train\\images\\solarpanels_native_2__x0_5600_y0_5265_dxdy_416.tif: ignoring corrupt image/label: Label class 1 exceeds dataset class count 1. Possible class labels are 0-0\n",
      "\u001b[34m\u001b[1mtrain: \u001b[0mWARNING  C:\\Users\\tarun\\OneDrive\\Desktop\\Solar-Panel-Detection\\data\\train\\images\\solarpanels_native_2__x0_5619_y0_5655_dxdy_416.tif: ignoring corrupt image/label: Label class 1 exceeds dataset class count 1. Possible class labels are 0-0\n",
      "\u001b[34m\u001b[1mtrain: \u001b[0mWARNING  C:\\Users\\tarun\\OneDrive\\Desktop\\Solar-Panel-Detection\\data\\train\\images\\solarpanels_native_2__x0_5641_y0_5299_dxdy_416.tif: ignoring corrupt image/label: Label class 1 exceeds dataset class count 1. Possible class labels are 0-0\n",
      "\u001b[34m\u001b[1mtrain: \u001b[0mWARNING  C:\\Users\\tarun\\OneDrive\\Desktop\\Solar-Panel-Detection\\data\\train\\images\\solarpanels_native_2__x0_5643_y0_5508_dxdy_416.tif: ignoring corrupt image/label: Label class 1 exceeds dataset class count 1. Possible class labels are 0-0\n",
      "\u001b[34m\u001b[1mtrain: \u001b[0mWARNING  C:\\Users\\tarun\\OneDrive\\Desktop\\Solar-Panel-Detection\\data\\train\\images\\solarpanels_native_2__x0_5644_y0_5516_dxdy_416.tif: ignoring corrupt image/label: Label class 1 exceeds dataset class count 1. Possible class labels are 0-0\n",
      "\u001b[34m\u001b[1mtrain: \u001b[0mWARNING  C:\\Users\\tarun\\OneDrive\\Desktop\\Solar-Panel-Detection\\data\\train\\images\\solarpanels_native_2__x0_5703_y0_5273_dxdy_416.tif: ignoring corrupt image/label: Label class 1 exceeds dataset class count 1. Possible class labels are 0-0\n",
      "\u001b[34m\u001b[1mtrain: \u001b[0mWARNING  C:\\Users\\tarun\\OneDrive\\Desktop\\Solar-Panel-Detection\\data\\train\\images\\solarpanels_native_2__x0_5736_y0_5488_dxdy_416.tif: ignoring corrupt image/label: Label class 1 exceeds dataset class count 1. Possible class labels are 0-0\n",
      "\u001b[34m\u001b[1mtrain: \u001b[0mWARNING  C:\\Users\\tarun\\OneDrive\\Desktop\\Solar-Panel-Detection\\data\\train\\images\\solarpanels_native_2__x0_5755_y0_5511_dxdy_416.tif: ignoring corrupt image/label: Label class 1 exceeds dataset class count 1. Possible class labels are 0-0\n",
      "\u001b[34m\u001b[1mtrain: \u001b[0mWARNING  C:\\Users\\tarun\\OneDrive\\Desktop\\Solar-Panel-Detection\\data\\train\\images\\solarpanels_native_2__x0_5772_y0_5608_dxdy_416.tif: ignoring corrupt image/label: Label class 1 exceeds dataset class count 1. Possible class labels are 0-0\n",
      "\u001b[34m\u001b[1mtrain: \u001b[0mWARNING  C:\\Users\\tarun\\OneDrive\\Desktop\\Solar-Panel-Detection\\data\\train\\images\\solarpanels_native_2__x0_5781_y0_5282_dxdy_416.tif: ignoring corrupt image/label: Label class 1 exceeds dataset class count 1. Possible class labels are 0-0\n",
      "\u001b[34m\u001b[1mtrain: \u001b[0mWARNING  C:\\Users\\tarun\\OneDrive\\Desktop\\Solar-Panel-Detection\\data\\train\\images\\solarpanels_native_2__x0_5795_y0_5600_dxdy_416.tif: ignoring corrupt image/label: Label class 1 exceeds dataset class count 1. Possible class labels are 0-0\n",
      "\u001b[34m\u001b[1mtrain: \u001b[0mWARNING  C:\\Users\\tarun\\OneDrive\\Desktop\\Solar-Panel-Detection\\data\\train\\images\\solarpanels_native_2__x0_5805_y0_5391_dxdy_416.tif: ignoring corrupt image/label: Label class 1 exceeds dataset class count 1. Possible class labels are 0-0\n",
      "\u001b[34m\u001b[1mtrain: \u001b[0mWARNING  C:\\Users\\tarun\\OneDrive\\Desktop\\Solar-Panel-Detection\\data\\train\\images\\solarpanels_native_2__x0_5816_y0_5494_dxdy_416.tif: ignoring corrupt image/label: Label class 1 exceeds dataset class count 1. Possible class labels are 0-0\n",
      "\u001b[34m\u001b[1mtrain: \u001b[0mWARNING  C:\\Users\\tarun\\OneDrive\\Desktop\\Solar-Panel-Detection\\data\\train\\images\\solarpanels_native_2__x0_5817_y0_5587_dxdy_416.tif: ignoring corrupt image/label: Label class 1 exceeds dataset class count 1. Possible class labels are 0-0\n",
      "\u001b[34m\u001b[1mtrain: \u001b[0mWARNING  C:\\Users\\tarun\\OneDrive\\Desktop\\Solar-Panel-Detection\\data\\train\\images\\solarpanels_native_2__x0_5828_y0_5677_dxdy_416.tif: ignoring corrupt image/label: Label class 1 exceeds dataset class count 1. Possible class labels are 0-0\n",
      "\u001b[34m\u001b[1mtrain: \u001b[0mWARNING  C:\\Users\\tarun\\OneDrive\\Desktop\\Solar-Panel-Detection\\data\\train\\images\\solarpanels_native_2__x0_5859_y0_5433_dxdy_416.tif: ignoring corrupt image/label: Label class 1 exceeds dataset class count 1. Possible class labels are 0-0\n",
      "\u001b[34m\u001b[1mtrain: \u001b[0mWARNING  C:\\Users\\tarun\\OneDrive\\Desktop\\Solar-Panel-Detection\\data\\train\\images\\solarpanels_native_2__x0_5980_y0_5654_dxdy_416.tif: ignoring corrupt image/label: Label class 1 exceeds dataset class count 1. Possible class labels are 0-0\n",
      "\u001b[34m\u001b[1mtrain: \u001b[0mWARNING  C:\\Users\\tarun\\OneDrive\\Desktop\\Solar-Panel-Detection\\data\\train\\images\\solarpanels_native_2__x0_650_y0_8551_dxdy_416.tif: ignoring corrupt image/label: Label class 1 exceeds dataset class count 1. Possible class labels are 0-0\n",
      "\u001b[34m\u001b[1mtrain: \u001b[0mWARNING  C:\\Users\\tarun\\OneDrive\\Desktop\\Solar-Panel-Detection\\data\\train\\images\\solarpanels_native_2__x0_6815_y0_9816_dxdy_416.tif: ignoring corrupt image/label: Label class 1 exceeds dataset class count 1. Possible class labels are 0-0\n",
      "\u001b[34m\u001b[1mtrain: \u001b[0mWARNING  C:\\Users\\tarun\\OneDrive\\Desktop\\Solar-Panel-Detection\\data\\train\\images\\solarpanels_native_2__x0_6876_y0_9926_dxdy_416.tif: ignoring corrupt image/label: Label class 1 exceeds dataset class count 1. Possible class labels are 0-0\n",
      "\u001b[34m\u001b[1mtrain: \u001b[0mWARNING  C:\\Users\\tarun\\OneDrive\\Desktop\\Solar-Panel-Detection\\data\\train\\images\\solarpanels_native_2__x0_6880_y0_9736_dxdy_416.tif: ignoring corrupt image/label: Label class 1 exceeds dataset class count 1. Possible class labels are 0-0\n",
      "\u001b[34m\u001b[1mtrain: \u001b[0mWARNING  C:\\Users\\tarun\\OneDrive\\Desktop\\Solar-Panel-Detection\\data\\train\\images\\solarpanels_native_2__x0_6975_y0_10016_dxdy_416.tif: ignoring corrupt image/label: Label class 1 exceeds dataset class count 1. Possible class labels are 0-0\n",
      "\u001b[34m\u001b[1mtrain: \u001b[0mWARNING  C:\\Users\\tarun\\OneDrive\\Desktop\\Solar-Panel-Detection\\data\\train\\images\\solarpanels_native_2__x0_7013_y0_9828_dxdy_416.tif: ignoring corrupt image/label: Label class 1 exceeds dataset class count 1. Possible class labels are 0-0\n",
      "\u001b[34m\u001b[1mtrain: \u001b[0mWARNING  C:\\Users\\tarun\\OneDrive\\Desktop\\Solar-Panel-Detection\\data\\train\\images\\solarpanels_native_2__x0_7046_y0_9851_dxdy_416.tif: ignoring corrupt image/label: Label class 1 exceeds dataset class count 1. Possible class labels are 0-0\n",
      "\u001b[34m\u001b[1mtrain: \u001b[0mWARNING  C:\\Users\\tarun\\OneDrive\\Desktop\\Solar-Panel-Detection\\data\\train\\images\\solarpanels_native_2__x0_7062_y0_9845_dxdy_416.tif: ignoring corrupt image/label: Label class 1 exceeds dataset class count 1. Possible class labels are 0-0\n",
      "\u001b[34m\u001b[1mtrain: \u001b[0mWARNING  C:\\Users\\tarun\\OneDrive\\Desktop\\Solar-Panel-Detection\\data\\train\\images\\solarpanels_native_2__x0_7092_y0_10244_dxdy_416.tif: ignoring corrupt image/label: Label class 1 exceeds dataset class count 1. Possible class labels are 0-0\n",
      "\u001b[34m\u001b[1mtrain: \u001b[0mWARNING  C:\\Users\\tarun\\OneDrive\\Desktop\\Solar-Panel-Detection\\data\\train\\images\\solarpanels_native_2__x0_7210_y0_10328_dxdy_416.tif: ignoring corrupt image/label: Label class 1 exceeds dataset class count 1. Possible class labels are 0-0\n",
      "\u001b[34m\u001b[1mtrain: \u001b[0mWARNING  C:\\Users\\tarun\\OneDrive\\Desktop\\Solar-Panel-Detection\\data\\train\\images\\solarpanels_native_2__x0_778_y0_8463_dxdy_416.tif: ignoring corrupt image/label: Label class 1 exceeds dataset class count 1. Possible class labels are 0-0\n",
      "\u001b[34m\u001b[1mtrain: \u001b[0mWARNING  C:\\Users\\tarun\\OneDrive\\Desktop\\Solar-Panel-Detection\\data\\train\\images\\solarpanels_native_2__x0_785_y0_8567_dxdy_416.tif: ignoring corrupt image/label: Label class 1 exceeds dataset class count 1. Possible class labels are 0-0\n",
      "\u001b[34m\u001b[1mtrain: \u001b[0mWARNING  C:\\Users\\tarun\\OneDrive\\Desktop\\Solar-Panel-Detection\\data\\train\\images\\solarpanels_native_2__x0_8277_y0_3127_dxdy_416.tif: ignoring corrupt image/label: Label class 1 exceeds dataset class count 1. Possible class labels are 0-0\n",
      "\u001b[34m\u001b[1mtrain: \u001b[0mWARNING  C:\\Users\\tarun\\OneDrive\\Desktop\\Solar-Panel-Detection\\data\\train\\images\\solarpanels_native_2__x0_8319_y0_3069_dxdy_416.tif: ignoring corrupt image/label: Label class 1 exceeds dataset class count 1. Possible class labels are 0-0\n",
      "\u001b[34m\u001b[1mtrain: \u001b[0mWARNING  C:\\Users\\tarun\\OneDrive\\Desktop\\Solar-Panel-Detection\\data\\train\\images\\solarpanels_native_2__x0_8416_y0_3053_dxdy_416.tif: ignoring corrupt image/label: Label class 1 exceeds dataset class count 1. Possible class labels are 0-0\n",
      "\u001b[34m\u001b[1mtrain: \u001b[0mWARNING  C:\\Users\\tarun\\OneDrive\\Desktop\\Solar-Panel-Detection\\data\\train\\images\\solarpanels_native_2__x0_8446_y0_2935_dxdy_416.tif: ignoring corrupt image/label: Label class 1 exceeds dataset class count 1. Possible class labels are 0-0\n",
      "\u001b[34m\u001b[1mtrain: \u001b[0mWARNING  C:\\Users\\tarun\\OneDrive\\Desktop\\Solar-Panel-Detection\\data\\train\\images\\solarpanels_native_2__x0_8478_y0_3018_dxdy_416.tif: ignoring corrupt image/label: Label class 1 exceeds dataset class count 1. Possible class labels are 0-0\n",
      "\u001b[34m\u001b[1mtrain: \u001b[0mWARNING  C:\\Users\\tarun\\OneDrive\\Desktop\\Solar-Panel-Detection\\data\\train\\images\\solarpanels_native_2__x0_8590_y0_2900_dxdy_416.tif: ignoring corrupt image/label: Label class 1 exceeds dataset class count 1. Possible class labels are 0-0\n",
      "\u001b[34m\u001b[1mtrain: \u001b[0mWARNING  C:\\Users\\tarun\\OneDrive\\Desktop\\Solar-Panel-Detection\\data\\train\\images\\solarpanels_native_2__x0_9261_y0_2834_dxdy_416.tif: ignoring corrupt image/label: Label class 1 exceeds dataset class count 1. Possible class labels are 0-0\n",
      "\u001b[34m\u001b[1mtrain: \u001b[0mWARNING  C:\\Users\\tarun\\OneDrive\\Desktop\\Solar-Panel-Detection\\data\\train\\images\\solarpanels_native_2__x0_9310_y0_3032_dxdy_416.tif: ignoring corrupt image/label: Label class 1 exceeds dataset class count 1. Possible class labels are 0-0\n",
      "\u001b[34m\u001b[1mtrain: \u001b[0mWARNING  C:\\Users\\tarun\\OneDrive\\Desktop\\Solar-Panel-Detection\\data\\train\\images\\solarpanels_native_2__x0_9336_y0_2920_dxdy_416.tif: ignoring corrupt image/label: Label class 1 exceeds dataset class count 1. Possible class labels are 0-0\n",
      "\u001b[34m\u001b[1mtrain: \u001b[0mWARNING  C:\\Users\\tarun\\OneDrive\\Desktop\\Solar-Panel-Detection\\data\\train\\images\\solarpanels_native_2__x0_9358_y0_3629_dxdy_416.tif: ignoring corrupt image/label: Label class 1 exceeds dataset class count 1. Possible class labels are 0-0\n",
      "\u001b[34m\u001b[1mtrain: \u001b[0mWARNING  C:\\Users\\tarun\\OneDrive\\Desktop\\Solar-Panel-Detection\\data\\train\\images\\solarpanels_native_2__x0_9411_y0_3697_dxdy_416.tif: ignoring corrupt image/label: Label class 1 exceeds dataset class count 1. Possible class labels are 0-0\n",
      "\u001b[34m\u001b[1mtrain: \u001b[0mWARNING  C:\\Users\\tarun\\OneDrive\\Desktop\\Solar-Panel-Detection\\data\\train\\images\\solarpanels_native_2__x0_9471_y0_3791_dxdy_416.tif: ignoring corrupt image/label: Label class 1 exceeds dataset class count 1. Possible class labels are 0-0\n",
      "\u001b[34m\u001b[1mtrain: \u001b[0mWARNING  C:\\Users\\tarun\\OneDrive\\Desktop\\Solar-Panel-Detection\\data\\train\\images\\solarpanels_native_2__x0_9488_y0_3083_dxdy_416.tif: ignoring corrupt image/label: Label class 1 exceeds dataset class count 1. Possible class labels are 0-0\n",
      "\u001b[34m\u001b[1mtrain: \u001b[0mWARNING  C:\\Users\\tarun\\OneDrive\\Desktop\\Solar-Panel-Detection\\data\\train\\images\\solarpanels_native_2__x0_9515_y0_3753_dxdy_416.tif: ignoring corrupt image/label: Label class 1 exceeds dataset class count 1. Possible class labels are 0-0\n",
      "\u001b[34m\u001b[1mtrain: \u001b[0mWARNING  C:\\Users\\tarun\\OneDrive\\Desktop\\Solar-Panel-Detection\\data\\train\\images\\solarpanels_native_2__x0_9516_y0_2520_dxdy_416.tif: ignoring corrupt image/label: Label class 1 exceeds dataset class count 1. Possible class labels are 0-0\n",
      "\u001b[34m\u001b[1mtrain: \u001b[0mWARNING  C:\\Users\\tarun\\OneDrive\\Desktop\\Solar-Panel-Detection\\data\\train\\images\\solarpanels_native_2__x0_9542_y0_3448_dxdy_416.tif: ignoring corrupt image/label: Label class 1 exceeds dataset class count 1. Possible class labels are 0-0\n",
      "\u001b[34m\u001b[1mtrain: \u001b[0mWARNING  C:\\Users\\tarun\\OneDrive\\Desktop\\Solar-Panel-Detection\\data\\train\\images\\solarpanels_native_2__x0_9565_y0_3689_dxdy_416.tif: ignoring corrupt image/label: Label class 1 exceeds dataset class count 1. Possible class labels are 0-0\n",
      "\u001b[34m\u001b[1mtrain: \u001b[0mWARNING  C:\\Users\\tarun\\OneDrive\\Desktop\\Solar-Panel-Detection\\data\\train\\images\\solarpanels_native_2__x0_9582_y0_3556_dxdy_416.tif: ignoring corrupt image/label: Label class 1 exceeds dataset class count 1. Possible class labels are 0-0\n",
      "\u001b[34m\u001b[1mtrain: \u001b[0mWARNING  C:\\Users\\tarun\\OneDrive\\Desktop\\Solar-Panel-Detection\\data\\train\\images\\solarpanels_native_2__x0_9601_y0_3529_dxdy_416.tif: ignoring corrupt image/label: Label class 1 exceeds dataset class count 1. Possible class labels are 0-0\n",
      "\u001b[34m\u001b[1mtrain: \u001b[0mWARNING  C:\\Users\\tarun\\OneDrive\\Desktop\\Solar-Panel-Detection\\data\\train\\images\\solarpanels_native_2__x0_9606_y0_2546_dxdy_416.tif: ignoring corrupt image/label: Label class 1 exceeds dataset class count 1. Possible class labels are 0-0\n",
      "\u001b[34m\u001b[1mtrain: \u001b[0mWARNING  C:\\Users\\tarun\\OneDrive\\Desktop\\Solar-Panel-Detection\\data\\train\\images\\solarpanels_native_2__x0_9654_y0_3385_dxdy_416.tif: ignoring corrupt image/label: Label class 1 exceeds dataset class count 1. Possible class labels are 0-0\n",
      "\u001b[34m\u001b[1mtrain: \u001b[0mWARNING  C:\\Users\\tarun\\OneDrive\\Desktop\\Solar-Panel-Detection\\data\\train\\images\\solarpanels_native_2__x0_9656_y0_2596_dxdy_416.tif: ignoring corrupt image/label: Label class 1 exceeds dataset class count 1. Possible class labels are 0-0\n",
      "\u001b[34m\u001b[1mtrain: \u001b[0mWARNING  C:\\Users\\tarun\\OneDrive\\Desktop\\Solar-Panel-Detection\\data\\train\\images\\solarpanels_native_2__x0_9705_y0_2594_dxdy_416.tif: ignoring corrupt image/label: Label class 1 exceeds dataset class count 1. Possible class labels are 0-0\n",
      "\u001b[34m\u001b[1mtrain: \u001b[0mWARNING  C:\\Users\\tarun\\OneDrive\\Desktop\\Solar-Panel-Detection\\data\\train\\images\\solarpanels_native_2__x0_9740_y0_3440_dxdy_416.tif: ignoring corrupt image/label: Label class 1 exceeds dataset class count 1. Possible class labels are 0-0\n",
      "\u001b[34m\u001b[1mtrain: \u001b[0mWARNING  C:\\Users\\tarun\\OneDrive\\Desktop\\Solar-Panel-Detection\\data\\train\\images\\solarpanels_native_2__x0_9772_y0_2559_dxdy_416.tif: ignoring corrupt image/label: Label class 1 exceeds dataset class count 1. Possible class labels are 0-0\n",
      "\u001b[34m\u001b[1mtrain: \u001b[0mWARNING  C:\\Users\\tarun\\OneDrive\\Desktop\\Solar-Panel-Detection\\data\\train\\images\\solarpanels_native_3__x0_11009_y0_12793_dxdy_416.tif: ignoring corrupt image/label: Label class 2 exceeds dataset class count 1. Possible class labels are 0-0\n",
      "\u001b[34m\u001b[1mtrain: \u001b[0mWARNING  C:\\Users\\tarun\\OneDrive\\Desktop\\Solar-Panel-Detection\\data\\train\\images\\solarpanels_native_3__x0_11021_y0_12863_dxdy_416.tif: ignoring corrupt image/label: Label class 2 exceeds dataset class count 1. Possible class labels are 0-0\n",
      "\u001b[34m\u001b[1mtrain: \u001b[0mWARNING  C:\\Users\\tarun\\OneDrive\\Desktop\\Solar-Panel-Detection\\data\\train\\images\\solarpanels_native_3__x0_11023_y0_12660_dxdy_416.tif: ignoring corrupt image/label: Label class 2 exceeds dataset class count 1. Possible class labels are 0-0\n",
      "\u001b[34m\u001b[1mtrain: \u001b[0mWARNING  C:\\Users\\tarun\\OneDrive\\Desktop\\Solar-Panel-Detection\\data\\train\\images\\solarpanels_native_3__x0_11058_y0_12848_dxdy_416.tif: ignoring corrupt image/label: Label class 2 exceeds dataset class count 1. Possible class labels are 0-0\n",
      "\u001b[34m\u001b[1mtrain: \u001b[0mWARNING  C:\\Users\\tarun\\OneDrive\\Desktop\\Solar-Panel-Detection\\data\\train\\images\\solarpanels_native_3__x0_11100_y0_12917_dxdy_416.tif: ignoring corrupt image/label: Label class 2 exceeds dataset class count 1. Possible class labels are 0-0\n",
      "\u001b[34m\u001b[1mtrain: \u001b[0mWARNING  C:\\Users\\tarun\\OneDrive\\Desktop\\Solar-Panel-Detection\\data\\train\\images\\solarpanels_native_3__x0_11151_y0_12804_dxdy_416.tif: ignoring corrupt image/label: Label class 2 exceeds dataset class count 1. Possible class labels are 0-0\n",
      "\u001b[34m\u001b[1mtrain: \u001b[0mWARNING  C:\\Users\\tarun\\OneDrive\\Desktop\\Solar-Panel-Detection\\data\\train\\images\\solarpanels_native_3__x0_11159_y0_12624_dxdy_416.tif: ignoring corrupt image/label: Label class 2 exceeds dataset class count 1. Possible class labels are 0-0\n",
      "\u001b[34m\u001b[1mtrain: \u001b[0mWARNING  C:\\Users\\tarun\\OneDrive\\Desktop\\Solar-Panel-Detection\\data\\train\\images\\solarpanels_native_3__x0_11176_y0_12824_dxdy_416.tif: ignoring corrupt image/label: Label class 2 exceeds dataset class count 1. Possible class labels are 0-0\n",
      "\u001b[34m\u001b[1mtrain: \u001b[0mWARNING  C:\\Users\\tarun\\OneDrive\\Desktop\\Solar-Panel-Detection\\data\\train\\images\\solarpanels_native_3__x0_11206_y0_12820_dxdy_416.tif: ignoring corrupt image/label: Label class 2 exceeds dataset class count 1. Possible class labels are 0-0\n",
      "\u001b[34m\u001b[1mtrain: \u001b[0mWARNING  C:\\Users\\tarun\\OneDrive\\Desktop\\Solar-Panel-Detection\\data\\train\\images\\solarpanels_native_3__x0_4802_y0_10152_dxdy_416.tif: ignoring corrupt image/label: Label class 2 exceeds dataset class count 1. Possible class labels are 0-0\n"
     ]
    },
    {
     "name": "stderr",
     "output_type": "stream",
     "text": [
      "\n"
     ]
    },
    {
     "name": "stdout",
     "output_type": "stream",
     "text": [
      "\u001b[34m\u001b[1mtrain: \u001b[0mNew cache created: C:\\Users\\tarun\\OneDrive\\Desktop\\Solar-Panel-Detection\\data\\train\\labels.cache\n"
     ]
    },
    {
     "name": "stderr",
     "output_type": "stream",
     "text": [
      "\u001b[34m\u001b[1mval: \u001b[0mScanning C:\\Users\\tarun\\OneDrive\\Desktop\\Solar-Panel-Detection\\data\\val\\labels... 254 images, 0 backgrounds, 12 corrupt: 100%|██████████| 254/254 [00:01<00:00, 190.23it/s]"
     ]
    },
    {
     "name": "stdout",
     "output_type": "stream",
     "text": [
      "\u001b[34m\u001b[1mval: \u001b[0mWARNING  C:\\Users\\tarun\\OneDrive\\Desktop\\Solar-Panel-Detection\\data\\val\\images\\solarpanels_native_3__x0_5909_y0_8922_dxdy_416.tif: ignoring corrupt image/label: Label class 2 exceeds dataset class count 1. Possible class labels are 0-0\n",
      "\u001b[34m\u001b[1mval: \u001b[0mWARNING  C:\\Users\\tarun\\OneDrive\\Desktop\\Solar-Panel-Detection\\data\\val\\images\\solarpanels_native_3__x0_5968_y0_8934_dxdy_416.tif: ignoring corrupt image/label: Label class 2 exceeds dataset class count 1. Possible class labels are 0-0\n",
      "\u001b[34m\u001b[1mval: \u001b[0mWARNING  C:\\Users\\tarun\\OneDrive\\Desktop\\Solar-Panel-Detection\\data\\val\\images\\solarpanels_native_3__x0_6024_y0_8836_dxdy_416.tif: ignoring corrupt image/label: Label class 2 exceeds dataset class count 1. Possible class labels are 0-0\n",
      "\u001b[34m\u001b[1mval: \u001b[0mWARNING  C:\\Users\\tarun\\OneDrive\\Desktop\\Solar-Panel-Detection\\data\\val\\images\\solarpanels_native_3__x0_6077_y0_8945_dxdy_416.tif: ignoring corrupt image/label: Label class 2 exceeds dataset class count 1. Possible class labels are 0-0\n",
      "\u001b[34m\u001b[1mval: \u001b[0mWARNING  C:\\Users\\tarun\\OneDrive\\Desktop\\Solar-Panel-Detection\\data\\val\\images\\solarpanels_native_3__x0_6102_y0_13284_dxdy_416.tif: ignoring corrupt image/label: Label class 1 exceeds dataset class count 1. Possible class labels are 0-0\n",
      "\u001b[34m\u001b[1mval: \u001b[0mWARNING  C:\\Users\\tarun\\OneDrive\\Desktop\\Solar-Panel-Detection\\data\\val\\images\\solarpanels_native_3__x0_6129_y0_8840_dxdy_416.tif: ignoring corrupt image/label: Label class 2 exceeds dataset class count 1. Possible class labels are 0-0\n",
      "\u001b[34m\u001b[1mval: \u001b[0mWARNING  C:\\Users\\tarun\\OneDrive\\Desktop\\Solar-Panel-Detection\\data\\val\\images\\solarpanels_native_3__x0_6137_y0_13322_dxdy_416.tif: ignoring corrupt image/label: Label class 1 exceeds dataset class count 1. Possible class labels are 0-0\n",
      "\u001b[34m\u001b[1mval: \u001b[0mWARNING  C:\\Users\\tarun\\OneDrive\\Desktop\\Solar-Panel-Detection\\data\\val\\images\\solarpanels_native_3__x0_6165_y0_13495_dxdy_416.tif: ignoring corrupt image/label: Label class 1 exceeds dataset class count 1. Possible class labels are 0-0\n",
      "\u001b[34m\u001b[1mval: \u001b[0mWARNING  C:\\Users\\tarun\\OneDrive\\Desktop\\Solar-Panel-Detection\\data\\val\\images\\solarpanels_native_3__x0_6200_y0_13369_dxdy_416.tif: ignoring corrupt image/label: Label class 1 exceeds dataset class count 1. Possible class labels are 0-0\n",
      "\u001b[34m\u001b[1mval: \u001b[0mWARNING  C:\\Users\\tarun\\OneDrive\\Desktop\\Solar-Panel-Detection\\data\\val\\images\\solarpanels_native_3__x0_6464_y0_13626_dxdy_416.tif: ignoring corrupt image/label: Label class 2 exceeds dataset class count 1. Possible class labels are 0-0\n",
      "\u001b[34m\u001b[1mval: \u001b[0mWARNING  C:\\Users\\tarun\\OneDrive\\Desktop\\Solar-Panel-Detection\\data\\val\\images\\solarpanels_native_3__x0_6665_y0_13763_dxdy_416.tif: ignoring corrupt image/label: Label class 2 exceeds dataset class count 1. Possible class labels are 0-0\n",
      "\u001b[34m\u001b[1mval: \u001b[0mWARNING  C:\\Users\\tarun\\OneDrive\\Desktop\\Solar-Panel-Detection\\data\\val\\images\\solarpanels_native_3__x0_6737_y0_13757_dxdy_416.tif: ignoring corrupt image/label: Label class 2 exceeds dataset class count 1. Possible class labels are 0-0\n"
     ]
    },
    {
     "name": "stderr",
     "output_type": "stream",
     "text": [
      "\n"
     ]
    },
    {
     "name": "stdout",
     "output_type": "stream",
     "text": [
      "\u001b[34m\u001b[1mval: \u001b[0mNew cache created: C:\\Users\\tarun\\OneDrive\\Desktop\\Solar-Panel-Detection\\data\\val\\labels.cache\n",
      "Plotting labels to runs\\detect\\train3\\labels.jpg... \n",
      "\u001b[34m\u001b[1moptimizer:\u001b[0m 'optimizer=auto' found, ignoring 'lr0=0.01' and 'momentum=0.937' and determining best 'optimizer', 'lr0' and 'momentum' automatically... \n",
      "\u001b[34m\u001b[1moptimizer:\u001b[0m AdamW(lr=0.002, momentum=0.9) with parameter groups 57 weight(decay=0.0), 64 weight(decay=0.0005), 63 bias(decay=0.0)\n",
      "\u001b[34m\u001b[1mTensorBoard: \u001b[0mmodel graph visualization added \n",
      "Image sizes 416 train, 416 val\n",
      "Using 0 dataloader workers\n",
      "Logging results to \u001b[1mruns\\detect\\train3\u001b[0m\n",
      "Starting training for 100 epochs...\n",
      "\n",
      "      Epoch    GPU_mem   box_loss   cls_loss   dfl_loss  Instances       Size\n"
     ]
    },
    {
     "name": "stderr",
     "output_type": "stream",
     "text": [
      "      1/100         0G      1.833      1.888      1.299         41        416: 100%|██████████| 115/115 [10:24<00:00,  5.43s/it]\n",
      "                 Class     Images  Instances      Box(P          R      mAP50  mAP50-95): 100%|██████████| 8/8 [00:33<00:00,  4.20s/it]"
     ]
    },
    {
     "name": "stdout",
     "output_type": "stream",
     "text": [
      "                   all        242       1683      0.697      0.393      0.452      0.279\n"
     ]
    },
    {
     "name": "stderr",
     "output_type": "stream",
     "text": [
      "\n"
     ]
    },
    {
     "name": "stdout",
     "output_type": "stream",
     "text": [
      "\n",
      "      Epoch    GPU_mem   box_loss   cls_loss   dfl_loss  Instances       Size\n"
     ]
    },
    {
     "name": "stderr",
     "output_type": "stream",
     "text": [
      "      2/100         0G      1.544      1.149      1.148         62        416: 100%|██████████| 115/115 [11:47<00:00,  6.15s/it]\n",
      "                 Class     Images  Instances      Box(P          R      mAP50  mAP50-95): 100%|██████████| 8/8 [00:42<00:00,  5.33s/it]"
     ]
    },
    {
     "name": "stdout",
     "output_type": "stream",
     "text": [
      "                   all        242       1683      0.535      0.429      0.415      0.251\n"
     ]
    },
    {
     "name": "stderr",
     "output_type": "stream",
     "text": [
      "\n"
     ]
    },
    {
     "name": "stdout",
     "output_type": "stream",
     "text": [
      "\n",
      "      Epoch    GPU_mem   box_loss   cls_loss   dfl_loss  Instances       Size\n"
     ]
    },
    {
     "name": "stderr",
     "output_type": "stream",
     "text": [
      "      3/100         0G      1.482      1.065      1.129         75        416: 100%|██████████| 115/115 [06:19<00:00,  3.30s/it]\n",
      "                 Class     Images  Instances      Box(P          R      mAP50  mAP50-95): 100%|██████████| 8/8 [00:18<00:00,  2.29s/it]\n"
     ]
    },
    {
     "name": "stdout",
     "output_type": "stream",
     "text": [
      "                   all        242       1683       0.62      0.445      0.473      0.271\n",
      "\n",
      "      Epoch    GPU_mem   box_loss   cls_loss   dfl_loss  Instances       Size\n"
     ]
    },
    {
     "name": "stderr",
     "output_type": "stream",
     "text": [
      "      4/100         0G      1.447      1.032      1.109         69        416: 100%|██████████| 115/115 [05:06<00:00,  2.67s/it]\n",
      "                 Class     Images  Instances      Box(P          R      mAP50  mAP50-95): 100%|██████████| 8/8 [00:15<00:00,  1.96s/it]"
     ]
    },
    {
     "name": "stdout",
     "output_type": "stream",
     "text": [
      "                   all        242       1683      0.685      0.525      0.621      0.358\n"
     ]
    },
    {
     "name": "stderr",
     "output_type": "stream",
     "text": [
      "\n"
     ]
    },
    {
     "name": "stdout",
     "output_type": "stream",
     "text": [
      "\n",
      "      Epoch    GPU_mem   box_loss   cls_loss   dfl_loss  Instances       Size\n"
     ]
    },
    {
     "name": "stderr",
     "output_type": "stream",
     "text": [
      "      5/100         0G      1.436      1.001      1.109         59        416: 100%|██████████| 115/115 [05:04<00:00,  2.65s/it]\n",
      "                 Class     Images  Instances      Box(P          R      mAP50  mAP50-95): 100%|██████████| 8/8 [00:20<00:00,  2.56s/it]"
     ]
    },
    {
     "name": "stdout",
     "output_type": "stream",
     "text": [
      "                   all        242       1683      0.664      0.501      0.571      0.362\n"
     ]
    },
    {
     "name": "stderr",
     "output_type": "stream",
     "text": [
      "\n"
     ]
    },
    {
     "name": "stdout",
     "output_type": "stream",
     "text": [
      "\n",
      "      Epoch    GPU_mem   box_loss   cls_loss   dfl_loss  Instances       Size\n"
     ]
    },
    {
     "name": "stderr",
     "output_type": "stream",
     "text": [
      "      6/100         0G      1.379     0.9337      1.083         14        416: 100%|██████████| 115/115 [04:35<00:00,  2.40s/it]\n",
      "                 Class     Images  Instances      Box(P          R      mAP50  mAP50-95): 100%|██████████| 8/8 [00:14<00:00,  1.81s/it]"
     ]
    },
    {
     "name": "stdout",
     "output_type": "stream",
     "text": [
      "                   all        242       1683      0.713      0.535      0.617      0.369\n"
     ]
    },
    {
     "name": "stderr",
     "output_type": "stream",
     "text": [
      "\n"
     ]
    },
    {
     "name": "stdout",
     "output_type": "stream",
     "text": [
      "\n",
      "      Epoch    GPU_mem   box_loss   cls_loss   dfl_loss  Instances       Size\n"
     ]
    },
    {
     "name": "stderr",
     "output_type": "stream",
     "text": [
      "      7/100         0G      1.328     0.8766      1.067        123        416: 100%|██████████| 115/115 [04:32<00:00,  2.37s/it]\n",
      "                 Class     Images  Instances      Box(P          R      mAP50  mAP50-95): 100%|██████████| 8/8 [00:14<00:00,  1.78s/it]"
     ]
    },
    {
     "name": "stdout",
     "output_type": "stream",
     "text": [
      "                   all        242       1683      0.737      0.528      0.609      0.363\n"
     ]
    },
    {
     "name": "stderr",
     "output_type": "stream",
     "text": [
      "\n"
     ]
    },
    {
     "name": "stdout",
     "output_type": "stream",
     "text": [
      "\n",
      "      Epoch    GPU_mem   box_loss   cls_loss   dfl_loss  Instances       Size\n"
     ]
    },
    {
     "name": "stderr",
     "output_type": "stream",
     "text": [
      "      8/100         0G      1.289     0.8539      1.048         56        416: 100%|██████████| 115/115 [04:28<00:00,  2.33s/it]\n",
      "                 Class     Images  Instances      Box(P          R      mAP50  mAP50-95): 100%|██████████| 8/8 [00:14<00:00,  1.77s/it]"
     ]
    },
    {
     "name": "stdout",
     "output_type": "stream",
     "text": [
      "                   all        242       1683      0.665      0.532      0.558      0.349\n"
     ]
    },
    {
     "name": "stderr",
     "output_type": "stream",
     "text": [
      "\n"
     ]
    },
    {
     "name": "stdout",
     "output_type": "stream",
     "text": [
      "\n",
      "      Epoch    GPU_mem   box_loss   cls_loss   dfl_loss  Instances       Size\n"
     ]
    },
    {
     "name": "stderr",
     "output_type": "stream",
     "text": [
      "      9/100         0G      1.265     0.8176      1.036         25        416: 100%|██████████| 115/115 [04:26<00:00,  2.31s/it]\n",
      "                 Class     Images  Instances      Box(P          R      mAP50  mAP50-95): 100%|██████████| 8/8 [00:15<00:00,  1.90s/it]"
     ]
    },
    {
     "name": "stdout",
     "output_type": "stream",
     "text": [
      "                   all        242       1683      0.647      0.491      0.524      0.327\n"
     ]
    },
    {
     "name": "stderr",
     "output_type": "stream",
     "text": [
      "\n"
     ]
    },
    {
     "name": "stdout",
     "output_type": "stream",
     "text": [
      "\n",
      "      Epoch    GPU_mem   box_loss   cls_loss   dfl_loss  Instances       Size\n"
     ]
    },
    {
     "name": "stderr",
     "output_type": "stream",
     "text": [
      "     10/100         0G      1.241     0.8061      1.023        103        416: 100%|██████████| 115/115 [04:33<00:00,  2.37s/it]\n",
      "                 Class     Images  Instances      Box(P          R      mAP50  mAP50-95): 100%|██████████| 8/8 [00:14<00:00,  1.78s/it]"
     ]
    },
    {
     "name": "stdout",
     "output_type": "stream",
     "text": [
      "                   all        242       1683      0.693      0.488      0.553      0.353\n"
     ]
    },
    {
     "name": "stderr",
     "output_type": "stream",
     "text": [
      "\n"
     ]
    },
    {
     "name": "stdout",
     "output_type": "stream",
     "text": [
      "\n",
      "      Epoch    GPU_mem   box_loss   cls_loss   dfl_loss  Instances       Size\n"
     ]
    },
    {
     "name": "stderr",
     "output_type": "stream",
     "text": [
      "     11/100         0G      1.228     0.7962       1.03         30        416: 100%|██████████| 115/115 [04:36<00:00,  2.40s/it]\n",
      "                 Class     Images  Instances      Box(P          R      mAP50  mAP50-95): 100%|██████████| 8/8 [00:14<00:00,  1.79s/it]"
     ]
    },
    {
     "name": "stdout",
     "output_type": "stream",
     "text": [
      "                   all        242       1683      0.713      0.586      0.669      0.414\n"
     ]
    },
    {
     "name": "stderr",
     "output_type": "stream",
     "text": [
      "\n"
     ]
    },
    {
     "name": "stdout",
     "output_type": "stream",
     "text": [
      "\n",
      "      Epoch    GPU_mem   box_loss   cls_loss   dfl_loss  Instances       Size\n"
     ]
    },
    {
     "name": "stderr",
     "output_type": "stream",
     "text": [
      "     12/100         0G      1.205      0.783      1.011         27        416: 100%|██████████| 115/115 [04:30<00:00,  2.35s/it]\n",
      "                 Class     Images  Instances      Box(P          R      mAP50  mAP50-95): 100%|██████████| 8/8 [00:13<00:00,  1.70s/it]"
     ]
    },
    {
     "name": "stdout",
     "output_type": "stream",
     "text": [
      "                   all        242       1683      0.744      0.569      0.642      0.418\n"
     ]
    },
    {
     "name": "stderr",
     "output_type": "stream",
     "text": [
      "\n"
     ]
    },
    {
     "name": "stdout",
     "output_type": "stream",
     "text": [
      "\n",
      "      Epoch    GPU_mem   box_loss   cls_loss   dfl_loss  Instances       Size\n"
     ]
    },
    {
     "name": "stderr",
     "output_type": "stream",
     "text": [
      "     13/100         0G      1.186     0.7615       1.01        130        416: 100%|██████████| 115/115 [04:30<00:00,  2.35s/it]\n",
      "                 Class     Images  Instances      Box(P          R      mAP50  mAP50-95): 100%|██████████| 8/8 [00:13<00:00,  1.73s/it]"
     ]
    },
    {
     "name": "stdout",
     "output_type": "stream",
     "text": [
      "                   all        242       1683      0.722      0.579      0.642      0.407\n"
     ]
    },
    {
     "name": "stderr",
     "output_type": "stream",
     "text": [
      "\n"
     ]
    },
    {
     "name": "stdout",
     "output_type": "stream",
     "text": [
      "\n",
      "      Epoch    GPU_mem   box_loss   cls_loss   dfl_loss  Instances       Size\n"
     ]
    },
    {
     "name": "stderr",
     "output_type": "stream",
     "text": [
      "     14/100         0G      1.217     0.7835      1.021        119        416: 100%|██████████| 115/115 [04:28<00:00,  2.33s/it]\n",
      "                 Class     Images  Instances      Box(P          R      mAP50  mAP50-95): 100%|██████████| 8/8 [00:13<00:00,  1.69s/it]"
     ]
    },
    {
     "name": "stdout",
     "output_type": "stream",
     "text": [
      "                   all        242       1683      0.703      0.594      0.666      0.417\n"
     ]
    },
    {
     "name": "stderr",
     "output_type": "stream",
     "text": [
      "\n"
     ]
    },
    {
     "name": "stdout",
     "output_type": "stream",
     "text": [
      "\n",
      "      Epoch    GPU_mem   box_loss   cls_loss   dfl_loss  Instances       Size\n"
     ]
    },
    {
     "name": "stderr",
     "output_type": "stream",
     "text": [
      "     15/100         0G      1.211     0.7607      1.011         21        416: 100%|██████████| 115/115 [04:26<00:00,  2.32s/it]\n",
      "                 Class     Images  Instances      Box(P          R      mAP50  mAP50-95): 100%|██████████| 8/8 [00:13<00:00,  1.74s/it]"
     ]
    },
    {
     "name": "stdout",
     "output_type": "stream",
     "text": [
      "                   all        242       1683      0.719      0.585      0.654       0.41\n"
     ]
    },
    {
     "name": "stderr",
     "output_type": "stream",
     "text": [
      "\n"
     ]
    },
    {
     "name": "stdout",
     "output_type": "stream",
     "text": [
      "\n",
      "      Epoch    GPU_mem   box_loss   cls_loss   dfl_loss  Instances       Size\n"
     ]
    },
    {
     "name": "stderr",
     "output_type": "stream",
     "text": [
      "     16/100         0G      1.169     0.7367     0.9993         24        416: 100%|██████████| 115/115 [04:27<00:00,  2.33s/it]\n",
      "                 Class     Images  Instances      Box(P          R      mAP50  mAP50-95): 100%|██████████| 8/8 [00:13<00:00,  1.70s/it]"
     ]
    },
    {
     "name": "stdout",
     "output_type": "stream",
     "text": [
      "                   all        242       1683      0.668      0.597      0.637        0.4\n"
     ]
    },
    {
     "name": "stderr",
     "output_type": "stream",
     "text": [
      "\n"
     ]
    },
    {
     "name": "stdout",
     "output_type": "stream",
     "text": [
      "\n",
      "      Epoch    GPU_mem   box_loss   cls_loss   dfl_loss  Instances       Size\n"
     ]
    },
    {
     "name": "stderr",
     "output_type": "stream",
     "text": [
      "     17/100         0G      1.148     0.7215     0.9962         81        416: 100%|██████████| 115/115 [04:33<00:00,  2.38s/it]\n",
      "                 Class     Images  Instances      Box(P          R      mAP50  mAP50-95): 100%|██████████| 8/8 [00:13<00:00,  1.74s/it]"
     ]
    },
    {
     "name": "stdout",
     "output_type": "stream",
     "text": [
      "                   all        242       1683      0.698      0.586      0.639       0.41\n"
     ]
    },
    {
     "name": "stderr",
     "output_type": "stream",
     "text": [
      "\n"
     ]
    },
    {
     "name": "stdout",
     "output_type": "stream",
     "text": [
      "\n",
      "      Epoch    GPU_mem   box_loss   cls_loss   dfl_loss  Instances       Size\n"
     ]
    },
    {
     "name": "stderr",
     "output_type": "stream",
     "text": [
      "     18/100         0G      1.115     0.6984     0.9815         93        416: 100%|██████████| 115/115 [04:33<00:00,  2.38s/it]\n",
      "                 Class     Images  Instances      Box(P          R      mAP50  mAP50-95): 100%|██████████| 8/8 [00:14<00:00,  1.75s/it]"
     ]
    },
    {
     "name": "stdout",
     "output_type": "stream",
     "text": [
      "                   all        242       1683       0.76      0.598      0.668      0.423\n"
     ]
    },
    {
     "name": "stderr",
     "output_type": "stream",
     "text": [
      "\n"
     ]
    },
    {
     "name": "stdout",
     "output_type": "stream",
     "text": [
      "\n",
      "      Epoch    GPU_mem   box_loss   cls_loss   dfl_loss  Instances       Size\n"
     ]
    },
    {
     "name": "stderr",
     "output_type": "stream",
     "text": [
      "     19/100         0G      1.147     0.7118     0.9969         45        416: 100%|██████████| 115/115 [04:28<00:00,  2.34s/it]\n",
      "                 Class     Images  Instances      Box(P          R      mAP50  mAP50-95): 100%|██████████| 8/8 [00:13<00:00,  1.73s/it]"
     ]
    },
    {
     "name": "stdout",
     "output_type": "stream",
     "text": [
      "                   all        242       1683      0.751      0.564      0.659       0.41\n"
     ]
    },
    {
     "name": "stderr",
     "output_type": "stream",
     "text": [
      "\n"
     ]
    },
    {
     "name": "stdout",
     "output_type": "stream",
     "text": [
      "\n",
      "      Epoch    GPU_mem   box_loss   cls_loss   dfl_loss  Instances       Size\n"
     ]
    },
    {
     "name": "stderr",
     "output_type": "stream",
     "text": [
      "     20/100         0G       1.12     0.6952     0.9822         18        416: 100%|██████████| 115/115 [04:26<00:00,  2.31s/it]\n",
      "                 Class     Images  Instances      Box(P          R      mAP50  mAP50-95): 100%|██████████| 8/8 [00:13<00:00,  1.74s/it]"
     ]
    },
    {
     "name": "stdout",
     "output_type": "stream",
     "text": [
      "                   all        242       1683      0.743      0.573      0.651        0.4\n"
     ]
    },
    {
     "name": "stderr",
     "output_type": "stream",
     "text": [
      "\n"
     ]
    },
    {
     "name": "stdout",
     "output_type": "stream",
     "text": [
      "\n",
      "      Epoch    GPU_mem   box_loss   cls_loss   dfl_loss  Instances       Size\n"
     ]
    },
    {
     "name": "stderr",
     "output_type": "stream",
     "text": [
      "     21/100         0G      1.101     0.6783     0.9787         33        416: 100%|██████████| 115/115 [04:26<00:00,  2.32s/it]\n",
      "                 Class     Images  Instances      Box(P          R      mAP50  mAP50-95): 100%|██████████| 8/8 [00:13<00:00,  1.70s/it]"
     ]
    },
    {
     "name": "stdout",
     "output_type": "stream",
     "text": [
      "                   all        242       1683      0.719       0.61      0.654      0.423\n"
     ]
    },
    {
     "name": "stderr",
     "output_type": "stream",
     "text": [
      "\n"
     ]
    },
    {
     "name": "stdout",
     "output_type": "stream",
     "text": [
      "\n",
      "      Epoch    GPU_mem   box_loss   cls_loss   dfl_loss  Instances       Size\n"
     ]
    },
    {
     "name": "stderr",
     "output_type": "stream",
     "text": [
      "     22/100         0G       1.11     0.6971     0.9785        127        416: 100%|██████████| 115/115 [04:28<00:00,  2.33s/it]\n",
      "                 Class     Images  Instances      Box(P          R      mAP50  mAP50-95): 100%|██████████| 8/8 [00:15<00:00,  1.90s/it]"
     ]
    },
    {
     "name": "stdout",
     "output_type": "stream",
     "text": [
      "                   all        242       1683      0.712      0.602      0.656      0.413\n"
     ]
    },
    {
     "name": "stderr",
     "output_type": "stream",
     "text": [
      "\n"
     ]
    },
    {
     "name": "stdout",
     "output_type": "stream",
     "text": [
      "\n",
      "      Epoch    GPU_mem   box_loss   cls_loss   dfl_loss  Instances       Size\n"
     ]
    },
    {
     "name": "stderr",
     "output_type": "stream",
     "text": [
      "     23/100         0G       1.08     0.6768      0.973         31        416: 100%|██████████| 115/115 [04:29<00:00,  2.34s/it]\n",
      "                 Class     Images  Instances      Box(P          R      mAP50  mAP50-95): 100%|██████████| 8/8 [00:13<00:00,  1.70s/it]"
     ]
    },
    {
     "name": "stdout",
     "output_type": "stream",
     "text": [
      "                   all        242       1683      0.755      0.597      0.666      0.421\n"
     ]
    },
    {
     "name": "stderr",
     "output_type": "stream",
     "text": [
      "\n"
     ]
    },
    {
     "name": "stdout",
     "output_type": "stream",
     "text": [
      "\n",
      "      Epoch    GPU_mem   box_loss   cls_loss   dfl_loss  Instances       Size\n"
     ]
    },
    {
     "name": "stderr",
     "output_type": "stream",
     "text": [
      "     24/100         0G      1.091     0.6788     0.9748         57        416: 100%|██████████| 115/115 [04:29<00:00,  2.34s/it]\n",
      "                 Class     Images  Instances      Box(P          R      mAP50  mAP50-95): 100%|██████████| 8/8 [00:13<00:00,  1.70s/it]"
     ]
    },
    {
     "name": "stdout",
     "output_type": "stream",
     "text": [
      "                   all        242       1683      0.746      0.617       0.68      0.443\n"
     ]
    },
    {
     "name": "stderr",
     "output_type": "stream",
     "text": [
      "\n"
     ]
    },
    {
     "name": "stdout",
     "output_type": "stream",
     "text": [
      "\n",
      "      Epoch    GPU_mem   box_loss   cls_loss   dfl_loss  Instances       Size\n"
     ]
    },
    {
     "name": "stderr",
     "output_type": "stream",
     "text": [
      "     25/100         0G      1.109      0.676     0.9758         37        416: 100%|██████████| 115/115 [04:27<00:00,  2.33s/it]\n",
      "                 Class     Images  Instances      Box(P          R      mAP50  mAP50-95): 100%|██████████| 8/8 [00:13<00:00,  1.72s/it]"
     ]
    },
    {
     "name": "stdout",
     "output_type": "stream",
     "text": [
      "                   all        242       1683       0.75      0.584      0.669      0.432\n"
     ]
    },
    {
     "name": "stderr",
     "output_type": "stream",
     "text": [
      "\n"
     ]
    },
    {
     "name": "stdout",
     "output_type": "stream",
     "text": [
      "\n",
      "      Epoch    GPU_mem   box_loss   cls_loss   dfl_loss  Instances       Size\n"
     ]
    },
    {
     "name": "stderr",
     "output_type": "stream",
     "text": [
      "     26/100         0G      1.104     0.6748     0.9716         40        416: 100%|██████████| 115/115 [04:29<00:00,  2.35s/it]\n",
      "                 Class     Images  Instances      Box(P          R      mAP50  mAP50-95): 100%|██████████| 8/8 [00:13<00:00,  1.70s/it]"
     ]
    },
    {
     "name": "stdout",
     "output_type": "stream",
     "text": [
      "                   all        242       1683      0.741      0.578      0.657      0.428\n"
     ]
    },
    {
     "name": "stderr",
     "output_type": "stream",
     "text": [
      "\n"
     ]
    },
    {
     "name": "stdout",
     "output_type": "stream",
     "text": [
      "\n",
      "      Epoch    GPU_mem   box_loss   cls_loss   dfl_loss  Instances       Size\n"
     ]
    },
    {
     "name": "stderr",
     "output_type": "stream",
     "text": [
      "     27/100         0G       1.08     0.6628     0.9706         25        416: 100%|██████████| 115/115 [04:27<00:00,  2.32s/it]\n",
      "                 Class     Images  Instances      Box(P          R      mAP50  mAP50-95): 100%|██████████| 8/8 [00:13<00:00,  1.72s/it]"
     ]
    },
    {
     "name": "stdout",
     "output_type": "stream",
     "text": [
      "                   all        242       1683      0.715      0.588      0.658      0.425\n"
     ]
    },
    {
     "name": "stderr",
     "output_type": "stream",
     "text": [
      "\n"
     ]
    },
    {
     "name": "stdout",
     "output_type": "stream",
     "text": [
      "\n",
      "      Epoch    GPU_mem   box_loss   cls_loss   dfl_loss  Instances       Size\n"
     ]
    },
    {
     "name": "stderr",
     "output_type": "stream",
     "text": [
      "     28/100         0G      1.073     0.6564     0.9741         15        416: 100%|██████████| 115/115 [04:31<00:00,  2.36s/it]\n",
      "                 Class     Images  Instances      Box(P          R      mAP50  mAP50-95): 100%|██████████| 8/8 [00:13<00:00,  1.71s/it]"
     ]
    },
    {
     "name": "stdout",
     "output_type": "stream",
     "text": [
      "                   all        242       1683      0.723      0.625      0.681      0.427\n"
     ]
    },
    {
     "name": "stderr",
     "output_type": "stream",
     "text": [
      "\n"
     ]
    },
    {
     "name": "stdout",
     "output_type": "stream",
     "text": [
      "\n",
      "      Epoch    GPU_mem   box_loss   cls_loss   dfl_loss  Instances       Size\n"
     ]
    },
    {
     "name": "stderr",
     "output_type": "stream",
     "text": [
      "     29/100         0G      1.067     0.6536     0.9685         45        416: 100%|██████████| 115/115 [04:29<00:00,  2.34s/it]\n",
      "                 Class     Images  Instances      Box(P          R      mAP50  mAP50-95): 100%|██████████| 8/8 [00:13<00:00,  1.71s/it]"
     ]
    },
    {
     "name": "stdout",
     "output_type": "stream",
     "text": [
      "                   all        242       1683      0.758      0.632      0.702      0.458\n"
     ]
    },
    {
     "name": "stderr",
     "output_type": "stream",
     "text": [
      "\n"
     ]
    },
    {
     "name": "stdout",
     "output_type": "stream",
     "text": [
      "\n",
      "      Epoch    GPU_mem   box_loss   cls_loss   dfl_loss  Instances       Size\n"
     ]
    },
    {
     "name": "stderr",
     "output_type": "stream",
     "text": [
      "     30/100         0G      1.056     0.6504     0.9591         30        416: 100%|██████████| 115/115 [04:32<00:00,  2.37s/it]\n",
      "                 Class     Images  Instances      Box(P          R      mAP50  mAP50-95): 100%|██████████| 8/8 [00:13<00:00,  1.72s/it]"
     ]
    },
    {
     "name": "stdout",
     "output_type": "stream",
     "text": [
      "                   all        242       1683       0.68      0.668      0.695      0.438\n"
     ]
    },
    {
     "name": "stderr",
     "output_type": "stream",
     "text": [
      "\n"
     ]
    },
    {
     "name": "stdout",
     "output_type": "stream",
     "text": [
      "\n",
      "      Epoch    GPU_mem   box_loss   cls_loss   dfl_loss  Instances       Size\n"
     ]
    },
    {
     "name": "stderr",
     "output_type": "stream",
     "text": [
      "     31/100         0G       1.02     0.6256     0.9538         35        416: 100%|██████████| 115/115 [04:27<00:00,  2.33s/it]\n",
      "                 Class     Images  Instances      Box(P          R      mAP50  mAP50-95): 100%|██████████| 8/8 [00:13<00:00,  1.71s/it]"
     ]
    },
    {
     "name": "stdout",
     "output_type": "stream",
     "text": [
      "                   all        242       1683      0.739      0.628      0.673      0.436\n"
     ]
    },
    {
     "name": "stderr",
     "output_type": "stream",
     "text": [
      "\n"
     ]
    },
    {
     "name": "stdout",
     "output_type": "stream",
     "text": [
      "\n",
      "      Epoch    GPU_mem   box_loss   cls_loss   dfl_loss  Instances       Size\n"
     ]
    },
    {
     "name": "stderr",
     "output_type": "stream",
     "text": [
      "     32/100         0G      1.036     0.6281     0.9548         56        416: 100%|██████████| 115/115 [04:32<00:00,  2.37s/it]\n",
      "                 Class     Images  Instances      Box(P          R      mAP50  mAP50-95): 100%|██████████| 8/8 [00:13<00:00,  1.73s/it]"
     ]
    },
    {
     "name": "stdout",
     "output_type": "stream",
     "text": [
      "                   all        242       1683       0.73      0.637      0.685      0.423\n"
     ]
    },
    {
     "name": "stderr",
     "output_type": "stream",
     "text": [
      "\n"
     ]
    },
    {
     "name": "stdout",
     "output_type": "stream",
     "text": [
      "\n",
      "      Epoch    GPU_mem   box_loss   cls_loss   dfl_loss  Instances       Size\n"
     ]
    },
    {
     "name": "stderr",
     "output_type": "stream",
     "text": [
      "     33/100         0G      1.019      0.618     0.9512         53        416: 100%|██████████| 115/115 [04:29<00:00,  2.34s/it]\n",
      "                 Class     Images  Instances      Box(P          R      mAP50  mAP50-95): 100%|██████████| 8/8 [00:13<00:00,  1.73s/it]"
     ]
    },
    {
     "name": "stdout",
     "output_type": "stream",
     "text": [
      "                   all        242       1683      0.735      0.638        0.7      0.443\n"
     ]
    },
    {
     "name": "stderr",
     "output_type": "stream",
     "text": [
      "\n"
     ]
    },
    {
     "name": "stdout",
     "output_type": "stream",
     "text": [
      "\n",
      "      Epoch    GPU_mem   box_loss   cls_loss   dfl_loss  Instances       Size\n"
     ]
    },
    {
     "name": "stderr",
     "output_type": "stream",
     "text": [
      "     34/100         0G      1.005     0.6065     0.9473         73        416: 100%|██████████| 115/115 [04:27<00:00,  2.32s/it]\n",
      "                 Class     Images  Instances      Box(P          R      mAP50  mAP50-95): 100%|██████████| 8/8 [00:13<00:00,  1.73s/it]"
     ]
    },
    {
     "name": "stdout",
     "output_type": "stream",
     "text": [
      "                   all        242       1683      0.727      0.614      0.671      0.439\n"
     ]
    },
    {
     "name": "stderr",
     "output_type": "stream",
     "text": [
      "\n"
     ]
    },
    {
     "name": "stdout",
     "output_type": "stream",
     "text": [
      "\n",
      "      Epoch    GPU_mem   box_loss   cls_loss   dfl_loss  Instances       Size\n"
     ]
    },
    {
     "name": "stderr",
     "output_type": "stream",
     "text": [
      "     35/100         0G      1.009     0.6186     0.9489         11        416: 100%|██████████| 115/115 [04:34<00:00,  2.39s/it]\n",
      "                 Class     Images  Instances      Box(P          R      mAP50  mAP50-95): 100%|██████████| 8/8 [00:14<00:00,  1.87s/it]"
     ]
    },
    {
     "name": "stdout",
     "output_type": "stream",
     "text": [
      "                   all        242       1683      0.744       0.64      0.708      0.461\n"
     ]
    },
    {
     "name": "stderr",
     "output_type": "stream",
     "text": [
      "\n"
     ]
    },
    {
     "name": "stdout",
     "output_type": "stream",
     "text": [
      "\n",
      "      Epoch    GPU_mem   box_loss   cls_loss   dfl_loss  Instances       Size\n"
     ]
    },
    {
     "name": "stderr",
     "output_type": "stream",
     "text": [
      "     36/100         0G      1.012     0.6092     0.9466         45        416: 100%|██████████| 115/115 [04:31<00:00,  2.36s/it]\n",
      "                 Class     Images  Instances      Box(P          R      mAP50  mAP50-95): 100%|██████████| 8/8 [00:14<00:00,  1.76s/it]"
     ]
    },
    {
     "name": "stdout",
     "output_type": "stream",
     "text": [
      "                   all        242       1683      0.751      0.613      0.699      0.443\n"
     ]
    },
    {
     "name": "stderr",
     "output_type": "stream",
     "text": [
      "\n"
     ]
    },
    {
     "name": "stdout",
     "output_type": "stream",
     "text": [
      "\n",
      "      Epoch    GPU_mem   box_loss   cls_loss   dfl_loss  Instances       Size\n"
     ]
    },
    {
     "name": "stderr",
     "output_type": "stream",
     "text": [
      "     37/100         0G      1.007     0.6067     0.9486         41        416: 100%|██████████| 115/115 [04:32<00:00,  2.37s/it]\n",
      "                 Class     Images  Instances      Box(P          R      mAP50  mAP50-95): 100%|██████████| 8/8 [00:13<00:00,  1.73s/it]"
     ]
    },
    {
     "name": "stdout",
     "output_type": "stream",
     "text": [
      "                   all        242       1683       0.78      0.633      0.706      0.465\n"
     ]
    },
    {
     "name": "stderr",
     "output_type": "stream",
     "text": [
      "\n"
     ]
    },
    {
     "name": "stdout",
     "output_type": "stream",
     "text": [
      "\n",
      "      Epoch    GPU_mem   box_loss   cls_loss   dfl_loss  Instances       Size\n"
     ]
    },
    {
     "name": "stderr",
     "output_type": "stream",
     "text": [
      "     38/100         0G       1.01     0.6093     0.9472         45        416: 100%|██████████| 115/115 [04:32<00:00,  2.37s/it]\n",
      "                 Class     Images  Instances      Box(P          R      mAP50  mAP50-95): 100%|██████████| 8/8 [00:13<00:00,  1.74s/it]"
     ]
    },
    {
     "name": "stdout",
     "output_type": "stream",
     "text": [
      "                   all        242       1683      0.764      0.627      0.706      0.448\n"
     ]
    },
    {
     "name": "stderr",
     "output_type": "stream",
     "text": [
      "\n"
     ]
    },
    {
     "name": "stdout",
     "output_type": "stream",
     "text": [
      "\n",
      "      Epoch    GPU_mem   box_loss   cls_loss   dfl_loss  Instances       Size\n"
     ]
    },
    {
     "name": "stderr",
     "output_type": "stream",
     "text": [
      "     39/100         0G     0.9992     0.6046     0.9436         42        416: 100%|██████████| 115/115 [04:30<00:00,  2.35s/it]\n",
      "                 Class     Images  Instances      Box(P          R      mAP50  mAP50-95): 100%|██████████| 8/8 [00:13<00:00,  1.73s/it]"
     ]
    },
    {
     "name": "stdout",
     "output_type": "stream",
     "text": [
      "                   all        242       1683      0.733      0.626      0.685      0.442\n"
     ]
    },
    {
     "name": "stderr",
     "output_type": "stream",
     "text": [
      "\n"
     ]
    },
    {
     "name": "stdout",
     "output_type": "stream",
     "text": [
      "\n",
      "      Epoch    GPU_mem   box_loss   cls_loss   dfl_loss  Instances       Size\n"
     ]
    },
    {
     "name": "stderr",
     "output_type": "stream",
     "text": [
      "     40/100         0G      0.972     0.5849     0.9369         52        416: 100%|██████████| 115/115 [04:29<00:00,  2.35s/it]\n",
      "                 Class     Images  Instances      Box(P          R      mAP50  mAP50-95): 100%|██████████| 8/8 [00:13<00:00,  1.72s/it]"
     ]
    },
    {
     "name": "stdout",
     "output_type": "stream",
     "text": [
      "                   all        242       1683       0.77      0.641      0.721      0.469\n"
     ]
    },
    {
     "name": "stderr",
     "output_type": "stream",
     "text": [
      "\n"
     ]
    },
    {
     "name": "stdout",
     "output_type": "stream",
     "text": [
      "\n",
      "      Epoch    GPU_mem   box_loss   cls_loss   dfl_loss  Instances       Size\n"
     ]
    },
    {
     "name": "stderr",
     "output_type": "stream",
     "text": [
      "     41/100         0G     0.9753      0.583     0.9292        114        416: 100%|██████████| 115/115 [04:29<00:00,  2.35s/it]\n",
      "                 Class     Images  Instances      Box(P          R      mAP50  mAP50-95): 100%|██████████| 8/8 [00:13<00:00,  1.71s/it]"
     ]
    },
    {
     "name": "stdout",
     "output_type": "stream",
     "text": [
      "                   all        242       1683      0.764      0.616      0.685       0.45\n"
     ]
    },
    {
     "name": "stderr",
     "output_type": "stream",
     "text": [
      "\n"
     ]
    },
    {
     "name": "stdout",
     "output_type": "stream",
     "text": [
      "\n",
      "      Epoch    GPU_mem   box_loss   cls_loss   dfl_loss  Instances       Size\n"
     ]
    },
    {
     "name": "stderr",
     "output_type": "stream",
     "text": [
      "     42/100         0G     0.9863     0.5969     0.9406        129        416: 100%|██████████| 115/115 [04:29<00:00,  2.35s/it]\n",
      "                 Class     Images  Instances      Box(P          R      mAP50  mAP50-95): 100%|██████████| 8/8 [00:13<00:00,  1.73s/it]"
     ]
    },
    {
     "name": "stdout",
     "output_type": "stream",
     "text": [
      "                   all        242       1683      0.757      0.639      0.716      0.465\n"
     ]
    },
    {
     "name": "stderr",
     "output_type": "stream",
     "text": [
      "\n"
     ]
    },
    {
     "name": "stdout",
     "output_type": "stream",
     "text": [
      "\n",
      "      Epoch    GPU_mem   box_loss   cls_loss   dfl_loss  Instances       Size\n"
     ]
    },
    {
     "name": "stderr",
     "output_type": "stream",
     "text": [
      "     43/100         0G     0.9573      0.578     0.9345         30        416: 100%|██████████| 115/115 [04:30<00:00,  2.35s/it]\n",
      "                 Class     Images  Instances      Box(P          R      mAP50  mAP50-95): 100%|██████████| 8/8 [00:13<00:00,  1.70s/it]"
     ]
    },
    {
     "name": "stdout",
     "output_type": "stream",
     "text": [
      "                   all        242       1683      0.734      0.649      0.714      0.471\n"
     ]
    },
    {
     "name": "stderr",
     "output_type": "stream",
     "text": [
      "\n"
     ]
    },
    {
     "name": "stdout",
     "output_type": "stream",
     "text": [
      "\n",
      "      Epoch    GPU_mem   box_loss   cls_loss   dfl_loss  Instances       Size\n"
     ]
    },
    {
     "name": "stderr",
     "output_type": "stream",
     "text": [
      "     44/100         0G     0.9656     0.5777      0.932         33        416: 100%|██████████| 115/115 [04:29<00:00,  2.34s/it]\n",
      "                 Class     Images  Instances      Box(P          R      mAP50  mAP50-95): 100%|██████████| 8/8 [00:13<00:00,  1.71s/it]"
     ]
    },
    {
     "name": "stdout",
     "output_type": "stream",
     "text": [
      "                   all        242       1683      0.769      0.642      0.711      0.465\n"
     ]
    },
    {
     "name": "stderr",
     "output_type": "stream",
     "text": [
      "\n"
     ]
    },
    {
     "name": "stdout",
     "output_type": "stream",
     "text": [
      "\n",
      "      Epoch    GPU_mem   box_loss   cls_loss   dfl_loss  Instances       Size\n"
     ]
    },
    {
     "name": "stderr",
     "output_type": "stream",
     "text": [
      "     45/100         0G     0.9647     0.5809     0.9299         73        416: 100%|██████████| 115/115 [04:29<00:00,  2.34s/it]\n",
      "                 Class     Images  Instances      Box(P          R      mAP50  mAP50-95): 100%|██████████| 8/8 [00:13<00:00,  1.74s/it]"
     ]
    },
    {
     "name": "stdout",
     "output_type": "stream",
     "text": [
      "                   all        242       1683      0.718      0.628      0.703      0.456\n"
     ]
    },
    {
     "name": "stderr",
     "output_type": "stream",
     "text": [
      "\n"
     ]
    },
    {
     "name": "stdout",
     "output_type": "stream",
     "text": [
      "\n",
      "      Epoch    GPU_mem   box_loss   cls_loss   dfl_loss  Instances       Size\n"
     ]
    },
    {
     "name": "stderr",
     "output_type": "stream",
     "text": [
      "     46/100         0G     0.9535     0.5766     0.9335         15        416: 100%|██████████| 115/115 [04:28<00:00,  2.33s/it]\n",
      "                 Class     Images  Instances      Box(P          R      mAP50  mAP50-95): 100%|██████████| 8/8 [00:14<00:00,  1.84s/it]"
     ]
    },
    {
     "name": "stdout",
     "output_type": "stream",
     "text": [
      "                   all        242       1683       0.76       0.63      0.689      0.462\n"
     ]
    },
    {
     "name": "stderr",
     "output_type": "stream",
     "text": [
      "\n"
     ]
    },
    {
     "name": "stdout",
     "output_type": "stream",
     "text": [
      "\n",
      "      Epoch    GPU_mem   box_loss   cls_loss   dfl_loss  Instances       Size\n"
     ]
    },
    {
     "name": "stderr",
     "output_type": "stream",
     "text": [
      "     47/100         0G     0.9486     0.5695     0.9296         27        416: 100%|██████████| 115/115 [04:27<00:00,  2.33s/it]\n",
      "                 Class     Images  Instances      Box(P          R      mAP50  mAP50-95): 100%|██████████| 8/8 [00:13<00:00,  1.74s/it]"
     ]
    },
    {
     "name": "stdout",
     "output_type": "stream",
     "text": [
      "                   all        242       1683      0.748      0.614      0.693      0.448\n"
     ]
    },
    {
     "name": "stderr",
     "output_type": "stream",
     "text": [
      "\n"
     ]
    },
    {
     "name": "stdout",
     "output_type": "stream",
     "text": [
      "\n",
      "      Epoch    GPU_mem   box_loss   cls_loss   dfl_loss  Instances       Size\n"
     ]
    },
    {
     "name": "stderr",
     "output_type": "stream",
     "text": [
      "     48/100         0G     0.9298     0.5561      0.922         30        416: 100%|██████████| 115/115 [04:33<00:00,  2.37s/it]\n",
      "                 Class     Images  Instances      Box(P          R      mAP50  mAP50-95): 100%|██████████| 8/8 [00:15<00:00,  1.89s/it]"
     ]
    },
    {
     "name": "stdout",
     "output_type": "stream",
     "text": [
      "                   all        242       1683      0.733      0.637      0.687      0.447\n"
     ]
    },
    {
     "name": "stderr",
     "output_type": "stream",
     "text": [
      "\n"
     ]
    },
    {
     "name": "stdout",
     "output_type": "stream",
     "text": [
      "\n",
      "      Epoch    GPU_mem   box_loss   cls_loss   dfl_loss  Instances       Size\n"
     ]
    },
    {
     "name": "stderr",
     "output_type": "stream",
     "text": [
      "     49/100         0G     0.9273     0.5613     0.9245         33        416: 100%|██████████| 115/115 [04:30<00:00,  2.36s/it]\n",
      "                 Class     Images  Instances      Box(P          R      mAP50  mAP50-95): 100%|██████████| 8/8 [00:13<00:00,  1.72s/it]"
     ]
    },
    {
     "name": "stdout",
     "output_type": "stream",
     "text": [
      "                   all        242       1683      0.785      0.624      0.715      0.473\n"
     ]
    },
    {
     "name": "stderr",
     "output_type": "stream",
     "text": [
      "\n"
     ]
    },
    {
     "name": "stdout",
     "output_type": "stream",
     "text": [
      "\n",
      "      Epoch    GPU_mem   box_loss   cls_loss   dfl_loss  Instances       Size\n"
     ]
    },
    {
     "name": "stderr",
     "output_type": "stream",
     "text": [
      "     50/100         0G     0.9351     0.5654     0.9266         25        416: 100%|██████████| 115/115 [04:31<00:00,  2.36s/it]\n",
      "                 Class     Images  Instances      Box(P          R      mAP50  mAP50-95): 100%|██████████| 8/8 [00:13<00:00,  1.71s/it]"
     ]
    },
    {
     "name": "stdout",
     "output_type": "stream",
     "text": [
      "                   all        242       1683      0.732      0.627      0.685      0.451\n"
     ]
    },
    {
     "name": "stderr",
     "output_type": "stream",
     "text": [
      "\n"
     ]
    },
    {
     "name": "stdout",
     "output_type": "stream",
     "text": [
      "\n",
      "      Epoch    GPU_mem   box_loss   cls_loss   dfl_loss  Instances       Size\n"
     ]
    },
    {
     "name": "stderr",
     "output_type": "stream",
     "text": [
      "     51/100         0G     0.9307     0.5628     0.9236         32        416: 100%|██████████| 115/115 [04:34<00:00,  2.39s/it]\n",
      "                 Class     Images  Instances      Box(P          R      mAP50  mAP50-95): 100%|██████████| 8/8 [00:13<00:00,  1.72s/it]"
     ]
    },
    {
     "name": "stdout",
     "output_type": "stream",
     "text": [
      "                   all        242       1683      0.728      0.639       0.68      0.445\n"
     ]
    },
    {
     "name": "stderr",
     "output_type": "stream",
     "text": [
      "\n"
     ]
    },
    {
     "name": "stdout",
     "output_type": "stream",
     "text": [
      "\n",
      "      Epoch    GPU_mem   box_loss   cls_loss   dfl_loss  Instances       Size\n"
     ]
    },
    {
     "name": "stderr",
     "output_type": "stream",
     "text": [
      "     52/100         0G     0.9202     0.5513     0.9192         15        416: 100%|██████████| 115/115 [04:32<00:00,  2.37s/it]\n",
      "                 Class     Images  Instances      Box(P          R      mAP50  mAP50-95): 100%|██████████| 8/8 [00:14<00:00,  1.81s/it]"
     ]
    },
    {
     "name": "stdout",
     "output_type": "stream",
     "text": [
      "                   all        242       1683      0.714      0.649      0.688      0.446\n"
     ]
    },
    {
     "name": "stderr",
     "output_type": "stream",
     "text": [
      "\n"
     ]
    },
    {
     "name": "stdout",
     "output_type": "stream",
     "text": [
      "\n",
      "      Epoch    GPU_mem   box_loss   cls_loss   dfl_loss  Instances       Size\n"
     ]
    },
    {
     "name": "stderr",
     "output_type": "stream",
     "text": [
      "     53/100         0G     0.9114     0.5505      0.924         52        416: 100%|██████████| 115/115 [04:27<00:00,  2.33s/it]\n",
      "                 Class     Images  Instances      Box(P          R      mAP50  mAP50-95): 100%|██████████| 8/8 [00:15<00:00,  1.98s/it]"
     ]
    },
    {
     "name": "stdout",
     "output_type": "stream",
     "text": [
      "                   all        242       1683      0.774      0.616      0.683      0.455\n"
     ]
    },
    {
     "name": "stderr",
     "output_type": "stream",
     "text": [
      "\n"
     ]
    },
    {
     "name": "stdout",
     "output_type": "stream",
     "text": [
      "\n",
      "      Epoch    GPU_mem   box_loss   cls_loss   dfl_loss  Instances       Size\n"
     ]
    },
    {
     "name": "stderr",
     "output_type": "stream",
     "text": [
      "     54/100         0G     0.9013     0.5438     0.9178        122        416: 100%|██████████| 115/115 [04:33<00:00,  2.38s/it]\n",
      "                 Class     Images  Instances      Box(P          R      mAP50  mAP50-95): 100%|██████████| 8/8 [00:13<00:00,  1.70s/it]"
     ]
    },
    {
     "name": "stdout",
     "output_type": "stream",
     "text": [
      "                   all        242       1683      0.726      0.632      0.687      0.454\n"
     ]
    },
    {
     "name": "stderr",
     "output_type": "stream",
     "text": [
      "\n"
     ]
    },
    {
     "name": "stdout",
     "output_type": "stream",
     "text": [
      "\n",
      "      Epoch    GPU_mem   box_loss   cls_loss   dfl_loss  Instances       Size\n"
     ]
    },
    {
     "name": "stderr",
     "output_type": "stream",
     "text": [
      "     55/100         0G     0.9056     0.5428     0.9199         48        416: 100%|██████████| 115/115 [04:28<00:00,  2.34s/it]\n",
      "                 Class     Images  Instances      Box(P          R      mAP50  mAP50-95): 100%|██████████| 8/8 [00:13<00:00,  1.67s/it]"
     ]
    },
    {
     "name": "stdout",
     "output_type": "stream",
     "text": [
      "                   all        242       1683      0.743      0.658      0.711      0.466\n"
     ]
    },
    {
     "name": "stderr",
     "output_type": "stream",
     "text": [
      "\n"
     ]
    },
    {
     "name": "stdout",
     "output_type": "stream",
     "text": [
      "\n",
      "      Epoch    GPU_mem   box_loss   cls_loss   dfl_loss  Instances       Size\n"
     ]
    },
    {
     "name": "stderr",
     "output_type": "stream",
     "text": [
      "     56/100         0G     0.8897     0.5369     0.9141         21        416: 100%|██████████| 115/115 [04:32<00:00,  2.37s/it]\n",
      "                 Class     Images  Instances      Box(P          R      mAP50  mAP50-95): 100%|██████████| 8/8 [00:13<00:00,  1.72s/it]"
     ]
    },
    {
     "name": "stdout",
     "output_type": "stream",
     "text": [
      "                   all        242       1683      0.784      0.635      0.702      0.461\n"
     ]
    },
    {
     "name": "stderr",
     "output_type": "stream",
     "text": [
      "\n"
     ]
    },
    {
     "name": "stdout",
     "output_type": "stream",
     "text": [
      "\n",
      "      Epoch    GPU_mem   box_loss   cls_loss   dfl_loss  Instances       Size\n"
     ]
    },
    {
     "name": "stderr",
     "output_type": "stream",
     "text": [
      "     57/100         0G     0.8974     0.5399     0.9163         19        416: 100%|██████████| 115/115 [04:34<00:00,  2.39s/it]\n",
      "                 Class     Images  Instances      Box(P          R      mAP50  mAP50-95): 100%|██████████| 8/8 [00:13<00:00,  1.73s/it]"
     ]
    },
    {
     "name": "stdout",
     "output_type": "stream",
     "text": [
      "                   all        242       1683      0.766      0.642      0.714      0.464\n"
     ]
    },
    {
     "name": "stderr",
     "output_type": "stream",
     "text": [
      "\n"
     ]
    },
    {
     "name": "stdout",
     "output_type": "stream",
     "text": [
      "\n",
      "      Epoch    GPU_mem   box_loss   cls_loss   dfl_loss  Instances       Size\n"
     ]
    },
    {
     "name": "stderr",
     "output_type": "stream",
     "text": [
      "     58/100         0G     0.8773     0.5323     0.9112         47        416: 100%|██████████| 115/115 [04:31<00:00,  2.36s/it]\n",
      "                 Class     Images  Instances      Box(P          R      mAP50  mAP50-95): 100%|██████████| 8/8 [00:13<00:00,  1.74s/it]"
     ]
    },
    {
     "name": "stdout",
     "output_type": "stream",
     "text": [
      "                   all        242       1683      0.733      0.647      0.705      0.468\n"
     ]
    },
    {
     "name": "stderr",
     "output_type": "stream",
     "text": [
      "\n"
     ]
    },
    {
     "name": "stdout",
     "output_type": "stream",
     "text": [
      "\n",
      "      Epoch    GPU_mem   box_loss   cls_loss   dfl_loss  Instances       Size\n"
     ]
    },
    {
     "name": "stderr",
     "output_type": "stream",
     "text": [
      "     59/100         0G     0.8676     0.5226     0.9115         39        416: 100%|██████████| 115/115 [04:28<00:00,  2.34s/it]\n",
      "                 Class     Images  Instances      Box(P          R      mAP50  mAP50-95): 100%|██████████| 8/8 [00:13<00:00,  1.75s/it]"
     ]
    },
    {
     "name": "stdout",
     "output_type": "stream",
     "text": [
      "                   all        242       1683      0.775       0.62      0.707      0.463\n"
     ]
    },
    {
     "name": "stderr",
     "output_type": "stream",
     "text": [
      "\n"
     ]
    },
    {
     "name": "stdout",
     "output_type": "stream",
     "text": [
      "\n",
      "      Epoch    GPU_mem   box_loss   cls_loss   dfl_loss  Instances       Size\n"
     ]
    },
    {
     "name": "stderr",
     "output_type": "stream",
     "text": [
      "     60/100         0G     0.8864     0.5309     0.9111         17        416: 100%|██████████| 115/115 [04:32<00:00,  2.37s/it]\n",
      "                 Class     Images  Instances      Box(P          R      mAP50  mAP50-95): 100%|██████████| 8/8 [00:13<00:00,  1.70s/it]"
     ]
    },
    {
     "name": "stdout",
     "output_type": "stream",
     "text": [
      "                   all        242       1683      0.718      0.671      0.711      0.455\n"
     ]
    },
    {
     "name": "stderr",
     "output_type": "stream",
     "text": [
      "\n"
     ]
    },
    {
     "name": "stdout",
     "output_type": "stream",
     "text": [
      "\n",
      "      Epoch    GPU_mem   box_loss   cls_loss   dfl_loss  Instances       Size\n"
     ]
    },
    {
     "name": "stderr",
     "output_type": "stream",
     "text": [
      "     61/100         0G     0.8757     0.5241     0.9061        119        416: 100%|██████████| 115/115 [04:28<00:00,  2.33s/it]\n",
      "                 Class     Images  Instances      Box(P          R      mAP50  mAP50-95): 100%|██████████| 8/8 [00:15<00:00,  1.90s/it]"
     ]
    },
    {
     "name": "stdout",
     "output_type": "stream",
     "text": [
      "                   all        242       1683       0.79      0.636      0.712      0.469\n"
     ]
    },
    {
     "name": "stderr",
     "output_type": "stream",
     "text": [
      "\n"
     ]
    },
    {
     "name": "stdout",
     "output_type": "stream",
     "text": [
      "\n",
      "      Epoch    GPU_mem   box_loss   cls_loss   dfl_loss  Instances       Size\n"
     ]
    },
    {
     "name": "stderr",
     "output_type": "stream",
     "text": [
      "     62/100         0G     0.8692     0.5244     0.9096        110        416: 100%|██████████| 115/115 [04:28<00:00,  2.33s/it]\n",
      "                 Class     Images  Instances      Box(P          R      mAP50  mAP50-95): 100%|██████████| 8/8 [00:13<00:00,  1.72s/it]"
     ]
    },
    {
     "name": "stdout",
     "output_type": "stream",
     "text": [
      "                   all        242       1683      0.771      0.635      0.712      0.465\n"
     ]
    },
    {
     "name": "stderr",
     "output_type": "stream",
     "text": [
      "\n"
     ]
    },
    {
     "name": "stdout",
     "output_type": "stream",
     "text": [
      "\n",
      "      Epoch    GPU_mem   box_loss   cls_loss   dfl_loss  Instances       Size\n"
     ]
    },
    {
     "name": "stderr",
     "output_type": "stream",
     "text": [
      "     63/100         0G     0.8941      0.531     0.9114        107        416: 100%|██████████| 115/115 [04:36<00:00,  2.41s/it]\n",
      "                 Class     Images  Instances      Box(P          R      mAP50  mAP50-95): 100%|██████████| 8/8 [00:13<00:00,  1.74s/it]"
     ]
    },
    {
     "name": "stdout",
     "output_type": "stream",
     "text": [
      "                   all        242       1683      0.787      0.645      0.725      0.477\n"
     ]
    },
    {
     "name": "stderr",
     "output_type": "stream",
     "text": [
      "\n"
     ]
    },
    {
     "name": "stdout",
     "output_type": "stream",
     "text": [
      "\n",
      "      Epoch    GPU_mem   box_loss   cls_loss   dfl_loss  Instances       Size\n"
     ]
    },
    {
     "name": "stderr",
     "output_type": "stream",
     "text": [
      "     64/100         0G     0.8553     0.5166     0.9058         42        416: 100%|██████████| 115/115 [04:36<00:00,  2.40s/it]\n",
      "                 Class     Images  Instances      Box(P          R      mAP50  mAP50-95): 100%|██████████| 8/8 [00:13<00:00,  1.72s/it]"
     ]
    },
    {
     "name": "stdout",
     "output_type": "stream",
     "text": [
      "                   all        242       1683        0.8      0.628      0.709      0.473\n"
     ]
    },
    {
     "name": "stderr",
     "output_type": "stream",
     "text": [
      "\n"
     ]
    },
    {
     "name": "stdout",
     "output_type": "stream",
     "text": [
      "\n",
      "      Epoch    GPU_mem   box_loss   cls_loss   dfl_loss  Instances       Size\n"
     ]
    },
    {
     "name": "stderr",
     "output_type": "stream",
     "text": [
      "     65/100         0G     0.8712     0.5202     0.9062         68        416: 100%|██████████| 115/115 [04:32<00:00,  2.37s/it]\n",
      "                 Class     Images  Instances      Box(P          R      mAP50  mAP50-95): 100%|██████████| 8/8 [00:13<00:00,  1.72s/it]"
     ]
    },
    {
     "name": "stdout",
     "output_type": "stream",
     "text": [
      "                   all        242       1683      0.781      0.642       0.72       0.47\n"
     ]
    },
    {
     "name": "stderr",
     "output_type": "stream",
     "text": [
      "\n"
     ]
    },
    {
     "name": "stdout",
     "output_type": "stream",
     "text": [
      "\n",
      "      Epoch    GPU_mem   box_loss   cls_loss   dfl_loss  Instances       Size\n"
     ]
    },
    {
     "name": "stderr",
     "output_type": "stream",
     "text": [
      "     66/100         0G     0.8619     0.5157     0.9043         42        416: 100%|██████████| 115/115 [04:30<00:00,  2.35s/it]\n",
      "                 Class     Images  Instances      Box(P          R      mAP50  mAP50-95): 100%|██████████| 8/8 [00:14<00:00,  1.75s/it]"
     ]
    },
    {
     "name": "stdout",
     "output_type": "stream",
     "text": [
      "                   all        242       1683      0.783      0.625      0.704      0.465\n"
     ]
    },
    {
     "name": "stderr",
     "output_type": "stream",
     "text": [
      "\n"
     ]
    },
    {
     "name": "stdout",
     "output_type": "stream",
     "text": [
      "\n",
      "      Epoch    GPU_mem   box_loss   cls_loss   dfl_loss  Instances       Size\n"
     ]
    },
    {
     "name": "stderr",
     "output_type": "stream",
     "text": [
      "     67/100         0G     0.8489     0.5096     0.9015        111        416: 100%|██████████| 115/115 [04:31<00:00,  2.36s/it]\n",
      "                 Class     Images  Instances      Box(P          R      mAP50  mAP50-95): 100%|██████████| 8/8 [00:13<00:00,  1.73s/it]"
     ]
    },
    {
     "name": "stdout",
     "output_type": "stream",
     "text": [
      "                   all        242       1683      0.737      0.629      0.675      0.449\n"
     ]
    },
    {
     "name": "stderr",
     "output_type": "stream",
     "text": [
      "\n"
     ]
    },
    {
     "name": "stdout",
     "output_type": "stream",
     "text": [
      "\n",
      "      Epoch    GPU_mem   box_loss   cls_loss   dfl_loss  Instances       Size\n"
     ]
    },
    {
     "name": "stderr",
     "output_type": "stream",
     "text": [
      "     68/100         0G      0.845     0.5089     0.9021         29        416: 100%|██████████| 115/115 [04:32<00:00,  2.37s/it]\n",
      "                 Class     Images  Instances      Box(P          R      mAP50  mAP50-95): 100%|██████████| 8/8 [00:13<00:00,  1.71s/it]"
     ]
    },
    {
     "name": "stdout",
     "output_type": "stream",
     "text": [
      "                   all        242       1683      0.791      0.667      0.726      0.483\n"
     ]
    },
    {
     "name": "stderr",
     "output_type": "stream",
     "text": [
      "\n"
     ]
    },
    {
     "name": "stdout",
     "output_type": "stream",
     "text": [
      "\n",
      "      Epoch    GPU_mem   box_loss   cls_loss   dfl_loss  Instances       Size\n"
     ]
    },
    {
     "name": "stderr",
     "output_type": "stream",
     "text": [
      "     69/100         0G     0.8536     0.5144     0.9021        180        416: 100%|██████████| 115/115 [04:32<00:00,  2.37s/it]\n",
      "                 Class     Images  Instances      Box(P          R      mAP50  mAP50-95): 100%|██████████| 8/8 [00:14<00:00,  1.75s/it]"
     ]
    },
    {
     "name": "stdout",
     "output_type": "stream",
     "text": [
      "                   all        242       1683       0.76      0.648      0.718      0.476\n"
     ]
    },
    {
     "name": "stderr",
     "output_type": "stream",
     "text": [
      "\n"
     ]
    },
    {
     "name": "stdout",
     "output_type": "stream",
     "text": [
      "\n",
      "      Epoch    GPU_mem   box_loss   cls_loss   dfl_loss  Instances       Size\n"
     ]
    },
    {
     "name": "stderr",
     "output_type": "stream",
     "text": [
      "     70/100         0G     0.8377      0.505     0.8956        100        416: 100%|██████████| 115/115 [04:35<00:00,  2.40s/it]\n",
      "                 Class     Images  Instances      Box(P          R      mAP50  mAP50-95): 100%|██████████| 8/8 [00:14<00:00,  1.75s/it]"
     ]
    },
    {
     "name": "stdout",
     "output_type": "stream",
     "text": [
      "                   all        242       1683      0.786      0.637      0.715      0.471\n"
     ]
    },
    {
     "name": "stderr",
     "output_type": "stream",
     "text": [
      "\n"
     ]
    },
    {
     "name": "stdout",
     "output_type": "stream",
     "text": [
      "\n",
      "      Epoch    GPU_mem   box_loss   cls_loss   dfl_loss  Instances       Size\n"
     ]
    },
    {
     "name": "stderr",
     "output_type": "stream",
     "text": [
      "     71/100         0G     0.8315     0.5018     0.9016         78        416: 100%|██████████| 115/115 [04:32<00:00,  2.37s/it]\n",
      "                 Class     Images  Instances      Box(P          R      mAP50  mAP50-95): 100%|██████████| 8/8 [00:13<00:00,  1.72s/it]"
     ]
    },
    {
     "name": "stdout",
     "output_type": "stream",
     "text": [
      "                   all        242       1683      0.797      0.642      0.712      0.472\n"
     ]
    },
    {
     "name": "stderr",
     "output_type": "stream",
     "text": [
      "\n"
     ]
    },
    {
     "name": "stdout",
     "output_type": "stream",
     "text": [
      "\n",
      "      Epoch    GPU_mem   box_loss   cls_loss   dfl_loss  Instances       Size\n"
     ]
    },
    {
     "name": "stderr",
     "output_type": "stream",
     "text": [
      "     72/100         0G     0.8252     0.4982     0.8992         55        416: 100%|██████████| 115/115 [04:30<00:00,  2.35s/it]\n",
      "                 Class     Images  Instances      Box(P          R      mAP50  mAP50-95): 100%|██████████| 8/8 [00:14<00:00,  1.77s/it]"
     ]
    },
    {
     "name": "stdout",
     "output_type": "stream",
     "text": [
      "                   all        242       1683      0.747       0.66       0.72      0.471\n"
     ]
    },
    {
     "name": "stderr",
     "output_type": "stream",
     "text": [
      "\n"
     ]
    },
    {
     "name": "stdout",
     "output_type": "stream",
     "text": [
      "\n",
      "      Epoch    GPU_mem   box_loss   cls_loss   dfl_loss  Instances       Size\n"
     ]
    },
    {
     "name": "stderr",
     "output_type": "stream",
     "text": [
      "     73/100         0G     0.8337     0.4987     0.8948         29        416: 100%|██████████| 115/115 [04:33<00:00,  2.37s/it]\n",
      "                 Class     Images  Instances      Box(P          R      mAP50  mAP50-95): 100%|██████████| 8/8 [00:13<00:00,  1.70s/it]"
     ]
    },
    {
     "name": "stdout",
     "output_type": "stream",
     "text": [
      "                   all        242       1683       0.79      0.631      0.716      0.476\n"
     ]
    },
    {
     "name": "stderr",
     "output_type": "stream",
     "text": [
      "\n"
     ]
    },
    {
     "name": "stdout",
     "output_type": "stream",
     "text": [
      "\n",
      "      Epoch    GPU_mem   box_loss   cls_loss   dfl_loss  Instances       Size\n"
     ]
    },
    {
     "name": "stderr",
     "output_type": "stream",
     "text": [
      "     74/100         0G     0.8229      0.496     0.8953         75        416: 100%|██████████| 115/115 [04:32<00:00,  2.37s/it]\n",
      "                 Class     Images  Instances      Box(P          R      mAP50  mAP50-95): 100%|██████████| 8/8 [00:14<00:00,  1.83s/it]"
     ]
    },
    {
     "name": "stdout",
     "output_type": "stream",
     "text": [
      "                   all        242       1683      0.797      0.617      0.707       0.47\n"
     ]
    },
    {
     "name": "stderr",
     "output_type": "stream",
     "text": [
      "\n"
     ]
    },
    {
     "name": "stdout",
     "output_type": "stream",
     "text": [
      "\n",
      "      Epoch    GPU_mem   box_loss   cls_loss   dfl_loss  Instances       Size\n"
     ]
    },
    {
     "name": "stderr",
     "output_type": "stream",
     "text": [
      "     75/100         0G     0.8096     0.4904     0.8923         84        416: 100%|██████████| 115/115 [04:54<00:00,  2.56s/it]\n",
      "                 Class     Images  Instances      Box(P          R      mAP50  mAP50-95): 100%|██████████| 8/8 [00:16<00:00,  2.04s/it]"
     ]
    },
    {
     "name": "stdout",
     "output_type": "stream",
     "text": [
      "                   all        242       1683      0.771      0.644      0.708      0.475\n"
     ]
    },
    {
     "name": "stderr",
     "output_type": "stream",
     "text": [
      "\n"
     ]
    },
    {
     "name": "stdout",
     "output_type": "stream",
     "text": [
      "\n",
      "      Epoch    GPU_mem   box_loss   cls_loss   dfl_loss  Instances       Size\n"
     ]
    },
    {
     "name": "stderr",
     "output_type": "stream",
     "text": [
      "     76/100         0G     0.8208     0.4954     0.8984         17        416: 100%|██████████| 115/115 [04:50<00:00,  2.52s/it]\n",
      "                 Class     Images  Instances      Box(P          R      mAP50  mAP50-95): 100%|██████████| 8/8 [00:13<00:00,  1.72s/it]"
     ]
    },
    {
     "name": "stdout",
     "output_type": "stream",
     "text": [
      "                   all        242       1683      0.796      0.634      0.714      0.477\n"
     ]
    },
    {
     "name": "stderr",
     "output_type": "stream",
     "text": [
      "\n"
     ]
    },
    {
     "name": "stdout",
     "output_type": "stream",
     "text": [
      "\n",
      "      Epoch    GPU_mem   box_loss   cls_loss   dfl_loss  Instances       Size\n"
     ]
    },
    {
     "name": "stderr",
     "output_type": "stream",
     "text": [
      "     77/100         0G     0.8116     0.4923     0.8918         33        416: 100%|██████████| 115/115 [04:33<00:00,  2.38s/it]\n",
      "                 Class     Images  Instances      Box(P          R      mAP50  mAP50-95): 100%|██████████| 8/8 [00:13<00:00,  1.74s/it]"
     ]
    },
    {
     "name": "stdout",
     "output_type": "stream",
     "text": [
      "                   all        242       1683      0.772      0.641      0.717      0.476\n"
     ]
    },
    {
     "name": "stderr",
     "output_type": "stream",
     "text": [
      "\n"
     ]
    },
    {
     "name": "stdout",
     "output_type": "stream",
     "text": [
      "\n",
      "      Epoch    GPU_mem   box_loss   cls_loss   dfl_loss  Instances       Size\n"
     ]
    },
    {
     "name": "stderr",
     "output_type": "stream",
     "text": [
      "     78/100         0G      0.815     0.4956     0.8903         36        416: 100%|██████████| 115/115 [04:32<00:00,  2.37s/it]\n",
      "                 Class     Images  Instances      Box(P          R      mAP50  mAP50-95): 100%|██████████| 8/8 [00:13<00:00,  1.75s/it]"
     ]
    },
    {
     "name": "stdout",
     "output_type": "stream",
     "text": [
      "                   all        242       1683      0.776      0.639      0.712      0.476\n"
     ]
    },
    {
     "name": "stderr",
     "output_type": "stream",
     "text": [
      "\n"
     ]
    },
    {
     "name": "stdout",
     "output_type": "stream",
     "text": [
      "\n",
      "      Epoch    GPU_mem   box_loss   cls_loss   dfl_loss  Instances       Size\n"
     ]
    },
    {
     "name": "stderr",
     "output_type": "stream",
     "text": [
      "     79/100         0G     0.8097     0.4931     0.8912        233        416: 100%|██████████| 115/115 [04:31<00:00,  2.36s/it]\n",
      "                 Class     Images  Instances      Box(P          R      mAP50  mAP50-95): 100%|██████████| 8/8 [00:13<00:00,  1.75s/it]"
     ]
    },
    {
     "name": "stdout",
     "output_type": "stream",
     "text": [
      "                   all        242       1683      0.748      0.664      0.721      0.478\n"
     ]
    },
    {
     "name": "stderr",
     "output_type": "stream",
     "text": [
      "\n"
     ]
    },
    {
     "name": "stdout",
     "output_type": "stream",
     "text": [
      "\n",
      "      Epoch    GPU_mem   box_loss   cls_loss   dfl_loss  Instances       Size\n"
     ]
    },
    {
     "name": "stderr",
     "output_type": "stream",
     "text": [
      "     80/100         0G     0.8082     0.4945     0.8981         11        416: 100%|██████████| 115/115 [04:30<00:00,  2.35s/it]\n",
      "                 Class     Images  Instances      Box(P          R      mAP50  mAP50-95): 100%|██████████| 8/8 [00:13<00:00,  1.73s/it]"
     ]
    },
    {
     "name": "stdout",
     "output_type": "stream",
     "text": [
      "                   all        242       1683      0.783      0.642      0.712      0.478\n"
     ]
    },
    {
     "name": "stderr",
     "output_type": "stream",
     "text": [
      "\n"
     ]
    },
    {
     "name": "stdout",
     "output_type": "stream",
     "text": [
      "\n",
      "      Epoch    GPU_mem   box_loss   cls_loss   dfl_loss  Instances       Size\n"
     ]
    },
    {
     "name": "stderr",
     "output_type": "stream",
     "text": [
      "     81/100         0G     0.7903     0.4811     0.8873         58        416: 100%|██████████| 115/115 [04:28<00:00,  2.33s/it]\n",
      "                 Class     Images  Instances      Box(P          R      mAP50  mAP50-95): 100%|██████████| 8/8 [00:14<00:00,  1.80s/it]"
     ]
    },
    {
     "name": "stdout",
     "output_type": "stream",
     "text": [
      "                   all        242       1683      0.798      0.617       0.71      0.473\n"
     ]
    },
    {
     "name": "stderr",
     "output_type": "stream",
     "text": [
      "\n"
     ]
    },
    {
     "name": "stdout",
     "output_type": "stream",
     "text": [
      "\n",
      "      Epoch    GPU_mem   box_loss   cls_loss   dfl_loss  Instances       Size\n"
     ]
    },
    {
     "name": "stderr",
     "output_type": "stream",
     "text": [
      "     82/100         0G     0.7908     0.4816     0.8881         23        416: 100%|██████████| 115/115 [04:29<00:00,  2.34s/it]\n",
      "                 Class     Images  Instances      Box(P          R      mAP50  mAP50-95): 100%|██████████| 8/8 [00:14<00:00,  1.83s/it]"
     ]
    },
    {
     "name": "stdout",
     "output_type": "stream",
     "text": [
      "                   all        242       1683      0.799      0.613      0.704      0.463\n"
     ]
    },
    {
     "name": "stderr",
     "output_type": "stream",
     "text": [
      "\n"
     ]
    },
    {
     "name": "stdout",
     "output_type": "stream",
     "text": [
      "\n",
      "      Epoch    GPU_mem   box_loss   cls_loss   dfl_loss  Instances       Size\n"
     ]
    },
    {
     "name": "stderr",
     "output_type": "stream",
     "text": [
      "     83/100         0G     0.7921     0.4793     0.8918         72        416: 100%|██████████| 115/115 [04:28<00:00,  2.34s/it]\n",
      "                 Class     Images  Instances      Box(P          R      mAP50  mAP50-95): 100%|██████████| 8/8 [00:13<00:00,  1.72s/it]"
     ]
    },
    {
     "name": "stdout",
     "output_type": "stream",
     "text": [
      "                   all        242       1683      0.793      0.628      0.714      0.483\n"
     ]
    },
    {
     "name": "stderr",
     "output_type": "stream",
     "text": [
      "\n"
     ]
    },
    {
     "name": "stdout",
     "output_type": "stream",
     "text": [
      "\n",
      "      Epoch    GPU_mem   box_loss   cls_loss   dfl_loss  Instances       Size\n"
     ]
    },
    {
     "name": "stderr",
     "output_type": "stream",
     "text": [
      "     84/100         0G      0.784     0.4734     0.8836        124        416: 100%|██████████| 115/115 [04:33<00:00,  2.37s/it]\n",
      "                 Class     Images  Instances      Box(P          R      mAP50  mAP50-95): 100%|██████████| 8/8 [00:13<00:00,  1.71s/it]"
     ]
    },
    {
     "name": "stdout",
     "output_type": "stream",
     "text": [
      "                   all        242       1683      0.808      0.633      0.714      0.477\n"
     ]
    },
    {
     "name": "stderr",
     "output_type": "stream",
     "text": [
      "\n"
     ]
    },
    {
     "name": "stdout",
     "output_type": "stream",
     "text": [
      "\n",
      "      Epoch    GPU_mem   box_loss   cls_loss   dfl_loss  Instances       Size\n"
     ]
    },
    {
     "name": "stderr",
     "output_type": "stream",
     "text": [
      "     85/100         0G     0.7939     0.4814     0.8893         11        416: 100%|██████████| 115/115 [04:31<00:00,  2.36s/it]\n",
      "                 Class     Images  Instances      Box(P          R      mAP50  mAP50-95): 100%|██████████| 8/8 [00:14<00:00,  1.77s/it]"
     ]
    },
    {
     "name": "stdout",
     "output_type": "stream",
     "text": [
      "                   all        242       1683      0.812      0.611      0.719      0.478\n"
     ]
    },
    {
     "name": "stderr",
     "output_type": "stream",
     "text": [
      "\n"
     ]
    },
    {
     "name": "stdout",
     "output_type": "stream",
     "text": [
      "\n",
      "      Epoch    GPU_mem   box_loss   cls_loss   dfl_loss  Instances       Size\n"
     ]
    },
    {
     "name": "stderr",
     "output_type": "stream",
     "text": [
      "     86/100         0G     0.7843     0.4749     0.8874         26        416: 100%|██████████| 115/115 [04:29<00:00,  2.34s/it]\n",
      "                 Class     Images  Instances      Box(P          R      mAP50  mAP50-95): 100%|██████████| 8/8 [00:13<00:00,  1.71s/it]"
     ]
    },
    {
     "name": "stdout",
     "output_type": "stream",
     "text": [
      "                   all        242       1683      0.767      0.639      0.714      0.476\n"
     ]
    },
    {
     "name": "stderr",
     "output_type": "stream",
     "text": [
      "\n"
     ]
    },
    {
     "name": "stdout",
     "output_type": "stream",
     "text": [
      "\n",
      "      Epoch    GPU_mem   box_loss   cls_loss   dfl_loss  Instances       Size\n"
     ]
    },
    {
     "name": "stderr",
     "output_type": "stream",
     "text": [
      "     87/100         0G     0.7715     0.4725     0.8826         64        416: 100%|██████████| 115/115 [04:28<00:00,  2.33s/it]\n",
      "                 Class     Images  Instances      Box(P          R      mAP50  mAP50-95): 100%|██████████| 8/8 [00:14<00:00,  1.87s/it]"
     ]
    },
    {
     "name": "stdout",
     "output_type": "stream",
     "text": [
      "                   all        242       1683      0.816      0.617      0.713      0.476\n"
     ]
    },
    {
     "name": "stderr",
     "output_type": "stream",
     "text": [
      "\n"
     ]
    },
    {
     "name": "stdout",
     "output_type": "stream",
     "text": [
      "\n",
      "      Epoch    GPU_mem   box_loss   cls_loss   dfl_loss  Instances       Size\n"
     ]
    },
    {
     "name": "stderr",
     "output_type": "stream",
     "text": [
      "     88/100         0G     0.7802     0.4742     0.8883        127        416: 100%|██████████| 115/115 [04:34<00:00,  2.39s/it]\n",
      "                 Class     Images  Instances      Box(P          R      mAP50  mAP50-95): 100%|██████████| 8/8 [00:14<00:00,  1.82s/it]"
     ]
    },
    {
     "name": "stdout",
     "output_type": "stream",
     "text": [
      "                   all        242       1683      0.794      0.616      0.704      0.469\n"
     ]
    },
    {
     "name": "stderr",
     "output_type": "stream",
     "text": [
      "\n"
     ]
    },
    {
     "name": "stdout",
     "output_type": "stream",
     "text": [
      "\n",
      "      Epoch    GPU_mem   box_loss   cls_loss   dfl_loss  Instances       Size\n"
     ]
    },
    {
     "name": "stderr",
     "output_type": "stream",
     "text": [
      "     89/100         0G     0.7787     0.4736     0.8857         85        416: 100%|██████████| 115/115 [04:33<00:00,  2.38s/it]\n",
      "                 Class     Images  Instances      Box(P          R      mAP50  mAP50-95): 100%|██████████| 8/8 [00:14<00:00,  1.76s/it]"
     ]
    },
    {
     "name": "stdout",
     "output_type": "stream",
     "text": [
      "                   all        242       1683      0.833      0.601      0.704      0.468\n"
     ]
    },
    {
     "name": "stderr",
     "output_type": "stream",
     "text": [
      "\n"
     ]
    },
    {
     "name": "stdout",
     "output_type": "stream",
     "text": [
      "\n",
      "      Epoch    GPU_mem   box_loss   cls_loss   dfl_loss  Instances       Size\n"
     ]
    },
    {
     "name": "stderr",
     "output_type": "stream",
     "text": [
      "     90/100         0G     0.7682     0.4685     0.8849         16        416: 100%|██████████| 115/115 [04:30<00:00,  2.35s/it]\n",
      "                 Class     Images  Instances      Box(P          R      mAP50  mAP50-95): 100%|██████████| 8/8 [00:13<00:00,  1.75s/it]"
     ]
    },
    {
     "name": "stdout",
     "output_type": "stream",
     "text": [
      "                   all        242       1683      0.829      0.615      0.717      0.475\n"
     ]
    },
    {
     "name": "stderr",
     "output_type": "stream",
     "text": [
      "\n"
     ]
    },
    {
     "name": "stdout",
     "output_type": "stream",
     "text": [
      "Closing dataloader mosaic\n",
      "\n",
      "      Epoch    GPU_mem   box_loss   cls_loss   dfl_loss  Instances       Size\n"
     ]
    },
    {
     "name": "stderr",
     "output_type": "stream",
     "text": [
      "     91/100         0G     0.6991     0.4296     0.8666         10        416: 100%|██████████| 115/115 [04:26<00:00,  2.32s/it]\n",
      "                 Class     Images  Instances      Box(P          R      mAP50  mAP50-95): 100%|██████████| 8/8 [00:13<00:00,  1.74s/it]"
     ]
    },
    {
     "name": "stdout",
     "output_type": "stream",
     "text": [
      "                   all        242       1683      0.813      0.623      0.714      0.473\n"
     ]
    },
    {
     "name": "stderr",
     "output_type": "stream",
     "text": [
      "\n"
     ]
    },
    {
     "name": "stdout",
     "output_type": "stream",
     "text": [
      "\n",
      "      Epoch    GPU_mem   box_loss   cls_loss   dfl_loss  Instances       Size\n"
     ]
    },
    {
     "name": "stderr",
     "output_type": "stream",
     "text": [
      "     92/100         0G     0.6802     0.4189     0.8626         39        416: 100%|██████████| 115/115 [04:22<00:00,  2.28s/it]\n",
      "                 Class     Images  Instances      Box(P          R      mAP50  mAP50-95): 100%|██████████| 8/8 [00:13<00:00,  1.75s/it]"
     ]
    },
    {
     "name": "stdout",
     "output_type": "stream",
     "text": [
      "                   all        242       1683      0.808      0.623      0.718      0.478\n"
     ]
    },
    {
     "name": "stderr",
     "output_type": "stream",
     "text": [
      "\n"
     ]
    },
    {
     "name": "stdout",
     "output_type": "stream",
     "text": [
      "\n",
      "      Epoch    GPU_mem   box_loss   cls_loss   dfl_loss  Instances       Size\n"
     ]
    },
    {
     "name": "stderr",
     "output_type": "stream",
     "text": [
      "     93/100         0G     0.6709     0.4114     0.8582         54        416: 100%|██████████| 115/115 [04:22<00:00,  2.28s/it]\n",
      "                 Class     Images  Instances      Box(P          R      mAP50  mAP50-95): 100%|██████████| 8/8 [00:13<00:00,  1.74s/it]"
     ]
    },
    {
     "name": "stdout",
     "output_type": "stream",
     "text": [
      "                   all        242       1683      0.833      0.628      0.729      0.483\n"
     ]
    },
    {
     "name": "stderr",
     "output_type": "stream",
     "text": [
      "\n"
     ]
    },
    {
     "name": "stdout",
     "output_type": "stream",
     "text": [
      "\n",
      "      Epoch    GPU_mem   box_loss   cls_loss   dfl_loss  Instances       Size\n"
     ]
    },
    {
     "name": "stderr",
     "output_type": "stream",
     "text": [
      "     94/100         0G      0.669     0.4135     0.8574         39        416: 100%|██████████| 115/115 [04:19<00:00,  2.25s/it]\n",
      "                 Class     Images  Instances      Box(P          R      mAP50  mAP50-95): 100%|██████████| 8/8 [00:13<00:00,  1.70s/it]"
     ]
    },
    {
     "name": "stdout",
     "output_type": "stream",
     "text": [
      "                   all        242       1683      0.821      0.629      0.726      0.488\n"
     ]
    },
    {
     "name": "stderr",
     "output_type": "stream",
     "text": [
      "\n"
     ]
    },
    {
     "name": "stdout",
     "output_type": "stream",
     "text": [
      "\n",
      "      Epoch    GPU_mem   box_loss   cls_loss   dfl_loss  Instances       Size\n"
     ]
    },
    {
     "name": "stderr",
     "output_type": "stream",
     "text": [
      "     95/100         0G     0.6621     0.4094     0.8585         28        416: 100%|██████████| 115/115 [04:20<00:00,  2.27s/it]\n",
      "                 Class     Images  Instances      Box(P          R      mAP50  mAP50-95): 100%|██████████| 8/8 [00:14<00:00,  1.77s/it]"
     ]
    },
    {
     "name": "stdout",
     "output_type": "stream",
     "text": [
      "                   all        242       1683      0.831      0.619      0.725      0.486\n"
     ]
    },
    {
     "name": "stderr",
     "output_type": "stream",
     "text": [
      "\n"
     ]
    },
    {
     "name": "stdout",
     "output_type": "stream",
     "text": [
      "\n",
      "      Epoch    GPU_mem   box_loss   cls_loss   dfl_loss  Instances       Size\n"
     ]
    },
    {
     "name": "stderr",
     "output_type": "stream",
     "text": [
      "     96/100         0G     0.6649       0.41     0.8533         36        416: 100%|██████████| 115/115 [04:20<00:00,  2.27s/it]\n",
      "                 Class     Images  Instances      Box(P          R      mAP50  mAP50-95): 100%|██████████| 8/8 [00:13<00:00,  1.71s/it]"
     ]
    },
    {
     "name": "stdout",
     "output_type": "stream",
     "text": [
      "                   all        242       1683      0.794      0.643      0.731      0.487\n"
     ]
    },
    {
     "name": "stderr",
     "output_type": "stream",
     "text": [
      "\n"
     ]
    },
    {
     "name": "stdout",
     "output_type": "stream",
     "text": [
      "\n",
      "      Epoch    GPU_mem   box_loss   cls_loss   dfl_loss  Instances       Size\n"
     ]
    },
    {
     "name": "stderr",
     "output_type": "stream",
     "text": [
      "     97/100         0G      0.662     0.4062     0.8567         34        416: 100%|██████████| 115/115 [04:22<00:00,  2.28s/it]\n",
      "                 Class     Images  Instances      Box(P          R      mAP50  mAP50-95): 100%|██████████| 8/8 [00:13<00:00,  1.75s/it]"
     ]
    },
    {
     "name": "stdout",
     "output_type": "stream",
     "text": [
      "                   all        242       1683      0.806      0.636      0.726      0.487\n"
     ]
    },
    {
     "name": "stderr",
     "output_type": "stream",
     "text": [
      "\n"
     ]
    },
    {
     "name": "stdout",
     "output_type": "stream",
     "text": [
      "\n",
      "      Epoch    GPU_mem   box_loss   cls_loss   dfl_loss  Instances       Size\n"
     ]
    },
    {
     "name": "stderr",
     "output_type": "stream",
     "text": [
      "     98/100         0G     0.6634     0.4101     0.8567         21        416: 100%|██████████| 115/115 [04:23<00:00,  2.29s/it]\n",
      "                 Class     Images  Instances      Box(P          R      mAP50  mAP50-95): 100%|██████████| 8/8 [00:14<00:00,  1.80s/it]"
     ]
    },
    {
     "name": "stdout",
     "output_type": "stream",
     "text": [
      "                   all        242       1683      0.812      0.639      0.727      0.488\n"
     ]
    },
    {
     "name": "stderr",
     "output_type": "stream",
     "text": [
      "\n"
     ]
    },
    {
     "name": "stdout",
     "output_type": "stream",
     "text": [
      "\n",
      "      Epoch    GPU_mem   box_loss   cls_loss   dfl_loss  Instances       Size\n"
     ]
    },
    {
     "name": "stderr",
     "output_type": "stream",
     "text": [
      "     99/100         0G     0.6522     0.4044     0.8564         39        416: 100%|██████████| 115/115 [04:23<00:00,  2.29s/it]\n",
      "                 Class     Images  Instances      Box(P          R      mAP50  mAP50-95): 100%|██████████| 8/8 [00:13<00:00,  1.71s/it]"
     ]
    },
    {
     "name": "stdout",
     "output_type": "stream",
     "text": [
      "                   all        242       1683       0.81      0.638      0.729      0.487\n"
     ]
    },
    {
     "name": "stderr",
     "output_type": "stream",
     "text": [
      "\n"
     ]
    },
    {
     "name": "stdout",
     "output_type": "stream",
     "text": [
      "\n",
      "      Epoch    GPU_mem   box_loss   cls_loss   dfl_loss  Instances       Size\n"
     ]
    },
    {
     "name": "stderr",
     "output_type": "stream",
     "text": [
      "    100/100         0G     0.6494     0.4027     0.8524         62        416: 100%|██████████| 115/115 [04:22<00:00,  2.28s/it]\n",
      "                 Class     Images  Instances      Box(P          R      mAP50  mAP50-95): 100%|██████████| 8/8 [00:14<00:00,  1.86s/it]"
     ]
    },
    {
     "name": "stdout",
     "output_type": "stream",
     "text": [
      "                   all        242       1683      0.816       0.63      0.727      0.488\n"
     ]
    },
    {
     "name": "stderr",
     "output_type": "stream",
     "text": [
      "\n"
     ]
    },
    {
     "name": "stdout",
     "output_type": "stream",
     "text": [
      "\n",
      "100 epochs completed in 8.220 hours.\n",
      "Optimizer stripped from runs\\detect\\train3\\weights\\last.pt, 6.2MB\n",
      "Optimizer stripped from runs\\detect\\train3\\weights\\best.pt, 6.2MB\n",
      "\n",
      "Validating runs\\detect\\train3\\weights\\best.pt...\n",
      "Ultralytics 8.3.80  Python-3.11.5 torch-2.6.0+cpu CPU (12th Gen Intel Core(TM) i5-1235U)\n",
      "Model summary (fused): 72 layers, 3,005,843 parameters, 0 gradients, 8.1 GFLOPs\n"
     ]
    },
    {
     "name": "stderr",
     "output_type": "stream",
     "text": [
      "                 Class     Images  Instances      Box(P          R      mAP50  mAP50-95): 100%|██████████| 8/8 [00:15<00:00,  1.92s/it]\n"
     ]
    },
    {
     "name": "stdout",
     "output_type": "stream",
     "text": [
      "                   all        242       1683       0.82      0.629      0.726      0.489\n",
      "Speed: 0.7ms preprocess, 50.8ms inference, 0.0ms loss, 1.0ms postprocess per image\n",
      "Results saved to \u001b[1mruns\\detect\\train3\u001b[0m\n"
     ]
    }
   ],
   "source": [
    "model = YOLO(\"yolov8n.pt\") \n",
    "\n",
    "results = model.train(\n",
    "    data=data_yaml_path,\n",
    "    epochs=100,  \n",
    "    imgsz=416,\n",
    "    val=True,\n",
    ")  \n"
   ]
  },
  {
   "cell_type": "code",
   "execution_count": null,
   "metadata": {},
   "outputs": [
    {
     "name": "stdout",
     "output_type": "stream",
     "text": [
      "\n",
      "0: 416x416 1 solar_panel, 111.3ms\n",
      "Speed: 5.1ms preprocess, 111.3ms inference, 1.6ms postprocess per image at shape (1, 3, 416, 416)\n"
     ]
    },
    {
     "name": "stderr",
     "output_type": "stream",
     "text": [
      "SupervisionWarnings: BoundingBoxAnnotator is deprecated: `BoundingBoxAnnotator` is deprecated and has been renamed to `BoxAnnotator`. `BoundingBoxAnnotator` will be removed in supervision-0.26.0.\n",
      "SupervisionWarnings: BoundingBoxAnnotator is deprecated: `BoundingBoxAnnotator` is deprecated and has been renamed to `BoxAnnotator`. `BoundingBoxAnnotator` will be removed in supervision-0.26.0.\n"
     ]
    },
    {
     "data": {
      "text/plain": [
       "<Figure size 1000x1000 with 1 Axes>"
      ]
     },
     "metadata": {},
     "output_type": "display_data"
    },
    {
     "name": "stdout",
     "output_type": "stream",
     "text": [
      "\n",
      "0: 416x416 8 solar_panels, 113.0ms\n",
      "Speed: 2.1ms preprocess, 113.0ms inference, 1.4ms postprocess per image at shape (1, 3, 416, 416)\n"
     ]
    },
    {
     "name": "stderr",
     "output_type": "stream",
     "text": [
      "SupervisionWarnings: BoundingBoxAnnotator is deprecated: `BoundingBoxAnnotator` is deprecated and has been renamed to `BoxAnnotator`. `BoundingBoxAnnotator` will be removed in supervision-0.26.0.\n",
      "SupervisionWarnings: BoundingBoxAnnotator is deprecated: `BoundingBoxAnnotator` is deprecated and has been renamed to `BoxAnnotator`. `BoundingBoxAnnotator` will be removed in supervision-0.26.0.\n"
     ]
    },
    {
     "data": {
      "text/plain": [
       "<Figure size 1000x1000 with 1 Axes>"
      ]
     },
     "metadata": {},
     "output_type": "display_data"
    },
    {
     "name": "stdout",
     "output_type": "stream",
     "text": [
      "\n",
      "0: 416x416 6 solar_panels, 157.3ms\n",
      "Speed: 1.6ms preprocess, 157.3ms inference, 1.7ms postprocess per image at shape (1, 3, 416, 416)\n"
     ]
    },
    {
     "name": "stderr",
     "output_type": "stream",
     "text": [
      "SupervisionWarnings: BoundingBoxAnnotator is deprecated: `BoundingBoxAnnotator` is deprecated and has been renamed to `BoxAnnotator`. `BoundingBoxAnnotator` will be removed in supervision-0.26.0.\n",
      "SupervisionWarnings: BoundingBoxAnnotator is deprecated: `BoundingBoxAnnotator` is deprecated and has been renamed to `BoxAnnotator`. `BoundingBoxAnnotator` will be removed in supervision-0.26.0.\n"
     ]
    },
    {
     "data": {
      "text/plain": [
       "<Figure size 1000x1000 with 1 Axes>"
      ]
     },
     "metadata": {},
     "output_type": "display_data"
    }
   ],
   "source": [
    "best_model = YOLO(\"runs/detect/train3/weights/best.pt\")  \n",
    "\n",
    "def visualize_predictions(model, image_path, label_path):\n",
    "    \n",
    "    image = cv2.imread(image_path)\n",
    "    image = cv2.cvtColor(image, cv2.COLOR_BGR2RGB)\n",
    "    h, w, _ = image.shape\n",
    "\n",
    "    gt_boxes = []\n",
    "    with open(label_path, \"r\") as f:\n",
    "        \n",
    "        for line in f.readlines():\n",
    "            class_id, x_center, y_center, width, height = map(float, line.strip().split())\n",
    "            x1 = int((x_center - width / 2) * w)\n",
    "            y1 = int((y_center - height / 2) * h)\n",
    "            x2 = int((x_center + width / 2) * w)\n",
    "            y2 = int((y_center + height / 2) * h)\n",
    "            gt_boxes.append([x1, y1, x2, y2])\n",
    "\n",
    "    gt_boxes = np.array(gt_boxes)\n",
    "    results = model.predict(image)\n",
    "\n",
    "    if len(results) > 0:\n",
    "        result = results[0] \n",
    "        if result.boxes:  \n",
    "            boxes = result.boxes.xyxy.cpu().numpy()  \n",
    "            confidence = result.boxes.conf.cpu().numpy()  \n",
    "            class_id = result.boxes.cls.cpu().numpy().astype(int)  \n",
    "\n",
    "            detections = sv.Detections(\n",
    "                xyxy=boxes,\n",
    "                confidence=confidence,\n",
    "                class_id=class_id,\n",
    "            )\n",
    "\n",
    "            gt_annotator = sv.BoundingBoxAnnotator(\n",
    "                color=sv.Color.GREEN, thickness=2\n",
    "            )\n",
    "            pred_annotator = sv.BoundingBoxAnnotator(\n",
    "                color=sv.Color.RED, thickness=2\n",
    "            )\n",
    "\n",
    "            annotated_image = image.copy()\n",
    "            if len(gt_boxes) > 0:\n",
    "                gt_detections = sv.Detections(\n",
    "                    xyxy=gt_boxes, confidence=np.ones(len(gt_boxes)), class_id=np.zeros(len(gt_boxes))\n",
    "                )  \n",
    "                annotated_image = gt_annotator.annotate(scene=annotated_image, detections=gt_detections)\n",
    "\n",
    "            if detections is not None:\n",
    "                annotated_image = pred_annotator.annotate(scene=annotated_image, detections=detections)\n",
    "\n",
    "            plt.figure(figsize=(10, 10))\n",
    "            plt.imshow(annotated_image)\n",
    "            plt.axis(\"off\")\n",
    "            plt.show()\n",
    "        else:\n",
    "            print(\"No detections found.\")\n",
    "    else:\n",
    "        print(\"No prediction results.\")\n",
    "\n",
    "num_samples = 3\n",
    "random_indices = random.sample(range(len(test_images)), num_samples)\n",
    "\n",
    "for i in random_indices:\n",
    "    image_file = test_images[i]\n",
    "    label_file = test_labels[i]\n",
    "    image_path = os.path.join(TEST_IMAGES_DIR, image_file)\n",
    "    label_path = os.path.join(TEST_LABELS_DIR, label_file)\n",
    "    visualize_predictions(best_model, image_path, label_path)\n"
   ]
  },
  {
   "cell_type": "code",
   "execution_count": null,
   "metadata": {},
   "outputs": [
    {
     "name": "stdout",
     "output_type": "stream",
     "text": [
      "\n"
     ]
    },
    {
     "name": "stdout",
     "output_type": "stream",
     "text": [
      "0: 416x416 3 solar_panels, 81.1ms\n",
      "Speed: 5.6ms preprocess, 81.1ms inference, 0.7ms postprocess per image at shape (1, 3, 416, 416)\n",
      "\n",
      "0: 416x416 5 solar_panels, 58.5ms\n",
      "Speed: 1.2ms preprocess, 58.5ms inference, 0.9ms postprocess per image at shape (1, 3, 416, 416)\n",
      "\n",
      "0: 416x416 4 solar_panels, 55.9ms\n",
      "Speed: 0.8ms preprocess, 55.9ms inference, 0.7ms postprocess per image at shape (1, 3, 416, 416)\n",
      "\n",
      "0: 416x416 5 solar_panels, 55.0ms\n",
      "Speed: 1.4ms preprocess, 55.0ms inference, 0.7ms postprocess per image at shape (1, 3, 416, 416)\n",
      "\n",
      "0: 416x416 3 solar_panels, 58.6ms\n",
      "Speed: 1.2ms preprocess, 58.6ms inference, 1.0ms postprocess per image at shape (1, 3, 416, 416)\n",
      "\n",
      "0: 416x416 5 solar_panels, 56.3ms\n",
      "Speed: 0.8ms preprocess, 56.3ms inference, 0.7ms postprocess per image at shape (1, 3, 416, 416)\n",
      "\n",
      "0: 416x416 3 solar_panels, 126.8ms\n",
      "Speed: 1.3ms preprocess, 126.8ms inference, 1.3ms postprocess per image at shape (1, 3, 416, 416)\n",
      "\n",
      "0: 416x416 6 solar_panels, 69.6ms\n",
      "Speed: 1.3ms preprocess, 69.6ms inference, 0.6ms postprocess per image at shape (1, 3, 416, 416)\n",
      "\n",
      "0: 416x416 5 solar_panels, 62.1ms\n",
      "Speed: 1.9ms preprocess, 62.1ms inference, 0.6ms postprocess per image at shape (1, 3, 416, 416)\n",
      "\n",
      "0: 416x416 9 solar_panels, 68.5ms\n",
      "Speed: 2.6ms preprocess, 68.5ms inference, 0.8ms postprocess per image at shape (1, 3, 416, 416)\n",
      "\n",
      "0: 416x416 4 solar_panels, 62.8ms\n",
      "Speed: 1.4ms preprocess, 62.8ms inference, 0.8ms postprocess per image at shape (1, 3, 416, 416)\n",
      "\n",
      "0: 416x416 1 solar_panel, 50.4ms\n",
      "Speed: 1.1ms preprocess, 50.4ms inference, 0.6ms postprocess per image at shape (1, 3, 416, 416)\n",
      "\n",
      "0: 416x416 4 solar_panels, 52.9ms\n",
      "Speed: 1.0ms preprocess, 52.9ms inference, 0.8ms postprocess per image at shape (1, 3, 416, 416)\n",
      "\n",
      "0: 416x416 5 solar_panels, 50.5ms\n",
      "Speed: 1.0ms preprocess, 50.5ms inference, 0.6ms postprocess per image at shape (1, 3, 416, 416)\n",
      "\n",
      "0: 416x416 3 solar_panels, 52.4ms\n",
      "Speed: 0.9ms preprocess, 52.4ms inference, 0.6ms postprocess per image at shape (1, 3, 416, 416)\n",
      "\n",
      "0: 416x416 7 solar_panels, 67.9ms\n",
      "Speed: 1.0ms preprocess, 67.9ms inference, 0.7ms postprocess per image at shape (1, 3, 416, 416)\n",
      "\n",
      "0: 416x416 4 solar_panels, 101.3ms\n",
      "Speed: 1.7ms preprocess, 101.3ms inference, 0.7ms postprocess per image at shape (1, 3, 416, 416)\n",
      "\n",
      "0: 416x416 2 solar_panels, 79.2ms\n",
      "Speed: 0.9ms preprocess, 79.2ms inference, 0.9ms postprocess per image at shape (1, 3, 416, 416)\n",
      "\n",
      "0: 416x416 3 solar_panels, 67.4ms\n",
      "Speed: 1.2ms preprocess, 67.4ms inference, 0.6ms postprocess per image at shape (1, 3, 416, 416)\n",
      "\n",
      "0: 416x416 3 solar_panels, 66.7ms\n",
      "Speed: 1.2ms preprocess, 66.7ms inference, 0.7ms postprocess per image at shape (1, 3, 416, 416)\n",
      "\n",
      "0: 416x416 10 solar_panels, 70.9ms\n",
      "Speed: 1.2ms preprocess, 70.9ms inference, 0.7ms postprocess per image at shape (1, 3, 416, 416)\n",
      "\n",
      "0: 416x416 10 solar_panels, 65.8ms\n",
      "Speed: 1.5ms preprocess, 65.8ms inference, 0.9ms postprocess per image at shape (1, 3, 416, 416)\n",
      "\n",
      "0: 416x416 6 solar_panels, 66.4ms\n",
      "Speed: 1.1ms preprocess, 66.4ms inference, 0.7ms postprocess per image at shape (1, 3, 416, 416)\n",
      "\n",
      "0: 416x416 4 solar_panels, 64.1ms\n",
      "Speed: 2.4ms preprocess, 64.1ms inference, 1.7ms postprocess per image at shape (1, 3, 416, 416)\n",
      "\n",
      "0: 416x416 10 solar_panels, 67.6ms\n",
      "Speed: 1.5ms preprocess, 67.6ms inference, 0.8ms postprocess per image at shape (1, 3, 416, 416)\n",
      "\n",
      "0: 416x416 4 solar_panels, 66.4ms\n",
      "Speed: 0.8ms preprocess, 66.4ms inference, 0.8ms postprocess per image at shape (1, 3, 416, 416)\n",
      "\n",
      "0: 416x416 10 solar_panels, 67.4ms\n",
      "Speed: 1.9ms preprocess, 67.4ms inference, 0.7ms postprocess per image at shape (1, 3, 416, 416)\n",
      "\n",
      "0: 416x416 11 solar_panels, 67.0ms\n",
      "Speed: 1.2ms preprocess, 67.0ms inference, 0.7ms postprocess per image at shape (1, 3, 416, 416)\n",
      "\n",
      "0: 416x416 8 solar_panels, 66.7ms\n",
      "Speed: 1.2ms preprocess, 66.7ms inference, 0.8ms postprocess per image at shape (1, 3, 416, 416)\n",
      "\n",
      "0: 416x416 8 solar_panels, 65.3ms\n",
      "Speed: 0.9ms preprocess, 65.3ms inference, 0.6ms postprocess per image at shape (1, 3, 416, 416)\n",
      "\n",
      "0: 416x416 1 solar_panel, 65.9ms\n",
      "Speed: 1.0ms preprocess, 65.9ms inference, 0.7ms postprocess per image at shape (1, 3, 416, 416)\n",
      "\n",
      "0: 416x416 3 solar_panels, 71.5ms\n",
      "Speed: 1.8ms preprocess, 71.5ms inference, 1.0ms postprocess per image at shape (1, 3, 416, 416)\n",
      "\n",
      "0: 416x416 10 solar_panels, 75.8ms\n",
      "Speed: 3.4ms preprocess, 75.8ms inference, 0.7ms postprocess per image at shape (1, 3, 416, 416)\n",
      "\n",
      "0: 416x416 2 solar_panels, 61.8ms\n",
      "Speed: 1.3ms preprocess, 61.8ms inference, 0.6ms postprocess per image at shape (1, 3, 416, 416)\n",
      "\n",
      "0: 416x416 3 solar_panels, 67.2ms\n",
      "Speed: 1.4ms preprocess, 67.2ms inference, 0.8ms postprocess per image at shape (1, 3, 416, 416)\n",
      "\n",
      "0: 416x416 8 solar_panels, 71.4ms\n",
      "Speed: 1.1ms preprocess, 71.4ms inference, 2.0ms postprocess per image at shape (1, 3, 416, 416)\n",
      "\n",
      "0: 416x416 6 solar_panels, 71.6ms\n",
      "Speed: 1.4ms preprocess, 71.6ms inference, 0.6ms postprocess per image at shape (1, 3, 416, 416)\n",
      "\n",
      "0: 416x416 8 solar_panels, 70.6ms\n",
      "Speed: 0.9ms preprocess, 70.6ms inference, 0.7ms postprocess per image at shape (1, 3, 416, 416)\n",
      "\n",
      "0: 416x416 3 solar_panels, 70.5ms\n",
      "Speed: 1.1ms preprocess, 70.5ms inference, 1.2ms postprocess per image at shape (1, 3, 416, 416)\n",
      "\n",
      "0: 416x416 2 solar_panels, 150.4ms\n",
      "Speed: 1.1ms preprocess, 150.4ms inference, 0.8ms postprocess per image at shape (1, 3, 416, 416)\n",
      "\n",
      "0: 416x416 1 solar_panel, 101.8ms\n",
      "Speed: 2.6ms preprocess, 101.8ms inference, 1.0ms postprocess per image at shape (1, 3, 416, 416)\n",
      "\n",
      "0: 416x416 12 solar_panels, 69.0ms\n",
      "Speed: 0.9ms preprocess, 69.0ms inference, 0.8ms postprocess per image at shape (1, 3, 416, 416)\n",
      "\n",
      "0: 416x416 5 solar_panels, 66.1ms\n",
      "Speed: 1.5ms preprocess, 66.1ms inference, 0.8ms postprocess per image at shape (1, 3, 416, 416)\n",
      "\n",
      "0: 416x416 8 solar_panels, 67.0ms\n",
      "Speed: 1.3ms preprocess, 67.0ms inference, 0.7ms postprocess per image at shape (1, 3, 416, 416)\n",
      "\n",
      "0: 416x416 3 solar_panels, 72.2ms\n",
      "Speed: 1.7ms preprocess, 72.2ms inference, 0.8ms postprocess per image at shape (1, 3, 416, 416)\n",
      "\n",
      "0: 416x416 2 solar_panels, 65.8ms\n",
      "Speed: 1.3ms preprocess, 65.8ms inference, 0.9ms postprocess per image at shape (1, 3, 416, 416)\n",
      "\n",
      "0: 416x416 4 solar_panels, 64.6ms\n",
      "Speed: 1.3ms preprocess, 64.6ms inference, 0.8ms postprocess per image at shape (1, 3, 416, 416)\n",
      "\n",
      "0: 416x416 1 solar_panel, 67.1ms\n",
      "Speed: 1.4ms preprocess, 67.1ms inference, 0.8ms postprocess per image at shape (1, 3, 416, 416)\n",
      "\n",
      "0: 416x416 6 solar_panels, 65.4ms\n",
      "Speed: 1.5ms preprocess, 65.4ms inference, 0.8ms postprocess per image at shape (1, 3, 416, 416)\n",
      "\n",
      "0: 416x416 12 solar_panels, 62.8ms\n",
      "Speed: 1.2ms preprocess, 62.8ms inference, 1.1ms postprocess per image at shape (1, 3, 416, 416)\n",
      "\n",
      "0: 416x416 3 solar_panels, 63.8ms\n",
      "Speed: 0.8ms preprocess, 63.8ms inference, 0.7ms postprocess per image at shape (1, 3, 416, 416)\n",
      "\n",
      "0: 416x416 10 solar_panels, 64.9ms\n",
      "Speed: 1.1ms preprocess, 64.9ms inference, 1.0ms postprocess per image at shape (1, 3, 416, 416)\n",
      "\n",
      "0: 416x416 7 solar_panels, 66.1ms\n",
      "Speed: 1.5ms preprocess, 66.1ms inference, 0.9ms postprocess per image at shape (1, 3, 416, 416)\n",
      "\n",
      "0: 416x416 3 solar_panels, 65.8ms\n",
      "Speed: 1.3ms preprocess, 65.8ms inference, 0.7ms postprocess per image at shape (1, 3, 416, 416)\n",
      "\n",
      "0: 416x416 5 solar_panels, 62.1ms\n",
      "Speed: 1.2ms preprocess, 62.1ms inference, 0.7ms postprocess per image at shape (1, 3, 416, 416)\n",
      "\n",
      "0: 416x416 3 solar_panels, 65.9ms\n",
      "Speed: 1.0ms preprocess, 65.9ms inference, 0.7ms postprocess per image at shape (1, 3, 416, 416)\n",
      "\n",
      "0: 416x416 4 solar_panels, 63.0ms\n",
      "Speed: 0.9ms preprocess, 63.0ms inference, 1.0ms postprocess per image at shape (1, 3, 416, 416)\n",
      "\n",
      "0: 416x416 4 solar_panels, 64.3ms\n",
      "Speed: 1.2ms preprocess, 64.3ms inference, 0.7ms postprocess per image at shape (1, 3, 416, 416)\n",
      "\n",
      "0: 416x416 10 solar_panels, 65.9ms\n",
      "Speed: 1.1ms preprocess, 65.9ms inference, 0.7ms postprocess per image at shape (1, 3, 416, 416)\n",
      "\n",
      "0: 416x416 4 solar_panels, 64.8ms\n",
      "Speed: 1.5ms preprocess, 64.8ms inference, 1.0ms postprocess per image at shape (1, 3, 416, 416)\n",
      "\n",
      "0: 416x416 13 solar_panels, 66.1ms\n",
      "Speed: 1.3ms preprocess, 66.1ms inference, 0.7ms postprocess per image at shape (1, 3, 416, 416)\n",
      "\n",
      "0: 416x416 7 solar_panels, 66.5ms\n",
      "Speed: 1.3ms preprocess, 66.5ms inference, 1.0ms postprocess per image at shape (1, 3, 416, 416)\n",
      "\n",
      "0: 416x416 4 solar_panels, 67.9ms\n",
      "Speed: 2.0ms preprocess, 67.9ms inference, 1.0ms postprocess per image at shape (1, 3, 416, 416)\n",
      "\n",
      "0: 416x416 1 solar_panel, 69.2ms\n",
      "Speed: 1.1ms preprocess, 69.2ms inference, 0.8ms postprocess per image at shape (1, 3, 416, 416)\n",
      "\n",
      "0: 416x416 4 solar_panels, 63.3ms\n",
      "Speed: 1.3ms preprocess, 63.3ms inference, 0.7ms postprocess per image at shape (1, 3, 416, 416)\n",
      "\n",
      "0: 416x416 2 solar_panels, 84.2ms\n",
      "Speed: 1.3ms preprocess, 84.2ms inference, 0.7ms postprocess per image at shape (1, 3, 416, 416)\n",
      "\n",
      "0: 416x416 13 solar_panels, 64.3ms\n",
      "Speed: 1.3ms preprocess, 64.3ms inference, 0.8ms postprocess per image at shape (1, 3, 416, 416)\n",
      "\n",
      "0: 416x416 3 solar_panels, 58.7ms\n",
      "Speed: 1.0ms preprocess, 58.7ms inference, 0.7ms postprocess per image at shape (1, 3, 416, 416)\n",
      "\n",
      "0: 416x416 7 solar_panels, 55.5ms\n",
      "Speed: 1.2ms preprocess, 55.5ms inference, 0.7ms postprocess per image at shape (1, 3, 416, 416)\n",
      "\n",
      "0: 416x416 3 solar_panels, 60.9ms\n",
      "Speed: 1.1ms preprocess, 60.9ms inference, 0.7ms postprocess per image at shape (1, 3, 416, 416)\n",
      "\n",
      "0: 416x416 5 solar_panels, 57.0ms\n",
      "Speed: 0.9ms preprocess, 57.0ms inference, 0.8ms postprocess per image at shape (1, 3, 416, 416)\n",
      "\n",
      "0: 416x416 11 solar_panels, 58.3ms\n",
      "Speed: 1.3ms preprocess, 58.3ms inference, 0.9ms postprocess per image at shape (1, 3, 416, 416)\n",
      "\n",
      "0: 416x416 4 solar_panels, 57.7ms\n",
      "Speed: 1.2ms preprocess, 57.7ms inference, 1.0ms postprocess per image at shape (1, 3, 416, 416)\n",
      "\n",
      "0: 416x416 3 solar_panels, 62.8ms\n",
      "Speed: 0.9ms preprocess, 62.8ms inference, 0.7ms postprocess per image at shape (1, 3, 416, 416)\n",
      "\n",
      "0: 416x416 8 solar_panels, 135.6ms\n",
      "Speed: 0.9ms preprocess, 135.6ms inference, 0.8ms postprocess per image at shape (1, 3, 416, 416)\n",
      "\n",
      "0: 416x416 4 solar_panels, 103.9ms\n",
      "Speed: 1.7ms preprocess, 103.9ms inference, 0.8ms postprocess per image at shape (1, 3, 416, 416)\n",
      "\n",
      "0: 416x416 9 solar_panels, 71.0ms\n",
      "Speed: 1.5ms preprocess, 71.0ms inference, 1.3ms postprocess per image at shape (1, 3, 416, 416)\n",
      "\n",
      "0: 416x416 4 solar_panels, 64.4ms\n",
      "Speed: 1.9ms preprocess, 64.4ms inference, 0.8ms postprocess per image at shape (1, 3, 416, 416)\n",
      "\n",
      "0: 416x416 5 solar_panels, 65.7ms\n",
      "Speed: 1.2ms preprocess, 65.7ms inference, 0.7ms postprocess per image at shape (1, 3, 416, 416)\n",
      "\n",
      "0: 416x416 7 solar_panels, 68.2ms\n",
      "Speed: 2.1ms preprocess, 68.2ms inference, 1.1ms postprocess per image at shape (1, 3, 416, 416)\n",
      "\n",
      "0: 416x416 4 solar_panels, 76.3ms\n",
      "Speed: 1.3ms preprocess, 76.3ms inference, 1.0ms postprocess per image at shape (1, 3, 416, 416)\n",
      "\n",
      "0: 416x416 7 solar_panels, 63.4ms\n",
      "Speed: 1.2ms preprocess, 63.4ms inference, 0.7ms postprocess per image at shape (1, 3, 416, 416)\n",
      "\n",
      "0: 416x416 8 solar_panels, 57.5ms\n",
      "Speed: 0.8ms preprocess, 57.5ms inference, 0.7ms postprocess per image at shape (1, 3, 416, 416)\n",
      "\n",
      "0: 416x416 3 solar_panels, 55.9ms\n",
      "Speed: 1.2ms preprocess, 55.9ms inference, 1.4ms postprocess per image at shape (1, 3, 416, 416)\n",
      "\n",
      "0: 416x416 8 solar_panels, 60.0ms\n",
      "Speed: 0.8ms preprocess, 60.0ms inference, 1.2ms postprocess per image at shape (1, 3, 416, 416)\n",
      "\n",
      "0: 416x416 3 solar_panels, 55.7ms\n",
      "Speed: 1.2ms preprocess, 55.7ms inference, 0.7ms postprocess per image at shape (1, 3, 416, 416)\n",
      "\n",
      "0: 416x416 4 solar_panels, 54.4ms\n",
      "Speed: 1.0ms preprocess, 54.4ms inference, 0.7ms postprocess per image at shape (1, 3, 416, 416)\n",
      "\n",
      "0: 416x416 7 solar_panels, 57.4ms\n",
      "Speed: 1.0ms preprocess, 57.4ms inference, 0.7ms postprocess per image at shape (1, 3, 416, 416)\n",
      "\n",
      "0: 416x416 6 solar_panels, 55.1ms\n",
      "Speed: 1.1ms preprocess, 55.1ms inference, 0.7ms postprocess per image at shape (1, 3, 416, 416)\n",
      "\n",
      "0: 416x416 3 solar_panels, 56.6ms\n",
      "Speed: 0.9ms preprocess, 56.6ms inference, 0.7ms postprocess per image at shape (1, 3, 416, 416)\n",
      "\n",
      "0: 416x416 6 solar_panels, 56.3ms\n",
      "Speed: 1.7ms preprocess, 56.3ms inference, 0.7ms postprocess per image at shape (1, 3, 416, 416)\n",
      "\n",
      "0: 416x416 4 solar_panels, 56.2ms\n",
      "Speed: 1.5ms preprocess, 56.2ms inference, 0.7ms postprocess per image at shape (1, 3, 416, 416)\n",
      "\n",
      "0: 416x416 12 solar_panels, 55.9ms\n",
      "Speed: 1.2ms preprocess, 55.9ms inference, 0.7ms postprocess per image at shape (1, 3, 416, 416)\n",
      "\n",
      "0: 416x416 2 solar_panels, 57.0ms\n",
      "Speed: 1.0ms preprocess, 57.0ms inference, 0.7ms postprocess per image at shape (1, 3, 416, 416)\n",
      "\n",
      "0: 416x416 3 solar_panels, 55.8ms\n",
      "Speed: 0.8ms preprocess, 55.8ms inference, 0.7ms postprocess per image at shape (1, 3, 416, 416)\n",
      "\n",
      "0: 416x416 6 solar_panels, 56.8ms\n",
      "Speed: 1.0ms preprocess, 56.8ms inference, 0.7ms postprocess per image at shape (1, 3, 416, 416)\n",
      "\n",
      "0: 416x416 5 solar_panels, 56.3ms\n",
      "Speed: 1.3ms preprocess, 56.3ms inference, 1.3ms postprocess per image at shape (1, 3, 416, 416)\n",
      "\n",
      "0: 416x416 7 solar_panels, 55.8ms\n",
      "Speed: 1.3ms preprocess, 55.8ms inference, 0.8ms postprocess per image at shape (1, 3, 416, 416)\n",
      "\n",
      "0: 416x416 9 solar_panels, 55.2ms\n",
      "Speed: 1.2ms preprocess, 55.2ms inference, 0.8ms postprocess per image at shape (1, 3, 416, 416)\n",
      "\n",
      "0: 416x416 10 solar_panels, 57.4ms\n",
      "Speed: 1.1ms preprocess, 57.4ms inference, 0.8ms postprocess per image at shape (1, 3, 416, 416)\n",
      "\n",
      "0: 416x416 6 solar_panels, 57.6ms\n",
      "Speed: 1.3ms preprocess, 57.6ms inference, 1.0ms postprocess per image at shape (1, 3, 416, 416)\n",
      "\n",
      "0: 416x416 4 solar_panels, 56.4ms\n",
      "Speed: 1.2ms preprocess, 56.4ms inference, 0.7ms postprocess per image at shape (1, 3, 416, 416)\n",
      "\n",
      "0: 416x416 4 solar_panels, 55.6ms\n",
      "Speed: 1.2ms preprocess, 55.6ms inference, 0.7ms postprocess per image at shape (1, 3, 416, 416)\n",
      "\n",
      "0: 416x416 14 solar_panels, 56.8ms\n",
      "Speed: 1.2ms preprocess, 56.8ms inference, 0.7ms postprocess per image at shape (1, 3, 416, 416)\n",
      "\n",
      "0: 416x416 8 solar_panels, 57.2ms\n",
      "Speed: 1.0ms preprocess, 57.2ms inference, 1.0ms postprocess per image at shape (1, 3, 416, 416)\n",
      "\n",
      "0: 416x416 4 solar_panels, 60.2ms\n",
      "Speed: 1.2ms preprocess, 60.2ms inference, 0.7ms postprocess per image at shape (1, 3, 416, 416)\n",
      "\n",
      "0: 416x416 5 solar_panels, 100.2ms\n",
      "Speed: 1.2ms preprocess, 100.2ms inference, 1.4ms postprocess per image at shape (1, 3, 416, 416)\n",
      "\n",
      "0: 416x416 7 solar_panels, 74.2ms\n",
      "Speed: 1.9ms preprocess, 74.2ms inference, 0.7ms postprocess per image at shape (1, 3, 416, 416)\n",
      "\n",
      "0: 416x416 4 solar_panels, 56.8ms\n",
      "Speed: 1.6ms preprocess, 56.8ms inference, 0.7ms postprocess per image at shape (1, 3, 416, 416)\n",
      "\n",
      "0: 416x416 8 solar_panels, 58.2ms\n",
      "Speed: 0.9ms preprocess, 58.2ms inference, 0.7ms postprocess per image at shape (1, 3, 416, 416)\n",
      "\n",
      "0: 416x416 8 solar_panels, 58.3ms\n",
      "Speed: 1.2ms preprocess, 58.3ms inference, 0.8ms postprocess per image at shape (1, 3, 416, 416)\n",
      "\n",
      "0: 416x416 9 solar_panels, 56.5ms\n",
      "Speed: 1.3ms preprocess, 56.5ms inference, 1.0ms postprocess per image at shape (1, 3, 416, 416)\n",
      "\n",
      "0: 416x416 9 solar_panels, 57.2ms\n",
      "Speed: 1.3ms preprocess, 57.2ms inference, 1.2ms postprocess per image at shape (1, 3, 416, 416)\n",
      "\n",
      "0: 416x416 4 solar_panels, 57.5ms\n",
      "Speed: 1.3ms preprocess, 57.5ms inference, 0.7ms postprocess per image at shape (1, 3, 416, 416)\n",
      "\n",
      "0: 416x416 2 solar_panels, 59.2ms\n",
      "Speed: 1.4ms preprocess, 59.2ms inference, 0.7ms postprocess per image at shape (1, 3, 416, 416)\n",
      "\n",
      "0: 416x416 5 solar_panels, 56.5ms\n",
      "Speed: 0.9ms preprocess, 56.5ms inference, 0.7ms postprocess per image at shape (1, 3, 416, 416)\n",
      "\n",
      "0: 416x416 2 solar_panels, 57.7ms\n",
      "Speed: 1.2ms preprocess, 57.7ms inference, 0.7ms postprocess per image at shape (1, 3, 416, 416)\n",
      "\n",
      "0: 416x416 (no detections), 70.9ms\n",
      "Speed: 1.2ms preprocess, 70.9ms inference, 0.4ms postprocess per image at shape (1, 3, 416, 416)\n",
      "\n",
      "0: 416x416 3 solar_panels, 69.5ms\n",
      "Speed: 1.8ms preprocess, 69.5ms inference, 0.7ms postprocess per image at shape (1, 3, 416, 416)\n",
      "\n",
      "0: 416x416 1 solar_panel, 60.7ms\n",
      "Speed: 1.5ms preprocess, 60.7ms inference, 0.7ms postprocess per image at shape (1, 3, 416, 416)\n",
      "\n",
      "0: 416x416 4 solar_panels, 60.0ms\n",
      "Speed: 0.8ms preprocess, 60.0ms inference, 0.7ms postprocess per image at shape (1, 3, 416, 416)\n",
      "\n",
      "0: 416x416 5 solar_panels, 57.3ms\n",
      "Speed: 1.2ms preprocess, 57.3ms inference, 0.8ms postprocess per image at shape (1, 3, 416, 416)\n",
      "\n",
      "0: 416x416 9 solar_panels, 55.9ms\n",
      "Speed: 1.2ms preprocess, 55.9ms inference, 0.8ms postprocess per image at shape (1, 3, 416, 416)\n",
      "\n",
      "0: 416x416 3 solar_panels, 62.3ms\n",
      "Speed: 1.1ms preprocess, 62.3ms inference, 1.0ms postprocess per image at shape (1, 3, 416, 416)\n",
      "\n",
      "0: 416x416 3 solar_panels, 140.9ms\n",
      "Speed: 1.1ms preprocess, 140.9ms inference, 0.8ms postprocess per image at shape (1, 3, 416, 416)\n",
      "\n",
      "0: 416x416 5 solar_panels, 58.9ms\n",
      "Speed: 0.8ms preprocess, 58.9ms inference, 0.7ms postprocess per image at shape (1, 3, 416, 416)\n",
      "\n",
      "0: 416x416 3 solar_panels, 58.5ms\n",
      "Speed: 1.2ms preprocess, 58.5ms inference, 0.9ms postprocess per image at shape (1, 3, 416, 416)\n",
      "\n",
      "0: 416x416 5 solar_panels, 58.1ms\n",
      "Speed: 1.6ms preprocess, 58.1ms inference, 0.8ms postprocess per image at shape (1, 3, 416, 416)\n",
      "\n",
      "0: 416x416 6 solar_panels, 80.4ms\n",
      "Speed: 1.2ms preprocess, 80.4ms inference, 0.7ms postprocess per image at shape (1, 3, 416, 416)\n",
      "\n",
      "0: 416x416 3 solar_panels, 69.2ms\n",
      "Speed: 1.3ms preprocess, 69.2ms inference, 0.8ms postprocess per image at shape (1, 3, 416, 416)\n",
      "\n",
      "0: 416x416 7 solar_panels, 57.8ms\n",
      "Speed: 1.2ms preprocess, 57.8ms inference, 0.7ms postprocess per image at shape (1, 3, 416, 416)\n",
      "\n",
      "0: 416x416 4 solar_panels, 60.0ms\n",
      "Speed: 0.9ms preprocess, 60.0ms inference, 0.7ms postprocess per image at shape (1, 3, 416, 416)\n",
      "\n",
      "0: 416x416 3 solar_panels, 57.6ms\n",
      "Speed: 0.9ms preprocess, 57.6ms inference, 0.7ms postprocess per image at shape (1, 3, 416, 416)\n",
      "\n",
      "0: 416x416 7 solar_panels, 57.9ms\n",
      "Speed: 1.2ms preprocess, 57.9ms inference, 1.2ms postprocess per image at shape (1, 3, 416, 416)\n",
      "\n",
      "0: 416x416 7 solar_panels, 59.2ms\n",
      "Speed: 0.8ms preprocess, 59.2ms inference, 0.7ms postprocess per image at shape (1, 3, 416, 416)\n",
      "\n",
      "0: 416x416 8 solar_panels, 58.6ms\n",
      "Speed: 1.2ms preprocess, 58.6ms inference, 0.7ms postprocess per image at shape (1, 3, 416, 416)\n",
      "\n",
      "0: 416x416 7 solar_panels, 61.6ms\n",
      "Speed: 1.6ms preprocess, 61.6ms inference, 0.8ms postprocess per image at shape (1, 3, 416, 416)\n",
      "\n",
      "0: 416x416 4 solar_panels, 160.7ms\n",
      "Speed: 1.2ms preprocess, 160.7ms inference, 0.7ms postprocess per image at shape (1, 3, 416, 416)\n",
      "\n",
      "0: 416x416 1 solar_panel, 67.3ms\n",
      "Speed: 1.1ms preprocess, 67.3ms inference, 0.7ms postprocess per image at shape (1, 3, 416, 416)\n",
      "\n",
      "0: 416x416 6 solar_panels, 60.5ms\n",
      "Speed: 1.3ms preprocess, 60.5ms inference, 0.7ms postprocess per image at shape (1, 3, 416, 416)\n",
      "\n",
      "0: 416x416 2 solar_panels, 58.7ms\n",
      "Speed: 1.2ms preprocess, 58.7ms inference, 0.9ms postprocess per image at shape (1, 3, 416, 416)\n",
      "\n",
      "0: 416x416 4 solar_panels, 58.5ms\n",
      "Speed: 1.2ms preprocess, 58.5ms inference, 1.5ms postprocess per image at shape (1, 3, 416, 416)\n",
      "\n",
      "0: 416x416 4 solar_panels, 58.9ms\n",
      "Speed: 1.0ms preprocess, 58.9ms inference, 0.9ms postprocess per image at shape (1, 3, 416, 416)\n",
      "\n",
      "0: 416x416 8 solar_panels, 55.6ms\n",
      "Speed: 1.1ms preprocess, 55.6ms inference, 0.7ms postprocess per image at shape (1, 3, 416, 416)\n",
      "\n",
      "0: 416x416 8 solar_panels, 58.4ms\n",
      "Speed: 1.7ms preprocess, 58.4ms inference, 1.1ms postprocess per image at shape (1, 3, 416, 416)\n",
      "\n",
      "0: 416x416 4 solar_panels, 103.4ms\n",
      "Speed: 1.5ms preprocess, 103.4ms inference, 0.6ms postprocess per image at shape (1, 3, 416, 416)\n",
      "\n",
      "0: 416x416 9 solar_panels, 57.6ms\n",
      "Speed: 0.8ms preprocess, 57.6ms inference, 1.3ms postprocess per image at shape (1, 3, 416, 416)\n",
      "\n",
      "0: 416x416 7 solar_panels, 95.3ms\n",
      "Speed: 3.6ms preprocess, 95.3ms inference, 0.8ms postprocess per image at shape (1, 3, 416, 416)\n",
      "\n",
      "0: 416x416 6 solar_panels, 56.6ms\n",
      "Speed: 1.3ms preprocess, 56.6ms inference, 0.7ms postprocess per image at shape (1, 3, 416, 416)\n",
      "\n",
      "0: 416x416 1 solar_panel, 59.3ms\n",
      "Speed: 1.0ms preprocess, 59.3ms inference, 0.7ms postprocess per image at shape (1, 3, 416, 416)\n",
      "\n",
      "0: 416x416 8 solar_panels, 58.8ms\n",
      "Speed: 1.2ms preprocess, 58.8ms inference, 0.8ms postprocess per image at shape (1, 3, 416, 416)\n",
      "\n",
      "0: 416x416 2 solar_panels, 56.9ms\n",
      "Speed: 0.9ms preprocess, 56.9ms inference, 1.1ms postprocess per image at shape (1, 3, 416, 416)\n",
      "\n",
      "0: 416x416 6 solar_panels, 57.7ms\n",
      "Speed: 1.2ms preprocess, 57.7ms inference, 0.7ms postprocess per image at shape (1, 3, 416, 416)\n",
      "\n",
      "0: 416x416 5 solar_panels, 166.8ms\n",
      "Speed: 1.2ms preprocess, 166.8ms inference, 0.9ms postprocess per image at shape (1, 3, 416, 416)\n",
      "\n",
      "0: 416x416 5 solar_panels, 85.6ms\n",
      "Speed: 1.2ms preprocess, 85.6ms inference, 0.7ms postprocess per image at shape (1, 3, 416, 416)\n",
      "\n",
      "0: 416x416 20 solar_panels, 61.5ms\n",
      "Speed: 1.1ms preprocess, 61.5ms inference, 0.7ms postprocess per image at shape (1, 3, 416, 416)\n",
      "\n",
      "0: 416x416 8 solar_panels, 55.5ms\n",
      "Speed: 1.9ms preprocess, 55.5ms inference, 0.6ms postprocess per image at shape (1, 3, 416, 416)\n",
      "\n",
      "0: 416x416 2 solar_panels, 54.2ms\n",
      "Speed: 1.1ms preprocess, 54.2ms inference, 0.6ms postprocess per image at shape (1, 3, 416, 416)\n",
      "\n",
      "0: 416x416 3 solar_panels, 71.4ms\n",
      "Speed: 0.9ms preprocess, 71.4ms inference, 0.7ms postprocess per image at shape (1, 3, 416, 416)\n",
      "\n",
      "0: 416x416 1 solar_panel, 85.1ms\n",
      "Speed: 2.0ms preprocess, 85.1ms inference, 0.8ms postprocess per image at shape (1, 3, 416, 416)\n",
      "\n",
      "0: 416x416 7 solar_panels, 55.7ms\n",
      "Speed: 1.0ms preprocess, 55.7ms inference, 0.6ms postprocess per image at shape (1, 3, 416, 416)\n",
      "\n",
      "0: 416x416 5 solar_panels, 53.7ms\n",
      "Speed: 1.2ms preprocess, 53.7ms inference, 0.6ms postprocess per image at shape (1, 3, 416, 416)\n",
      "\n",
      "0: 416x416 6 solar_panels, 55.5ms\n",
      "Speed: 1.2ms preprocess, 55.5ms inference, 0.6ms postprocess per image at shape (1, 3, 416, 416)\n",
      "\n",
      "0: 416x416 2 solar_panels, 54.9ms\n",
      "Speed: 1.0ms preprocess, 54.9ms inference, 0.6ms postprocess per image at shape (1, 3, 416, 416)\n",
      "\n",
      "0: 416x416 4 solar_panels, 53.7ms\n",
      "Speed: 1.1ms preprocess, 53.7ms inference, 0.6ms postprocess per image at shape (1, 3, 416, 416)\n",
      "\n",
      "0: 416x416 3 solar_panels, 56.6ms\n",
      "Speed: 1.9ms preprocess, 56.6ms inference, 0.6ms postprocess per image at shape (1, 3, 416, 416)\n",
      "\n",
      "0: 416x416 5 solar_panels, 55.0ms\n",
      "Speed: 1.0ms preprocess, 55.0ms inference, 0.7ms postprocess per image at shape (1, 3, 416, 416)\n",
      "\n",
      "0: 416x416 22 solar_panels, 55.2ms\n",
      "Speed: 1.1ms preprocess, 55.2ms inference, 0.8ms postprocess per image at shape (1, 3, 416, 416)\n",
      "\n",
      "0: 416x416 4 solar_panels, 136.8ms\n",
      "Speed: 1.1ms preprocess, 136.8ms inference, 0.7ms postprocess per image at shape (1, 3, 416, 416)\n",
      "\n",
      "0: 416x416 3 solar_panels, 60.0ms\n",
      "Speed: 1.2ms preprocess, 60.0ms inference, 0.6ms postprocess per image at shape (1, 3, 416, 416)\n",
      "\n",
      "0: 416x416 3 solar_panels, 58.4ms\n",
      "Speed: 1.2ms preprocess, 58.4ms inference, 0.8ms postprocess per image at shape (1, 3, 416, 416)\n",
      "\n",
      "0: 416x416 6 solar_panels, 56.3ms\n",
      "Speed: 1.1ms preprocess, 56.3ms inference, 0.8ms postprocess per image at shape (1, 3, 416, 416)\n",
      "\n",
      "0: 416x416 19 solar_panels, 56.3ms\n",
      "Speed: 0.8ms preprocess, 56.3ms inference, 0.8ms postprocess per image at shape (1, 3, 416, 416)\n",
      "\n",
      "0: 416x416 9 solar_panels, 57.8ms\n",
      "Speed: 1.4ms preprocess, 57.8ms inference, 0.6ms postprocess per image at shape (1, 3, 416, 416)\n",
      "\n",
      "0: 416x416 17 solar_panels, 59.4ms\n",
      "Speed: 1.2ms preprocess, 59.4ms inference, 0.8ms postprocess per image at shape (1, 3, 416, 416)\n",
      "\n",
      "0: 416x416 17 solar_panels, 57.3ms\n",
      "Speed: 0.9ms preprocess, 57.3ms inference, 0.8ms postprocess per image at shape (1, 3, 416, 416)\n",
      "\n",
      "0: 416x416 21 solar_panels, 60.7ms\n",
      "Speed: 1.0ms preprocess, 60.7ms inference, 0.9ms postprocess per image at shape (1, 3, 416, 416)\n",
      "\n",
      "0: 416x416 7 solar_panels, 57.0ms\n",
      "Speed: 1.0ms preprocess, 57.0ms inference, 1.2ms postprocess per image at shape (1, 3, 416, 416)\n",
      "\n",
      "0: 416x416 3 solar_panels, 54.7ms\n",
      "Speed: 1.1ms preprocess, 54.7ms inference, 0.7ms postprocess per image at shape (1, 3, 416, 416)\n",
      "\n",
      "0: 416x416 21 solar_panels, 57.2ms\n",
      "Speed: 0.9ms preprocess, 57.2ms inference, 0.7ms postprocess per image at shape (1, 3, 416, 416)\n",
      "\n",
      "0: 416x416 17 solar_panels, 56.6ms\n",
      "Speed: 1.3ms preprocess, 56.6ms inference, 0.7ms postprocess per image at shape (1, 3, 416, 416)\n",
      "\n",
      "0: 416x416 16 solar_panels, 58.5ms\n",
      "Speed: 0.8ms preprocess, 58.5ms inference, 0.8ms postprocess per image at shape (1, 3, 416, 416)\n",
      "\n",
      "0: 416x416 17 solar_panels, 54.8ms\n",
      "Speed: 1.2ms preprocess, 54.8ms inference, 0.7ms postprocess per image at shape (1, 3, 416, 416)\n",
      "\n",
      "0: 416x416 2 solar_panels, 72.6ms\n",
      "Speed: 1.7ms preprocess, 72.6ms inference, 0.7ms postprocess per image at shape (1, 3, 416, 416)\n",
      "\n",
      "0: 416x416 14 solar_panels, 59.5ms\n",
      "Speed: 1.2ms preprocess, 59.5ms inference, 0.7ms postprocess per image at shape (1, 3, 416, 416)\n",
      "\n",
      "0: 416x416 8 solar_panels, 58.1ms\n",
      "Speed: 1.1ms preprocess, 58.1ms inference, 0.6ms postprocess per image at shape (1, 3, 416, 416)\n",
      "\n",
      "0: 416x416 18 solar_panels, 57.0ms\n",
      "Speed: 1.0ms preprocess, 57.0ms inference, 0.7ms postprocess per image at shape (1, 3, 416, 416)\n",
      "\n",
      "0: 416x416 6 solar_panels, 58.6ms\n",
      "Speed: 0.8ms preprocess, 58.6ms inference, 0.7ms postprocess per image at shape (1, 3, 416, 416)\n",
      "\n",
      "0: 416x416 20 solar_panels, 60.8ms\n",
      "Speed: 1.2ms preprocess, 60.8ms inference, 0.7ms postprocess per image at shape (1, 3, 416, 416)\n",
      "\n",
      "0: 416x416 10 solar_panels, 57.7ms\n",
      "Speed: 1.0ms preprocess, 57.7ms inference, 0.6ms postprocess per image at shape (1, 3, 416, 416)\n",
      "\n",
      "0: 416x416 4 solar_panels, 57.1ms\n",
      "Speed: 1.2ms preprocess, 57.1ms inference, 0.6ms postprocess per image at shape (1, 3, 416, 416)\n",
      "\n",
      "0: 416x416 23 solar_panels, 56.8ms\n",
      "Speed: 1.0ms preprocess, 56.8ms inference, 0.7ms postprocess per image at shape (1, 3, 416, 416)\n",
      "\n",
      "0: 416x416 22 solar_panels, 55.0ms\n",
      "Speed: 1.1ms preprocess, 55.0ms inference, 1.0ms postprocess per image at shape (1, 3, 416, 416)\n",
      "\n",
      "0: 416x416 1 solar_panel, 57.0ms\n",
      "Speed: 1.2ms preprocess, 57.0ms inference, 0.7ms postprocess per image at shape (1, 3, 416, 416)\n",
      "\n",
      "0: 416x416 8 solar_panels, 55.6ms\n",
      "Speed: 1.5ms preprocess, 55.6ms inference, 0.8ms postprocess per image at shape (1, 3, 416, 416)\n",
      "\n",
      "0: 416x416 7 solar_panels, 57.6ms\n",
      "Speed: 1.0ms preprocess, 57.6ms inference, 0.9ms postprocess per image at shape (1, 3, 416, 416)\n",
      "\n",
      "0: 416x416 8 solar_panels, 56.7ms\n",
      "Speed: 1.2ms preprocess, 56.7ms inference, 0.8ms postprocess per image at shape (1, 3, 416, 416)\n",
      "\n",
      "0: 416x416 7 solar_panels, 57.2ms\n",
      "Speed: 1.2ms preprocess, 57.2ms inference, 0.8ms postprocess per image at shape (1, 3, 416, 416)\n",
      "\n",
      "0: 416x416 20 solar_panels, 57.8ms\n",
      "Speed: 1.1ms preprocess, 57.8ms inference, 0.8ms postprocess per image at shape (1, 3, 416, 416)\n",
      "\n",
      "0: 416x416 9 solar_panels, 55.8ms\n",
      "Speed: 1.1ms preprocess, 55.8ms inference, 0.7ms postprocess per image at shape (1, 3, 416, 416)\n",
      "\n",
      "0: 416x416 8 solar_panels, 108.0ms\n",
      "Speed: 0.8ms preprocess, 108.0ms inference, 0.7ms postprocess per image at shape (1, 3, 416, 416)\n",
      "\n",
      "0: 416x416 9 solar_panels, 79.1ms\n",
      "Speed: 0.9ms preprocess, 79.1ms inference, 0.7ms postprocess per image at shape (1, 3, 416, 416)\n",
      "\n",
      "0: 416x416 12 solar_panels, 60.2ms\n",
      "Speed: 1.2ms preprocess, 60.2ms inference, 0.7ms postprocess per image at shape (1, 3, 416, 416)\n",
      "\n",
      "0: 416x416 8 solar_panels, 63.2ms\n",
      "Speed: 1.1ms preprocess, 63.2ms inference, 0.6ms postprocess per image at shape (1, 3, 416, 416)\n",
      "\n",
      "0: 416x416 4 solar_panels, 59.4ms\n",
      "Speed: 0.8ms preprocess, 59.4ms inference, 0.7ms postprocess per image at shape (1, 3, 416, 416)\n",
      "\n",
      "0: 416x416 6 solar_panels, 58.7ms\n",
      "Speed: 1.3ms preprocess, 58.7ms inference, 0.7ms postprocess per image at shape (1, 3, 416, 416)\n",
      "\n",
      "0: 416x416 9 solar_panels, 56.0ms\n",
      "Speed: 1.2ms preprocess, 56.0ms inference, 0.9ms postprocess per image at shape (1, 3, 416, 416)\n",
      "\n",
      "0: 416x416 10 solar_panels, 58.7ms\n",
      "Speed: 0.8ms preprocess, 58.7ms inference, 0.9ms postprocess per image at shape (1, 3, 416, 416)\n",
      "\n",
      "0: 416x416 8 solar_panels, 58.9ms\n",
      "Speed: 1.2ms preprocess, 58.9ms inference, 0.7ms postprocess per image at shape (1, 3, 416, 416)\n",
      "\n",
      "0: 416x416 8 solar_panels, 102.8ms\n",
      "Speed: 1.1ms preprocess, 102.8ms inference, 0.7ms postprocess per image at shape (1, 3, 416, 416)\n",
      "\n",
      "0: 416x416 17 solar_panels, 59.4ms\n",
      "Speed: 0.9ms preprocess, 59.4ms inference, 0.7ms postprocess per image at shape (1, 3, 416, 416)\n",
      "\n",
      "0: 416x416 16 solar_panels, 58.2ms\n",
      "Speed: 1.1ms preprocess, 58.2ms inference, 0.8ms postprocess per image at shape (1, 3, 416, 416)\n",
      "\n",
      "0: 416x416 13 solar_panels, 56.9ms\n",
      "Speed: 1.2ms preprocess, 56.9ms inference, 0.8ms postprocess per image at shape (1, 3, 416, 416)\n",
      "\n",
      "0: 416x416 5 solar_panels, 58.4ms\n",
      "Speed: 1.2ms preprocess, 58.4ms inference, 0.9ms postprocess per image at shape (1, 3, 416, 416)\n",
      "\n",
      "0: 416x416 13 solar_panels, 59.2ms\n",
      "Speed: 1.5ms preprocess, 59.2ms inference, 0.9ms postprocess per image at shape (1, 3, 416, 416)\n",
      "\n",
      "0: 416x416 16 solar_panels, 57.6ms\n",
      "Speed: 1.5ms preprocess, 57.6ms inference, 0.7ms postprocess per image at shape (1, 3, 416, 416)\n",
      "\n",
      "0: 416x416 14 solar_panels, 58.6ms\n",
      "Speed: 1.2ms preprocess, 58.6ms inference, 0.7ms postprocess per image at shape (1, 3, 416, 416)\n",
      "\n",
      "0: 416x416 8 solar_panels, 58.5ms\n",
      "Speed: 0.8ms preprocess, 58.5ms inference, 0.7ms postprocess per image at shape (1, 3, 416, 416)\n",
      "\n",
      "0: 416x416 5 solar_panels, 59.7ms\n",
      "Speed: 1.2ms preprocess, 59.7ms inference, 0.7ms postprocess per image at shape (1, 3, 416, 416)\n",
      "\n",
      "0: 416x416 5 solar_panels, 58.7ms\n",
      "Speed: 1.3ms preprocess, 58.7ms inference, 1.0ms postprocess per image at shape (1, 3, 416, 416)\n",
      "\n",
      "0: 416x416 3 solar_panels, 58.2ms\n",
      "Speed: 1.0ms preprocess, 58.2ms inference, 0.8ms postprocess per image at shape (1, 3, 416, 416)\n",
      "\n",
      "0: 416x416 5 solar_panels, 58.2ms\n",
      "Speed: 1.2ms preprocess, 58.2ms inference, 0.7ms postprocess per image at shape (1, 3, 416, 416)\n",
      "\n",
      "0: 416x416 2 solar_panels, 58.3ms\n",
      "Speed: 1.1ms preprocess, 58.3ms inference, 0.7ms postprocess per image at shape (1, 3, 416, 416)\n",
      "\n",
      "0: 416x416 4 solar_panels, 58.7ms\n",
      "Speed: 1.3ms preprocess, 58.7ms inference, 0.7ms postprocess per image at shape (1, 3, 416, 416)\n",
      "\n",
      "0: 416x416 3 solar_panels, 59.4ms\n",
      "Speed: 1.2ms preprocess, 59.4ms inference, 0.7ms postprocess per image at shape (1, 3, 416, 416)\n",
      "\n",
      "0: 416x416 13 solar_panels, 60.2ms\n",
      "Speed: 0.8ms preprocess, 60.2ms inference, 0.9ms postprocess per image at shape (1, 3, 416, 416)\n",
      "\n",
      "0: 416x416 5 solar_panels, 57.3ms\n",
      "Speed: 0.8ms preprocess, 57.3ms inference, 0.7ms postprocess per image at shape (1, 3, 416, 416)\n",
      "\n",
      "0: 416x416 2 solar_panels, 57.4ms\n",
      "Speed: 1.3ms preprocess, 57.4ms inference, 0.8ms postprocess per image at shape (1, 3, 416, 416)\n",
      "\n",
      "0: 416x416 4 solar_panels, 107.9ms\n",
      "Speed: 1.2ms preprocess, 107.9ms inference, 0.7ms postprocess per image at shape (1, 3, 416, 416)\n",
      "\n",
      "0: 416x416 13 solar_panels, 58.2ms\n",
      "Speed: 0.9ms preprocess, 58.2ms inference, 1.1ms postprocess per image at shape (1, 3, 416, 416)\n",
      "\n",
      "0: 416x416 4 solar_panels, 55.4ms\n",
      "Speed: 1.7ms preprocess, 55.4ms inference, 0.7ms postprocess per image at shape (1, 3, 416, 416)\n",
      "\n",
      "0: 416x416 2 solar_panels, 56.3ms\n",
      "Speed: 1.2ms preprocess, 56.3ms inference, 0.6ms postprocess per image at shape (1, 3, 416, 416)\n",
      "\n",
      "0: 416x416 9 solar_panels, 54.9ms\n",
      "Speed: 0.9ms preprocess, 54.9ms inference, 0.8ms postprocess per image at shape (1, 3, 416, 416)\n",
      "\n",
      "0: 416x416 4 solar_panels, 54.7ms\n",
      "Speed: 1.0ms preprocess, 54.7ms inference, 0.7ms postprocess per image at shape (1, 3, 416, 416)\n",
      "\n",
      "0: 416x416 4 solar_panels, 57.1ms\n",
      "Speed: 1.2ms preprocess, 57.1ms inference, 0.7ms postprocess per image at shape (1, 3, 416, 416)\n",
      "\n",
      "0: 416x416 8 solar_panels, 57.2ms\n",
      "Speed: 1.2ms preprocess, 57.2ms inference, 0.8ms postprocess per image at shape (1, 3, 416, 416)\n",
      "\n",
      "0: 416x416 6 solar_panels, 56.9ms\n",
      "Speed: 0.8ms preprocess, 56.9ms inference, 0.9ms postprocess per image at shape (1, 3, 416, 416)\n",
      "\n",
      "0: 416x416 10 solar_panels, 62.2ms\n",
      "Speed: 1.2ms preprocess, 62.2ms inference, 0.9ms postprocess per image at shape (1, 3, 416, 416)\n",
      "\n",
      "0: 416x416 3 solar_panels, 60.7ms\n",
      "Speed: 1.2ms preprocess, 60.7ms inference, 0.8ms postprocess per image at shape (1, 3, 416, 416)\n",
      "\n",
      "0: 416x416 3 solar_panels, 67.1ms\n",
      "Speed: 1.5ms preprocess, 67.1ms inference, 0.8ms postprocess per image at shape (1, 3, 416, 416)\n",
      "\n",
      "0: 416x416 4 solar_panels, 55.2ms\n",
      "Speed: 1.7ms preprocess, 55.2ms inference, 0.7ms postprocess per image at shape (1, 3, 416, 416)\n",
      "\n",
      "0: 416x416 3 solar_panels, 57.0ms\n",
      "Speed: 1.0ms preprocess, 57.0ms inference, 0.6ms postprocess per image at shape (1, 3, 416, 416)\n",
      "\n",
      "0: 416x416 5 solar_panels, 57.2ms\n",
      "Speed: 1.2ms preprocess, 57.2ms inference, 1.2ms postprocess per image at shape (1, 3, 416, 416)\n",
      "\n",
      "0: 416x416 9 solar_panels, 57.4ms\n",
      "Speed: 1.3ms preprocess, 57.4ms inference, 0.8ms postprocess per image at shape (1, 3, 416, 416)\n",
      "\n",
      "0: 416x416 9 solar_panels, 61.2ms\n",
      "Speed: 1.3ms preprocess, 61.2ms inference, 0.7ms postprocess per image at shape (1, 3, 416, 416)\n",
      "\n",
      "0: 416x416 7 solar_panels, 59.5ms\n",
      "Speed: 1.2ms preprocess, 59.5ms inference, 0.8ms postprocess per image at shape (1, 3, 416, 416)\n",
      "\n",
      "0: 416x416 1 solar_panel, 57.2ms\n",
      "Speed: 1.2ms preprocess, 57.2ms inference, 0.4ms postprocess per image at shape (1, 3, 416, 416)\n",
      "\n",
      "0: 416x416 1 solar_panel, 58.3ms\n",
      "Speed: 1.0ms preprocess, 58.3ms inference, 0.7ms postprocess per image at shape (1, 3, 416, 416)\n",
      "\n",
      "0: 416x416 10 solar_panels, 57.4ms\n",
      "Speed: 1.2ms preprocess, 57.4ms inference, 0.7ms postprocess per image at shape (1, 3, 416, 416)\n",
      "\n",
      "0: 416x416 2 solar_panels, 59.8ms\n",
      "Speed: 1.0ms preprocess, 59.8ms inference, 0.7ms postprocess per image at shape (1, 3, 416, 416)\n",
      "\n",
      "0: 416x416 8 solar_panels, 57.6ms\n",
      "Speed: 1.2ms preprocess, 57.6ms inference, 0.9ms postprocess per image at shape (1, 3, 416, 416)\n",
      "\n",
      "0: 416x416 1 solar_panel, 56.8ms\n",
      "Speed: 0.8ms preprocess, 56.8ms inference, 0.7ms postprocess per image at shape (1, 3, 416, 416)\n",
      "\n",
      "0: 416x416 2 solar_panels, 57.5ms\n",
      "Speed: 1.2ms preprocess, 57.5ms inference, 0.7ms postprocess per image at shape (1, 3, 416, 416)\n",
      "\n",
      "0: 416x416 7 solar_panels, 57.3ms\n",
      "Speed: 1.4ms preprocess, 57.3ms inference, 0.7ms postprocess per image at shape (1, 3, 416, 416)\n",
      "\n",
      "0: 416x416 16 solar_panels, 56.9ms\n",
      "Speed: 1.0ms preprocess, 56.9ms inference, 0.7ms postprocess per image at shape (1, 3, 416, 416)\n",
      "mAP50: 0.7052408968043626\n",
      "IoU=0.1: Precision=0.74, Recall=0.75, F1-Score=0.74\n",
      "IoU=0.3: Precision=0.74, Recall=0.75, F1-Score=0.74\n",
      "IoU=0.5: Precision=0.74, Recall=0.75, F1-Score=0.74\n",
      "IoU=0.7: Precision=0.74, Recall=0.75, F1-Score=0.74\n",
      "IoU=0.9: Precision=0.74, Recall=0.75, F1-Score=0.74\n"
     ]
    }
   ],
   "source": [
    "test_image_paths = [\n",
    "    os.path.join(TEST_IMAGES_DIR, filename) for filename in test_images\n",
    "]\n",
    "test_label_paths = [\n",
    "    os.path.join(TEST_LABELS_DIR, filename) for filename in test_labels\n",
    "]\n",
    "\n",
    "\n",
    "def load_ground_truth_boxes(label_path, image_width, image_height):\n",
    "    gt_boxes = []\n",
    "    with open(label_path, \"r\") as f:\n",
    "        for line in f.readlines():\n",
    "            class_id, x_center, y_center, width, height = map(float, line.strip().split())\n",
    "            x1 = (x_center - width / 2) * image_width\n",
    "            y1 = (y_center - height / 2) * image_height\n",
    "            x2 = (x_center + width / 2) * image_width\n",
    "            y2 = (y_center + height / 2) * image_height\n",
    "            gt_boxes.append([x1, y1, x2, y2])\n",
    "    return np.array(gt_boxes)\n",
    "\n",
    "all_ground_truth_boxes = []\n",
    "all_predicted_boxes = []\n",
    "all_confidence_scores = []\n",
    "\n",
    "for image_path, label_path in zip(test_image_paths, test_label_paths):\n",
    "    image = cv2.imread(image_path)\n",
    "    h, w, _ = image.shape\n",
    "\n",
    "    gt_boxes = load_ground_truth_boxes(label_path, w, h)\n",
    "    all_ground_truth_boxes.append(gt_boxes)\n",
    "\n",
    "    results = best_model.predict(image)\n",
    "\n",
    "    if len(results) > 0:\n",
    "        result = results[0]  \n",
    "        if result.boxes:  \n",
    "            boxes = result.boxes.xyxy.cpu().numpy()  \n",
    "            confidence = result.boxes.conf.cpu().numpy()  \n",
    "            class_id = result.boxes.cls.cpu().numpy().astype(int)  \n",
    "            all_predicted_boxes.append(boxes)\n",
    "            all_confidence_scores.append(confidence)\n",
    "        else:\n",
    "            all_predicted_boxes.append(np.empty((0, 4)))  \n",
    "            all_confidence_scores.append(np.empty(0))  \n",
    "    else:\n",
    "        all_predicted_boxes.append(np.empty((0, 4)))  \n",
    "        all_confidence_scores.append(np.empty(0))  \n",
    "\n",
    "from sklearn.metrics import average_precision_score\n",
    "\n",
    "import numpy as np\n",
    "\n",
    "def compute_iou(box1, box2):\n",
    "    \"\"\"Compute IoU between two boxes.\"\"\"\n",
    "    x1 = max(box1[0], box2[0])\n",
    "    y1 = max(box1[1], box2[1])\n",
    "    x2 = min(box1[2], box2[2])\n",
    "    y2 = min(box1[3], box2[3])\n",
    "\n",
    "    inter_area = max(0, x2 - x1) * max(0, y2 - y1)\n",
    "\n",
    "    box1_area = (box1[2] - box1[0]) * (box1[3] - box1[1])\n",
    "    box2_area = (box2[2] - box2[0]) * (box2[3] - box2[1])\n",
    "    union_area = box1_area + box2_area - inter_area\n",
    "\n",
    "    return inter_area / union_area if union_area > 0 else 0\n",
    "\n",
    "\n",
    "def compute_map50(gt_boxes_list, pred_boxes_list, confidence_scores_list, iou_threshold=0.5):\n",
    "\n",
    "    all_precisions = []\n",
    "\n",
    "    for gt_boxes, pred_boxes, confidences in zip(gt_boxes_list, pred_boxes_list, confidence_scores_list):\n",
    "        if len(pred_boxes) == 0 or len(gt_boxes) == 0:\n",
    "            all_precisions.append(0)\n",
    "            continue\n",
    "        sorted_indices = np.argsort(-confidences)\n",
    "        pred_boxes = pred_boxes[sorted_indices]\n",
    "        confidences = confidences[sorted_indices]\n",
    "\n",
    "        tp = np.zeros(len(pred_boxes))\n",
    "        fp = np.zeros(len(pred_boxes))\n",
    "        matched_gt = set()\n",
    "\n",
    "        for i, pred_box in enumerate(pred_boxes):\n",
    "            best_iou = 0\n",
    "            best_gt_idx = -1\n",
    "\n",
    "            for j, gt_box in enumerate(gt_boxes):\n",
    "                if j in matched_gt:\n",
    "                    continue\n",
    "                iou = compute_iou(pred_box, gt_box)\n",
    "                if iou > best_iou:\n",
    "                    best_iou = iou\n",
    "                    best_gt_idx = j\n",
    "\n",
    "            if best_iou >= iou_threshold:\n",
    "                tp[i] = 1\n",
    "                matched_gt.add(best_gt_idx)\n",
    "            else:\n",
    "                fp[i] = 1\n",
    "\n",
    "        tp_cumsum = np.cumsum(tp)\n",
    "        fp_cumsum = np.cumsum(fp)\n",
    "\n",
    "        precisions = tp_cumsum / (tp_cumsum + fp_cumsum + 1e-6)\n",
    "        recalls = tp_cumsum / (len(gt_boxes) + 1e-6)\n",
    "\n",
    "        precisions = np.concatenate(([0], precisions, [0]))\n",
    "        recalls = np.concatenate(([0], recalls, [1]))\n",
    "\n",
    "        precisions = np.maximum.accumulate(precisions[::-1])[::-1]\n",
    "\n",
    "        ap = np.sum((recalls[1:] - recalls[:-1]) * precisions[1:])\n",
    "        all_precisions.append(ap)\n",
    "\n",
    "    return np.mean(all_precisions)\n",
    "\n",
    "mAP50 = compute_map50(\n",
    "    all_ground_truth_boxes,\n",
    "    all_predicted_boxes,\n",
    "    all_confidence_scores,\n",
    "    iou_threshold=0.5,\n",
    ")\n",
    "\n",
    "print(f\"mAP50: {mAP50}\")\n",
    "\n",
    "import supervision as sv\n",
    "\n",
    "ground_truth_detections = [\n",
    "    sv.Detections(\n",
    "        xyxy=gt_boxes,\n",
    "        class_id=np.zeros(len(gt_boxes), dtype=int)  \n",
    "    )\n",
    "    for gt_boxes in all_ground_truth_boxes\n",
    "]\n",
    "\n",
    "predicted_detections = [\n",
    "    sv.Detections(\n",
    "        xyxy=pred_boxes,\n",
    "        confidence=confidences,\n",
    "        class_id=np.zeros(len(pred_boxes), dtype=int)  \n",
    "    )\n",
    "    for pred_boxes, confidences in zip(all_predicted_boxes, all_confidence_scores)\n",
    "]\n",
    "\n",
    "class_names = [\"solar_panel\"] \n",
    "\n",
    "confusion_matrix = sv.ConfusionMatrix.from_detections(\n",
    "    predictions=predicted_detections,\n",
    "    targets=ground_truth_detections,\n",
    "    classes=class_names,\n",
    ")\n",
    "\n",
    "def compute_prf(conf_matrix):\n",
    "    tp = conf_matrix.matrix[0, 0]  \n",
    "    fp = conf_matrix.matrix[0, 1:].sum()  \n",
    "    fn = conf_matrix.matrix[1:, 0].sum()  \n",
    "    precision = tp / (tp + fp) if tp + fp > 0 else 0\n",
    "    recall = tp / (tp + fn) if tp + fn > 0 else 0\n",
    "    f1_score = (\n",
    "        2 * (precision * recall) / (precision + recall) if precision + recall > 0 else 0\n",
    "    )\n",
    "\n",
    "    return precision, recall, f1_score\n",
    "\n",
    "iou_thresholds = [0.1, 0.3, 0.5, 0.7, 0.9]\n",
    "for iou_threshold in iou_thresholds:\n",
    "    confusion_matrix.iou_threshold = iou_threshold\n",
    "    precision, recall, f1 = compute_prf(confusion_matrix)\n",
    "    print(\n",
    "        f\"IoU={iou_threshold}: Precision={precision:.2f}, Recall={recall:.2f}, F1-Score={f1:.2f}\"\n",
    "    )\n"
   ]
  },
  {
   "cell_type": "code",
   "execution_count": null,
   "metadata": {},
   "outputs": [
    {
     "name": "stdout",
     "output_type": "stream",
     "text": [
      "Precision, Recall, F1-score Table:\n",
      "IoU=0.1\n",
      "  Confidence=0.1: Precision=0.7801992528019925, Recall=0.7905362776025237, F1=0.7853337511751801\n",
      "  Confidence=0.3: Precision=0.7801992528019925, Recall=0.7905362776025237, F1=0.7853337511751801\n",
      "  Confidence=0.5: Precision=0.701120797011208, Recall=0.8790007806401249, F1=0.7800484932455836\n",
      "  Confidence=0.7: Precision=0.5610211706102117, Recall=0.95042194092827, F1=0.7055599060297572\n",
      "  Confidence=0.9: Precision=0.09464508094645081, Recall=1.0, F1=0.17292377701934017\n",
      "IoU=0.3\n",
      "  Confidence=0.1: Precision=0.7752179327521793, Recall=0.7854889589905363, F1=0.7803196490128487\n",
      "  Confidence=0.3: Precision=0.7752179327521793, Recall=0.7854889589905363, F1=0.7803196490128487\n",
      "  Confidence=0.5: Precision=0.699252801992528, Recall=0.8766588602654176, F1=0.7779702112919986\n",
      "  Confidence=0.7: Precision=0.5603985056039851, Recall=0.9493670886075949, F1=0.7047768206734534\n",
      "  Confidence=0.9: Precision=0.09464508094645081, Recall=1.0, F1=0.17292377701934017\n",
      "IoU=0.5\n",
      "  Confidence=0.1: Precision=0.7359900373599004, Recall=0.7457413249211357, F1=0.7408335944844876\n",
      "  Confidence=0.3: Precision=0.7359900373599004, Recall=0.7457413249211357, F1=0.7408335944844876\n",
      "  Confidence=0.5: Precision=0.6674968866749689, Recall=0.8368462138953943, F1=0.742639418081053\n",
      "  Confidence=0.7: Precision=0.537359900373599, Recall=0.9103375527426161, F1=0.6758026624902116\n",
      "  Confidence=0.9: Precision=0.09464508094645081, Recall=1.0, F1=0.17292377701934017\n",
      "IoU=0.7\n",
      "  Confidence=0.1: Precision=0.6338729763387297, Recall=0.6422712933753943, F1=0.6380445001566907\n",
      "  Confidence=0.3: Precision=0.6338729763387297, Recall=0.6422712933753943, F1=0.6380445001566907\n",
      "  Confidence=0.5: Precision=0.5940224159402242, Recall=0.7447306791569087, F1=0.6608936612400416\n",
      "  Confidence=0.7: Precision=0.5, Recall=0.8470464135021097, F1=0.6288175411119813\n",
      "  Confidence=0.9: Precision=0.09090909090909091, Recall=0.9605263157894737, F1=0.16609783845278728\n",
      "IoU=0.9\n",
      "  Confidence=0.1: Precision=0.14383561643835616, Recall=0.14574132492113565, F1=0.14478219993732372\n",
      "  Confidence=0.3: Precision=0.14383561643835616, Recall=0.14574132492113565, F1=0.14478219993732372\n",
      "  Confidence=0.5: Precision=0.14259028642590285, Recall=0.17876658860265418, F1=0.15864218912365777\n",
      "  Confidence=0.7: Precision=0.13636363636363635, Recall=0.2310126582278481, F1=0.17149569303054035\n",
      "  Confidence=0.9: Precision=0.053549190535491904, Recall=0.5657894736842105, F1=0.09783845278725824\n"
     ]
    }
   ],
   "source": [
    "import supervision as sv\n",
    "\n",
    "def create_prf_table(iou_thresholds, confidence_thresholds):\n",
    "    table = []\n",
    "    for iou_threshold in iou_thresholds:\n",
    "        row = []\n",
    "        for confidence_threshold in confidence_thresholds:\n",
    "            \n",
    "            ground_truth_detections = [\n",
    "                sv.Detections(\n",
    "                    xyxy=gt_boxes,\n",
    "                    class_id=np.zeros(len(gt_boxes), dtype=int)  \n",
    "                )\n",
    "                for gt_boxes in all_ground_truth_boxes\n",
    "            ]\n",
    "\n",
    "            predicted_detections = [\n",
    "                sv.Detections(\n",
    "                    xyxy=pred_boxes,\n",
    "                    confidence=confidences,\n",
    "                    class_id=np.zeros(len(pred_boxes), dtype=int) \n",
    "                )\n",
    "                for pred_boxes, confidences in zip(all_predicted_boxes, all_confidence_scores)\n",
    "            ]\n",
    "\n",
    "\n",
    "            filtered_predicted_detections = []\n",
    "            for pred_detection in predicted_detections:\n",
    "                filtered_boxes = pred_detection.xyxy[pred_detection.confidence >= confidence_threshold]\n",
    "                filtered_confidences = pred_detection.confidence[pred_detection.confidence >= confidence_threshold]\n",
    "                filtered_class_id = np.zeros(len(filtered_boxes), dtype=int)\n",
    "                filtered_predicted_detections.append(\n",
    "                    sv.Detections(xyxy=filtered_boxes, confidence=filtered_confidences, class_id=filtered_class_id)\n",
    "                )\n",
    "\n",
    "            \n",
    "            class_names = [\"solar_panel\"]  \n",
    "            confusion_matrix = sv.ConfusionMatrix.from_detections(\n",
    "                predictions=filtered_predicted_detections,\n",
    "                targets=ground_truth_detections,\n",
    "                classes=class_names,\n",
    "                iou_threshold=iou_threshold,\n",
    "            )\n",
    "\n",
    "            precision, recall, f1 = compute_prf(confusion_matrix)\n",
    "            row.append((precision, recall, f1))\n",
    "        table.append(row)\n",
    "\n",
    "    return table\n",
    "\n",
    "iou_thresholds = [0.1, 0.3, 0.5, 0.7, 0.9]\n",
    "confidence_thresholds = [0.1, 0.3, 0.5, 0.7, 0.9]\n",
    "\n",
    "prf_table = create_prf_table(iou_thresholds, confidence_thresholds)\n",
    "\n",
    "print(\"Precision, Recall, F1-score Table:\")\n",
    "for i, row in enumerate(prf_table):\n",
    "    print(f\"IoU={iou_thresholds[i]}\")\n",
    "    for j, (precision, recall, f1) in enumerate(row):\n",
    "        print(\n",
    "            f\"  Confidence={confidence_thresholds[j]}: Precision={precision}, Recall={recall}, F1={f1}\"\n",
    "        )\n"
   ]
  }
 ],
 "metadata": {
  "kernelspec": {
   "display_name": "base",
   "language": "python",
   "name": "python3"
  },
  "language_info": {
   "codemirror_mode": {
    "name": "ipython",
    "version": 3
   },
   "file_extension": ".py",
   "mimetype": "text/x-python",
   "name": "python",
   "nbconvert_exporter": "python",
   "pygments_lexer": "ipython3",
   "version": "3.11.5"
  }
 },
 "nbformat": 4,
 "nbformat_minor": 2
}
